{
 "cells": [
  {
   "cell_type": "markdown",
   "metadata": {},
   "source": [
    "# データサイエンス100本ノック（構造化データ加工編） - SQL"
   ]
  },
  {
   "cell_type": "markdown",
   "metadata": {},
   "source": [
    "## はじめに\n",
    "- データベースはPostgreSQL13です\n",
    "- 初めに以下のセルを実行してください\n",
    "- セルに %%sql と記載することでSQLを発行することができます\n",
    "- jupyterからはdescribeコマンドによるテーブル構造の確認ができないため、テーブル構造を確認する場合はlimitを指定したSELECTなどで代用してください\n",
    "- 使い慣れたSQLクライアントを使っても問題ありません（接続情報は以下の通り）\n",
    "  - IPアドレス：Docker Desktopの場合はlocalhost、Docker toolboxの場合は192.168.99.100\n",
    "  - Port:5432\n",
    "  - database名: dsdojo_db\n",
    "  - ユーザ名：padawan\n",
    "  - パスワード:padawan12345\n",
    "- 大量出力を行うとJupyterが固まることがあるため、出力件数は制限することを推奨します（設問にも出力件数を記載）\n",
    "    - 結果確認のために表示させる量を適切にコントロールし、作業を軽快にすすめる技術もデータ加工には求められます\n",
    "- 大量結果が出力された場合は、ファイルが重くなり以降開けなくなることもあります\n",
    "    - その場合、作業結果は消えますがファイルをGitHubから取り直してください\n",
    "    - vimエディタなどで大量出力範囲を削除することもできます\n",
    "- 名前、住所等はダミーデータであり、実在するものではありません"
   ]
  },
  {
   "cell_type": "code",
   "execution_count": 1,
   "metadata": {},
   "outputs": [
    {
     "data": {
      "text/plain": [
       "'Connected: padawan@dsdojo_db'"
      ]
     },
     "execution_count": 1,
     "metadata": {},
     "output_type": "execute_result"
    }
   ],
   "source": [
    "%load_ext sql\n",
    "import os\n",
    "\n",
    "pgconfig = {\n",
    "    'host': 'db',\n",
    "    'port': os.environ['PG_PORT'],\n",
    "    'database': os.environ['PG_DATABASE'],\n",
    "    'user': os.environ['PG_USER'],\n",
    "    'password': os.environ['PG_PASSWORD'],\n",
    "}\n",
    "dsl = 'postgresql://{user}:{password}@{host}:{port}/{database}'.format(**pgconfig)\n",
    "\n",
    "# MagicコマンドでSQLを書くための設定\n",
    "%sql $dsl"
   ]
  },
  {
   "cell_type": "markdown",
   "metadata": {},
   "source": [
    "# 使い方\n",
    "- セルの先頭に%%sqlと記載し、２行目以降にSQLを記述することでJupyterからPostgreSQLに対しSQLを実行できます。"
   ]
  },
  {
   "cell_type": "code",
   "execution_count": 2,
   "metadata": {},
   "outputs": [
    {
     "name": "stdout",
     "output_type": "stream",
     "text": [
      " * postgresql://padawan:***@db:5432/dsdojo_db\n",
      "1 rows affected.\n"
     ]
    },
    {
     "data": {
      "text/html": [
       "<table>\n",
       "    <thead>\n",
       "        <tr>\n",
       "            <th>sample</th>\n",
       "        </tr>\n",
       "    </thead>\n",
       "    <tbody>\n",
       "        <tr>\n",
       "            <td>このように実行できます</td>\n",
       "        </tr>\n",
       "    </tbody>\n",
       "</table>"
      ],
      "text/plain": [
       "[('このように実行できます',)]"
      ]
     },
     "execution_count": 2,
     "metadata": {},
     "output_type": "execute_result"
    }
   ],
   "source": [
    "%%sql\n",
    "select 'このように実行できます' as sample"
   ]
  },
  {
   "cell_type": "markdown",
   "metadata": {},
   "source": [
    "# データ加工100本ノック"
   ]
  },
  {
   "cell_type": "markdown",
   "metadata": {},
   "source": [
    "---\n",
    "> S-001: レシート明細テーブル（receipt）から全項目の先頭10件を表示し、どのようなデータを保有しているか目視で確認せよ。\n"
   ]
  },
  {
   "cell_type": "code",
   "execution_count": 3,
   "metadata": {},
   "outputs": [
    {
     "name": "stdout",
     "output_type": "stream",
     "text": [
      " * postgresql://padawan:***@db:5432/dsdojo_db\n",
      "10 rows affected.\n"
     ]
    },
    {
     "data": {
      "text/html": [
       "<table>\n",
       "    <thead>\n",
       "        <tr>\n",
       "            <th>sales_ymd</th>\n",
       "            <th>sales_epoch</th>\n",
       "            <th>store_cd</th>\n",
       "            <th>receipt_no</th>\n",
       "            <th>receipt_sub_no</th>\n",
       "            <th>customer_id</th>\n",
       "            <th>product_cd</th>\n",
       "            <th>quantity</th>\n",
       "            <th>amount</th>\n",
       "        </tr>\n",
       "    </thead>\n",
       "    <tbody>\n",
       "        <tr>\n",
       "            <td>20181103</td>\n",
       "            <td>1541203200</td>\n",
       "            <td>S14006</td>\n",
       "            <td>112</td>\n",
       "            <td>1</td>\n",
       "            <td>CS006214000001</td>\n",
       "            <td>P070305012</td>\n",
       "            <td>1</td>\n",
       "            <td>158</td>\n",
       "        </tr>\n",
       "        <tr>\n",
       "            <td>20181118</td>\n",
       "            <td>1542499200</td>\n",
       "            <td>S13008</td>\n",
       "            <td>1132</td>\n",
       "            <td>2</td>\n",
       "            <td>CS008415000097</td>\n",
       "            <td>P070701017</td>\n",
       "            <td>1</td>\n",
       "            <td>81</td>\n",
       "        </tr>\n",
       "        <tr>\n",
       "            <td>20170712</td>\n",
       "            <td>1499817600</td>\n",
       "            <td>S14028</td>\n",
       "            <td>1102</td>\n",
       "            <td>1</td>\n",
       "            <td>CS028414000014</td>\n",
       "            <td>P060101005</td>\n",
       "            <td>1</td>\n",
       "            <td>170</td>\n",
       "        </tr>\n",
       "        <tr>\n",
       "            <td>20190205</td>\n",
       "            <td>1549324800</td>\n",
       "            <td>S14042</td>\n",
       "            <td>1132</td>\n",
       "            <td>1</td>\n",
       "            <td>ZZ000000000000</td>\n",
       "            <td>P050301001</td>\n",
       "            <td>1</td>\n",
       "            <td>25</td>\n",
       "        </tr>\n",
       "        <tr>\n",
       "            <td>20180821</td>\n",
       "            <td>1534809600</td>\n",
       "            <td>S14025</td>\n",
       "            <td>1102</td>\n",
       "            <td>2</td>\n",
       "            <td>CS025415000050</td>\n",
       "            <td>P060102007</td>\n",
       "            <td>1</td>\n",
       "            <td>90</td>\n",
       "        </tr>\n",
       "        <tr>\n",
       "            <td>20190605</td>\n",
       "            <td>1559692800</td>\n",
       "            <td>S13003</td>\n",
       "            <td>1112</td>\n",
       "            <td>1</td>\n",
       "            <td>CS003515000195</td>\n",
       "            <td>P050102002</td>\n",
       "            <td>1</td>\n",
       "            <td>138</td>\n",
       "        </tr>\n",
       "        <tr>\n",
       "            <td>20181205</td>\n",
       "            <td>1543968000</td>\n",
       "            <td>S14024</td>\n",
       "            <td>1102</td>\n",
       "            <td>2</td>\n",
       "            <td>CS024514000042</td>\n",
       "            <td>P080101005</td>\n",
       "            <td>1</td>\n",
       "            <td>30</td>\n",
       "        </tr>\n",
       "        <tr>\n",
       "            <td>20190922</td>\n",
       "            <td>1569110400</td>\n",
       "            <td>S14040</td>\n",
       "            <td>1102</td>\n",
       "            <td>1</td>\n",
       "            <td>CS040415000178</td>\n",
       "            <td>P070501004</td>\n",
       "            <td>1</td>\n",
       "            <td>128</td>\n",
       "        </tr>\n",
       "        <tr>\n",
       "            <td>20170504</td>\n",
       "            <td>1493856000</td>\n",
       "            <td>S13020</td>\n",
       "            <td>1112</td>\n",
       "            <td>2</td>\n",
       "            <td>ZZ000000000000</td>\n",
       "            <td>P071302010</td>\n",
       "            <td>1</td>\n",
       "            <td>770</td>\n",
       "        </tr>\n",
       "        <tr>\n",
       "            <td>20191010</td>\n",
       "            <td>1570665600</td>\n",
       "            <td>S14027</td>\n",
       "            <td>1102</td>\n",
       "            <td>1</td>\n",
       "            <td>CS027514000015</td>\n",
       "            <td>P071101003</td>\n",
       "            <td>1</td>\n",
       "            <td>680</td>\n",
       "        </tr>\n",
       "    </tbody>\n",
       "</table>"
      ],
      "text/plain": [
       "[(20181103, 1541203200, 'S14006', 112, 1, 'CS006214000001', 'P070305012', 1, 158),\n",
       " (20181118, 1542499200, 'S13008', 1132, 2, 'CS008415000097', 'P070701017', 1, 81),\n",
       " (20170712, 1499817600, 'S14028', 1102, 1, 'CS028414000014', 'P060101005', 1, 170),\n",
       " (20190205, 1549324800, 'S14042', 1132, 1, 'ZZ000000000000', 'P050301001', 1, 25),\n",
       " (20180821, 1534809600, 'S14025', 1102, 2, 'CS025415000050', 'P060102007', 1, 90),\n",
       " (20190605, 1559692800, 'S13003', 1112, 1, 'CS003515000195', 'P050102002', 1, 138),\n",
       " (20181205, 1543968000, 'S14024', 1102, 2, 'CS024514000042', 'P080101005', 1, 30),\n",
       " (20190922, 1569110400, 'S14040', 1102, 1, 'CS040415000178', 'P070501004', 1, 128),\n",
       " (20170504, 1493856000, 'S13020', 1112, 2, 'ZZ000000000000', 'P071302010', 1, 770),\n",
       " (20191010, 1570665600, 'S14027', 1102, 1, 'CS027514000015', 'P071101003', 1, 680)]"
      ]
     },
     "execution_count": 3,
     "metadata": {},
     "output_type": "execute_result"
    }
   ],
   "source": [
    "%%sql\n",
    "\n",
    "SELECT * FROM receipt LIMIT 10"
   ]
  },
  {
   "cell_type": "markdown",
   "metadata": {},
   "source": [
    "---\n",
    "> S-002: レシート明細のテーブル（receipt）から売上日（sales_ymd）、顧客ID（customer_id）、商品コード（product_cd）、売上金額（amount）の順に列を指定し、10件表示させよ。"
   ]
  },
  {
   "cell_type": "code",
   "execution_count": 4,
   "metadata": {},
   "outputs": [
    {
     "name": "stdout",
     "output_type": "stream",
     "text": [
      " * postgresql://padawan:***@db:5432/dsdojo_db\n",
      "10 rows affected.\n"
     ]
    },
    {
     "data": {
      "text/html": [
       "<table>\n",
       "    <thead>\n",
       "        <tr>\n",
       "            <th>sales_ymd</th>\n",
       "            <th>customer_id</th>\n",
       "            <th>product_cd</th>\n",
       "            <th>amount</th>\n",
       "        </tr>\n",
       "    </thead>\n",
       "    <tbody>\n",
       "        <tr>\n",
       "            <td>20181103</td>\n",
       "            <td>CS006214000001</td>\n",
       "            <td>P070305012</td>\n",
       "            <td>158</td>\n",
       "        </tr>\n",
       "        <tr>\n",
       "            <td>20181118</td>\n",
       "            <td>CS008415000097</td>\n",
       "            <td>P070701017</td>\n",
       "            <td>81</td>\n",
       "        </tr>\n",
       "        <tr>\n",
       "            <td>20170712</td>\n",
       "            <td>CS028414000014</td>\n",
       "            <td>P060101005</td>\n",
       "            <td>170</td>\n",
       "        </tr>\n",
       "        <tr>\n",
       "            <td>20190205</td>\n",
       "            <td>ZZ000000000000</td>\n",
       "            <td>P050301001</td>\n",
       "            <td>25</td>\n",
       "        </tr>\n",
       "        <tr>\n",
       "            <td>20180821</td>\n",
       "            <td>CS025415000050</td>\n",
       "            <td>P060102007</td>\n",
       "            <td>90</td>\n",
       "        </tr>\n",
       "        <tr>\n",
       "            <td>20190605</td>\n",
       "            <td>CS003515000195</td>\n",
       "            <td>P050102002</td>\n",
       "            <td>138</td>\n",
       "        </tr>\n",
       "        <tr>\n",
       "            <td>20181205</td>\n",
       "            <td>CS024514000042</td>\n",
       "            <td>P080101005</td>\n",
       "            <td>30</td>\n",
       "        </tr>\n",
       "        <tr>\n",
       "            <td>20190922</td>\n",
       "            <td>CS040415000178</td>\n",
       "            <td>P070501004</td>\n",
       "            <td>128</td>\n",
       "        </tr>\n",
       "        <tr>\n",
       "            <td>20170504</td>\n",
       "            <td>ZZ000000000000</td>\n",
       "            <td>P071302010</td>\n",
       "            <td>770</td>\n",
       "        </tr>\n",
       "        <tr>\n",
       "            <td>20191010</td>\n",
       "            <td>CS027514000015</td>\n",
       "            <td>P071101003</td>\n",
       "            <td>680</td>\n",
       "        </tr>\n",
       "    </tbody>\n",
       "</table>"
      ],
      "text/plain": [
       "[(20181103, 'CS006214000001', 'P070305012', 158),\n",
       " (20181118, 'CS008415000097', 'P070701017', 81),\n",
       " (20170712, 'CS028414000014', 'P060101005', 170),\n",
       " (20190205, 'ZZ000000000000', 'P050301001', 25),\n",
       " (20180821, 'CS025415000050', 'P060102007', 90),\n",
       " (20190605, 'CS003515000195', 'P050102002', 138),\n",
       " (20181205, 'CS024514000042', 'P080101005', 30),\n",
       " (20190922, 'CS040415000178', 'P070501004', 128),\n",
       " (20170504, 'ZZ000000000000', 'P071302010', 770),\n",
       " (20191010, 'CS027514000015', 'P071101003', 680)]"
      ]
     },
     "execution_count": 4,
     "metadata": {},
     "output_type": "execute_result"
    }
   ],
   "source": [
    "%%sql\n",
    "\n",
    "SELECT sales_ymd, customer_id, product_cd, amount FROM receipt LIMIT 10"
   ]
  },
  {
   "cell_type": "markdown",
   "metadata": {},
   "source": [
    "---\n",
    "> S-003: レシート明細のテーブル（receipt）から売上日（sales_ymd）、顧客ID（customer_id）、商品コード（product_cd）、売上金額（amount）の順に列を指定し、10件表示させよ。ただし、sales_ymdはsales_dateに項目名を変更しながら抽出すること。"
   ]
  },
  {
   "cell_type": "code",
   "execution_count": 5,
   "metadata": {},
   "outputs": [
    {
     "name": "stdout",
     "output_type": "stream",
     "text": [
      " * postgresql://padawan:***@db:5432/dsdojo_db\n",
      "10 rows affected.\n"
     ]
    },
    {
     "data": {
      "text/html": [
       "<table>\n",
       "    <thead>\n",
       "        <tr>\n",
       "            <th>sales_date</th>\n",
       "            <th>customer_id</th>\n",
       "            <th>product_cd</th>\n",
       "            <th>amount</th>\n",
       "        </tr>\n",
       "    </thead>\n",
       "    <tbody>\n",
       "        <tr>\n",
       "            <td>20181103</td>\n",
       "            <td>CS006214000001</td>\n",
       "            <td>P070305012</td>\n",
       "            <td>158</td>\n",
       "        </tr>\n",
       "        <tr>\n",
       "            <td>20181118</td>\n",
       "            <td>CS008415000097</td>\n",
       "            <td>P070701017</td>\n",
       "            <td>81</td>\n",
       "        </tr>\n",
       "        <tr>\n",
       "            <td>20170712</td>\n",
       "            <td>CS028414000014</td>\n",
       "            <td>P060101005</td>\n",
       "            <td>170</td>\n",
       "        </tr>\n",
       "        <tr>\n",
       "            <td>20190205</td>\n",
       "            <td>ZZ000000000000</td>\n",
       "            <td>P050301001</td>\n",
       "            <td>25</td>\n",
       "        </tr>\n",
       "        <tr>\n",
       "            <td>20180821</td>\n",
       "            <td>CS025415000050</td>\n",
       "            <td>P060102007</td>\n",
       "            <td>90</td>\n",
       "        </tr>\n",
       "        <tr>\n",
       "            <td>20190605</td>\n",
       "            <td>CS003515000195</td>\n",
       "            <td>P050102002</td>\n",
       "            <td>138</td>\n",
       "        </tr>\n",
       "        <tr>\n",
       "            <td>20181205</td>\n",
       "            <td>CS024514000042</td>\n",
       "            <td>P080101005</td>\n",
       "            <td>30</td>\n",
       "        </tr>\n",
       "        <tr>\n",
       "            <td>20190922</td>\n",
       "            <td>CS040415000178</td>\n",
       "            <td>P070501004</td>\n",
       "            <td>128</td>\n",
       "        </tr>\n",
       "        <tr>\n",
       "            <td>20170504</td>\n",
       "            <td>ZZ000000000000</td>\n",
       "            <td>P071302010</td>\n",
       "            <td>770</td>\n",
       "        </tr>\n",
       "        <tr>\n",
       "            <td>20191010</td>\n",
       "            <td>CS027514000015</td>\n",
       "            <td>P071101003</td>\n",
       "            <td>680</td>\n",
       "        </tr>\n",
       "    </tbody>\n",
       "</table>"
      ],
      "text/plain": [
       "[(20181103, 'CS006214000001', 'P070305012', 158),\n",
       " (20181118, 'CS008415000097', 'P070701017', 81),\n",
       " (20170712, 'CS028414000014', 'P060101005', 170),\n",
       " (20190205, 'ZZ000000000000', 'P050301001', 25),\n",
       " (20180821, 'CS025415000050', 'P060102007', 90),\n",
       " (20190605, 'CS003515000195', 'P050102002', 138),\n",
       " (20181205, 'CS024514000042', 'P080101005', 30),\n",
       " (20190922, 'CS040415000178', 'P070501004', 128),\n",
       " (20170504, 'ZZ000000000000', 'P071302010', 770),\n",
       " (20191010, 'CS027514000015', 'P071101003', 680)]"
      ]
     },
     "execution_count": 5,
     "metadata": {},
     "output_type": "execute_result"
    }
   ],
   "source": [
    "%%sql\n",
    "\n",
    "SELECT sales_ymd as sales_date, customer_id, product_cd, amount \n",
    "FROM receipt LIMIT 10"
   ]
  },
  {
   "cell_type": "markdown",
   "metadata": {},
   "source": [
    "---\n",
    "> S-004: レシート明細のテーブル（receipt）から売上日（sales_ymd）、顧客ID（customer_id）、商品コード（product_cd）、売上金額（amount）の順に列を指定し、以下の条件を満たすデータを抽出せよ。\n",
    "> - 顧客ID（customer_id）が\"CS018205000001\""
   ]
  },
  {
   "cell_type": "code",
   "execution_count": 6,
   "metadata": {},
   "outputs": [
    {
     "name": "stdout",
     "output_type": "stream",
     "text": [
      " * postgresql://padawan:***@db:5432/dsdojo_db\n",
      "12 rows affected.\n"
     ]
    },
    {
     "data": {
      "text/html": [
       "<table>\n",
       "    <thead>\n",
       "        <tr>\n",
       "            <th>sales_date</th>\n",
       "            <th>customer_id</th>\n",
       "            <th>product_cd</th>\n",
       "            <th>amount</th>\n",
       "        </tr>\n",
       "    </thead>\n",
       "    <tbody>\n",
       "        <tr>\n",
       "            <td>20180911</td>\n",
       "            <td>CS018205000001</td>\n",
       "            <td>P071401012</td>\n",
       "            <td>2200</td>\n",
       "        </tr>\n",
       "        <tr>\n",
       "            <td>20180414</td>\n",
       "            <td>CS018205000001</td>\n",
       "            <td>P060104007</td>\n",
       "            <td>600</td>\n",
       "        </tr>\n",
       "        <tr>\n",
       "            <td>20170614</td>\n",
       "            <td>CS018205000001</td>\n",
       "            <td>P050206001</td>\n",
       "            <td>990</td>\n",
       "        </tr>\n",
       "        <tr>\n",
       "            <td>20170614</td>\n",
       "            <td>CS018205000001</td>\n",
       "            <td>P060702015</td>\n",
       "            <td>108</td>\n",
       "        </tr>\n",
       "        <tr>\n",
       "            <td>20190216</td>\n",
       "            <td>CS018205000001</td>\n",
       "            <td>P071005024</td>\n",
       "            <td>102</td>\n",
       "        </tr>\n",
       "        <tr>\n",
       "            <td>20180414</td>\n",
       "            <td>CS018205000001</td>\n",
       "            <td>P071101002</td>\n",
       "            <td>278</td>\n",
       "        </tr>\n",
       "        <tr>\n",
       "            <td>20190226</td>\n",
       "            <td>CS018205000001</td>\n",
       "            <td>P070902035</td>\n",
       "            <td>168</td>\n",
       "        </tr>\n",
       "        <tr>\n",
       "            <td>20190924</td>\n",
       "            <td>CS018205000001</td>\n",
       "            <td>P060805001</td>\n",
       "            <td>495</td>\n",
       "        </tr>\n",
       "        <tr>\n",
       "            <td>20190226</td>\n",
       "            <td>CS018205000001</td>\n",
       "            <td>P071401020</td>\n",
       "            <td>2200</td>\n",
       "        </tr>\n",
       "        <tr>\n",
       "            <td>20180911</td>\n",
       "            <td>CS018205000001</td>\n",
       "            <td>P071401005</td>\n",
       "            <td>1100</td>\n",
       "        </tr>\n",
       "        <tr>\n",
       "            <td>20190216</td>\n",
       "            <td>CS018205000001</td>\n",
       "            <td>P040101002</td>\n",
       "            <td>218</td>\n",
       "        </tr>\n",
       "        <tr>\n",
       "            <td>20190924</td>\n",
       "            <td>CS018205000001</td>\n",
       "            <td>P091503001</td>\n",
       "            <td>280</td>\n",
       "        </tr>\n",
       "    </tbody>\n",
       "</table>"
      ],
      "text/plain": [
       "[(20180911, 'CS018205000001', 'P071401012', 2200),\n",
       " (20180414, 'CS018205000001', 'P060104007', 600),\n",
       " (20170614, 'CS018205000001', 'P050206001', 990),\n",
       " (20170614, 'CS018205000001', 'P060702015', 108),\n",
       " (20190216, 'CS018205000001', 'P071005024', 102),\n",
       " (20180414, 'CS018205000001', 'P071101002', 278),\n",
       " (20190226, 'CS018205000001', 'P070902035', 168),\n",
       " (20190924, 'CS018205000001', 'P060805001', 495),\n",
       " (20190226, 'CS018205000001', 'P071401020', 2200),\n",
       " (20180911, 'CS018205000001', 'P071401005', 1100),\n",
       " (20190216, 'CS018205000001', 'P040101002', 218),\n",
       " (20190924, 'CS018205000001', 'P091503001', 280)]"
      ]
     },
     "execution_count": 6,
     "metadata": {},
     "output_type": "execute_result"
    }
   ],
   "source": [
    "%%sql\n",
    "\n",
    "SELECT\n",
    "    sales_ymd as sales_date, customer_id, product_cd, amount\n",
    "FROM\n",
    "    receipt\n",
    "WHERE\n",
    "    customer_id = 'CS018205000001'"
   ]
  },
  {
   "cell_type": "markdown",
   "metadata": {},
   "source": [
    "---\n",
    "> S-005: レシート明細のテーブル（receipt）から売上日（sales_ymd）、顧客ID（customer_id）、商品コード（product_cd）、売上金額（amount）の順に列を指定し、以下の条件を満たすデータを抽出せよ。\n",
    "> - 顧客ID（customer_id）が\"CS018205000001\"\n",
    "> - 売上金額（amount）が1,000以上"
   ]
  },
  {
   "cell_type": "code",
   "execution_count": 7,
   "metadata": {},
   "outputs": [
    {
     "name": "stdout",
     "output_type": "stream",
     "text": [
      " * postgresql://padawan:***@db:5432/dsdojo_db\n",
      "3 rows affected.\n"
     ]
    },
    {
     "data": {
      "text/html": [
       "<table>\n",
       "    <thead>\n",
       "        <tr>\n",
       "            <th>sales_date</th>\n",
       "            <th>customer_id</th>\n",
       "            <th>product_cd</th>\n",
       "            <th>amount</th>\n",
       "        </tr>\n",
       "    </thead>\n",
       "    <tbody>\n",
       "        <tr>\n",
       "            <td>20180911</td>\n",
       "            <td>CS018205000001</td>\n",
       "            <td>P071401012</td>\n",
       "            <td>2200</td>\n",
       "        </tr>\n",
       "        <tr>\n",
       "            <td>20190226</td>\n",
       "            <td>CS018205000001</td>\n",
       "            <td>P071401020</td>\n",
       "            <td>2200</td>\n",
       "        </tr>\n",
       "        <tr>\n",
       "            <td>20180911</td>\n",
       "            <td>CS018205000001</td>\n",
       "            <td>P071401005</td>\n",
       "            <td>1100</td>\n",
       "        </tr>\n",
       "    </tbody>\n",
       "</table>"
      ],
      "text/plain": [
       "[(20180911, 'CS018205000001', 'P071401012', 2200),\n",
       " (20190226, 'CS018205000001', 'P071401020', 2200),\n",
       " (20180911, 'CS018205000001', 'P071401005', 1100)]"
      ]
     },
     "execution_count": 7,
     "metadata": {},
     "output_type": "execute_result"
    }
   ],
   "source": [
    "%%sql\n",
    "\n",
    "SELECT\n",
    "    sales_ymd as sales_date, customer_id, product_cd, amount\n",
    "FROM\n",
    "    receipt\n",
    "WHERE\n",
    "    customer_id = 'CS018205000001'\n",
    "    and\n",
    "    amount >= 1000"
   ]
  },
  {
   "cell_type": "markdown",
   "metadata": {},
   "source": [
    "---\n",
    "> S-006: レシート明細テーブル（receipt）から売上日（sales_ymd）、顧客ID（customer_id）、商品コード（product_cd）、売上数量（quantity）、売上金額（amount）の順に列を指定し、以下の条件を満たすデータを抽出せよ。\n",
    "> - 顧客ID（customer_id）が\"CS018205000001\"\n",
    "> - 売上金額（amount）が1,000以上または売上数量（quantity）が5以上"
   ]
  },
  {
   "cell_type": "code",
   "execution_count": 8,
   "metadata": {},
   "outputs": [
    {
     "name": "stdout",
     "output_type": "stream",
     "text": [
      " * postgresql://padawan:***@db:5432/dsdojo_db\n",
      "5 rows affected.\n"
     ]
    },
    {
     "data": {
      "text/html": [
       "<table>\n",
       "    <thead>\n",
       "        <tr>\n",
       "            <th>sales_date</th>\n",
       "            <th>customer_id</th>\n",
       "            <th>product_cd</th>\n",
       "            <th>quantity</th>\n",
       "            <th>amount</th>\n",
       "        </tr>\n",
       "    </thead>\n",
       "    <tbody>\n",
       "        <tr>\n",
       "            <td>20180911</td>\n",
       "            <td>CS018205000001</td>\n",
       "            <td>P071401012</td>\n",
       "            <td>1</td>\n",
       "            <td>2200</td>\n",
       "        </tr>\n",
       "        <tr>\n",
       "            <td>20180414</td>\n",
       "            <td>CS018205000001</td>\n",
       "            <td>P060104007</td>\n",
       "            <td>6</td>\n",
       "            <td>600</td>\n",
       "        </tr>\n",
       "        <tr>\n",
       "            <td>20170614</td>\n",
       "            <td>CS018205000001</td>\n",
       "            <td>P050206001</td>\n",
       "            <td>5</td>\n",
       "            <td>990</td>\n",
       "        </tr>\n",
       "        <tr>\n",
       "            <td>20190226</td>\n",
       "            <td>CS018205000001</td>\n",
       "            <td>P071401020</td>\n",
       "            <td>1</td>\n",
       "            <td>2200</td>\n",
       "        </tr>\n",
       "        <tr>\n",
       "            <td>20180911</td>\n",
       "            <td>CS018205000001</td>\n",
       "            <td>P071401005</td>\n",
       "            <td>1</td>\n",
       "            <td>1100</td>\n",
       "        </tr>\n",
       "    </tbody>\n",
       "</table>"
      ],
      "text/plain": [
       "[(20180911, 'CS018205000001', 'P071401012', 1, 2200),\n",
       " (20180414, 'CS018205000001', 'P060104007', 6, 600),\n",
       " (20170614, 'CS018205000001', 'P050206001', 5, 990),\n",
       " (20190226, 'CS018205000001', 'P071401020', 1, 2200),\n",
       " (20180911, 'CS018205000001', 'P071401005', 1, 1100)]"
      ]
     },
     "execution_count": 8,
     "metadata": {},
     "output_type": "execute_result"
    }
   ],
   "source": [
    "%%sql\n",
    "\n",
    "SELECT\n",
    "    sales_ymd as sales_date, customer_id, product_cd, quantity, amount\n",
    "FROM\n",
    "    receipt\n",
    "WHERE\n",
    "    customer_id = 'CS018205000001'\n",
    "    and\n",
    "    (\n",
    "        amount >= 1000\n",
    "        or\n",
    "        quantity >= 5\n",
    "    )"
   ]
  },
  {
   "cell_type": "markdown",
   "metadata": {},
   "source": [
    "---\n",
    "> S-007: レシート明細のテーブル（receipt）から売上日（sales_ymd）、顧客ID（customer_id）、商品コード（product_cd）、売上金額（amount）の順に列を指定し、以下の条件を満たすデータを抽出せよ。\n",
    "> - 顧客ID（customer_id）が\"CS018205000001\"\n",
    "> - 売上金額（amount）が1,000以上2,000以下"
   ]
  },
  {
   "cell_type": "code",
   "execution_count": 9,
   "metadata": {},
   "outputs": [
    {
     "name": "stdout",
     "output_type": "stream",
     "text": [
      " * postgresql://padawan:***@db:5432/dsdojo_db\n",
      "1 rows affected.\n"
     ]
    },
    {
     "data": {
      "text/html": [
       "<table>\n",
       "    <thead>\n",
       "        <tr>\n",
       "            <th>sales_date</th>\n",
       "            <th>customer_id</th>\n",
       "            <th>product_cd</th>\n",
       "            <th>amount</th>\n",
       "        </tr>\n",
       "    </thead>\n",
       "    <tbody>\n",
       "        <tr>\n",
       "            <td>20180911</td>\n",
       "            <td>CS018205000001</td>\n",
       "            <td>P071401005</td>\n",
       "            <td>1100</td>\n",
       "        </tr>\n",
       "    </tbody>\n",
       "</table>"
      ],
      "text/plain": [
       "[(20180911, 'CS018205000001', 'P071401005', 1100)]"
      ]
     },
     "execution_count": 9,
     "metadata": {},
     "output_type": "execute_result"
    }
   ],
   "source": [
    "%%sql\n",
    "\n",
    "SELECT\n",
    "    sales_ymd as sales_date, customer_id, product_cd, amount\n",
    "FROM\n",
    "    receipt\n",
    "WHERE\n",
    "    customer_id = 'CS018205000001'\n",
    "    and\n",
    "    amount between 1000 and 2000"
   ]
  },
  {
   "cell_type": "markdown",
   "metadata": {},
   "source": [
    "---\n",
    "> S-008: レシート明細テーブル（receipt）から売上日（sales_ymd）、顧客ID（customer_id）、商品コード（product_cd）、売上金額（amount）の順に列を指定し、以下の条件を満たすデータを抽出せよ。\n",
    "> - 顧客ID（customer_id）が\"CS018205000001\"\n",
    "> - 商品コード（product_cd）が\"P071401019\"以外"
   ]
  },
  {
   "cell_type": "code",
   "execution_count": null,
   "metadata": {},
   "outputs": [],
   "source": [
    "%%sql\n",
    "\n",
    "SELECT\n",
    "    sales_ymd as sales_date, customer_id, product_cd, amount\n",
    "FROM\n",
    "    receipt\n",
    "WHERE\n",
    "    customer_id = 'CS018205000001'\n",
    "    and\n",
    "    product_cd != 'P071401019'"
   ]
  },
  {
   "cell_type": "markdown",
   "metadata": {},
   "source": [
    "---\n",
    "> S-009: 以下の処理において、出力結果を変えずにORをANDに書き換えよ。\n",
    "\n",
    "`select * from store where not (prefecture_cd = '13' or floor_area > 900)`"
   ]
  },
  {
   "cell_type": "code",
   "execution_count": null,
   "metadata": {},
   "outputs": [],
   "source": [
    "%%sql\n",
    "\n",
    "SELECT * FROM store WHERE prefecture_cd != '13' and floor_area <= 900"
   ]
  },
  {
   "cell_type": "markdown",
   "metadata": {},
   "source": [
    "---\n",
    "> S-010: 店舗テーブル（store）から、店舗コード（store_cd）が\"S14\"で始まるものだけ全項目抽出し、10件だけ表示せよ。"
   ]
  },
  {
   "cell_type": "code",
   "execution_count": null,
   "metadata": {},
   "outputs": [],
   "source": [
    "%%sql\n",
    "\n",
    "SELECT * FROM store WHERE store_cd like 'S14%' LIMIT 10"
   ]
  },
  {
   "cell_type": "markdown",
   "metadata": {},
   "source": [
    "---\n",
    "> S-011: 顧客テーブル（customer）から顧客ID（customer_id）の末尾が1のものだけ全項目抽出し、10件だけ表示せよ。\n"
   ]
  },
  {
   "cell_type": "code",
   "execution_count": null,
   "metadata": {},
   "outputs": [],
   "source": [
    "%%sql\n",
    "\n",
    "SELECT * FROM customer WHERE customer_id like '%1' LIMIT 10"
   ]
  },
  {
   "cell_type": "markdown",
   "metadata": {},
   "source": [
    "---\n",
    "> S-012: 店舗テーブル（store）から横浜市の店舗だけ全項目表示せよ。"
   ]
  },
  {
   "cell_type": "code",
   "execution_count": null,
   "metadata": {},
   "outputs": [],
   "source": [
    "%%sql\n",
    "\n",
    "SELECT * FROM store WHERE address LIKE '%横浜市%'"
   ]
  },
  {
   "cell_type": "markdown",
   "metadata": {},
   "source": [
    "---\n",
    "> S-013: 顧客テーブル（customer）から、ステータスコード（status_cd）の先頭がアルファベットのA〜Fで始まるデータを全項目抽出し、10件だけ表示せよ。"
   ]
  },
  {
   "cell_type": "code",
   "execution_count": null,
   "metadata": {},
   "outputs": [],
   "source": [
    "%%sql\n",
    "\n",
    "SELECT * FROM customer WHERE status_cd ~ '^[A-F]' LIMIT 10"
   ]
  },
  {
   "cell_type": "markdown",
   "metadata": {},
   "source": [
    "---\n",
    "> S-014: 顧客テーブル（customer）から、ステータスコード（status_cd）の末尾が数字の1〜9で終わるデータを全項目抽出し、10件だけ表示せよ。"
   ]
  },
  {
   "cell_type": "code",
   "execution_count": null,
   "metadata": {},
   "outputs": [],
   "source": [
    "%%sql\n",
    "\n",
    "SELECT * FROM customer WHERE status_cd ~ '[1-9]$' LIMIT 10"
   ]
  },
  {
   "cell_type": "markdown",
   "metadata": {},
   "source": [
    "---\n",
    "> S-015: 顧客テーブル（customer）から、ステータスコード（status_cd）の先頭がアルファベットのA〜Fで始まり、末尾が数字の1〜9で終わるデータを全項目抽出し、10件だけ表示せよ。"
   ]
  },
  {
   "cell_type": "code",
   "execution_count": null,
   "metadata": {},
   "outputs": [],
   "source": [
    "%%sql\n",
    "\n",
    "SELECT * FROM customer WHERE status_cd ~ '^[A-F].*[1-9]$' LIMIT 10"
   ]
  },
  {
   "cell_type": "markdown",
   "metadata": {},
   "source": [
    "---\n",
    "> S-016: 店舗テーブル（store）から、電話番号（tel_no）が3桁-3桁-4桁のデータを全項目表示せよ。"
   ]
  },
  {
   "cell_type": "code",
   "execution_count": null,
   "metadata": {},
   "outputs": [],
   "source": [
    "%%sql\n",
    "\n",
    "SELECT * FROM store WHERE tel_no ~ '^[0-9]{3}-[0-9]{3}-[0-9]{4}$'"
   ]
  },
  {
   "cell_type": "markdown",
   "metadata": {},
   "source": [
    "---\n",
    "> S-017: 顧客テーブル（customer）を生年月日（birth_day）で高齢順にソートし、先頭10件を全項目表示せよ。"
   ]
  },
  {
   "cell_type": "code",
   "execution_count": null,
   "metadata": {},
   "outputs": [],
   "source": [
    "%%sql\n",
    "\n",
    "SELECT * from customer ORDER BY birth_day LIMIT 10"
   ]
  },
  {
   "cell_type": "markdown",
   "metadata": {},
   "source": [
    "---\n",
    "> S-018: 顧客テーブル（customer）を生年月日（birth_day）で若い順にソートし、先頭10件を全項目表示せよ。"
   ]
  },
  {
   "cell_type": "code",
   "execution_count": null,
   "metadata": {},
   "outputs": [],
   "source": [
    "%%sql\n",
    "\n",
    "SELECT * from customer ORDER BY birth_day DESC LIMIT 10"
   ]
  },
  {
   "cell_type": "markdown",
   "metadata": {},
   "source": [
    "---\n",
    "> S-019: レシート明細テーブル（receipt）に対し、1件あたりの売上金額（amount）が高い順にランクを付与し、先頭10件を抽出せよ。項目は顧客ID（customer_id）、売上金額（amount）、付与したランクを表示させること。なお、売上金額（amount）が等しい場合は同一順位を付与するものとする。"
   ]
  },
  {
   "cell_type": "code",
   "execution_count": null,
   "metadata": {},
   "outputs": [],
   "source": [
    "%%sql\n",
    "\n",
    "SELECT customer_id, amount, RANK() OVER(ORDER BY amount DESC) AS ranking \n",
    "FROM receipt\n",
    "LIMIT 10"
   ]
  },
  {
   "cell_type": "markdown",
   "metadata": {},
   "source": [
    "---\n",
    ">  S-020: レシート明細テーブル（receipt）に対し、1件あたりの売上金額（amount）が高い順にランクを付与し、先頭10件を抽出せよ。項目は顧客ID（customer_id）、売上金額（amount）、付与したランクを表示させること。なお、売上金額（amount）が等しい場合でも別順位を付与すること。"
   ]
  },
  {
   "cell_type": "code",
   "execution_count": null,
   "metadata": {},
   "outputs": [],
   "source": [
    "%%sql\n",
    "\n",
    "SELECT customer_id, amount, ROW_NUMBER() OVER(ORDER BY amount DESC) AS ranking \n",
    "FROM receipt\n",
    "LIMIT 10"
   ]
  },
  {
   "cell_type": "markdown",
   "metadata": {},
   "source": [
    "---\n",
    "> S-021: レシート明細テーブル（receipt）に対し、件数をカウントせよ。"
   ]
  },
  {
   "cell_type": "code",
   "execution_count": null,
   "metadata": {},
   "outputs": [],
   "source": [
    "%%sql\n",
    "\n",
    "SELECT count(1) FROM receipt"
   ]
  },
  {
   "cell_type": "markdown",
   "metadata": {},
   "source": [
    "---\n",
    "> S-022: レシート明細テーブル（receipt）の顧客ID（customer_id）に対し、ユニーク件数をカウントせよ。"
   ]
  },
  {
   "cell_type": "code",
   "execution_count": null,
   "metadata": {},
   "outputs": [],
   "source": [
    "%%sql\n",
    "\n",
    "SELECT count(distinct customer_id) FROM receipt"
   ]
  },
  {
   "cell_type": "markdown",
   "metadata": {},
   "source": [
    "---\n",
    "> S-023: レシート明細テーブル（receipt）に対し、店舗コード（store_cd）ごとに売上金額（amount）と売上数量（quantity）を合計せよ。"
   ]
  },
  {
   "cell_type": "code",
   "execution_count": null,
   "metadata": {},
   "outputs": [],
   "source": [
    "%%sql\n",
    "\n",
    "SELECT store_cd\n",
    "    , SUM(amount) as amount\n",
    "    , SUM(quantity) as quantity\n",
    "FROM receipt\n",
    "group by store_cd"
   ]
  },
  {
   "cell_type": "markdown",
   "metadata": {},
   "source": [
    "---\n",
    "> S-024: レシート明細テーブル（receipt）に対し、顧客ID（customer_id）ごとに最も新しい売上日（sales_ymd）を求め、10件表示せよ。"
   ]
  },
  {
   "cell_type": "code",
   "execution_count": null,
   "metadata": {},
   "outputs": [],
   "source": [
    "%%sql\n",
    "\n",
    "SELECT customer_id, MAX(sales_ymd)\n",
    "FROM receipt\n",
    "GROUP BY customer_id\n",
    "LIMIT 10"
   ]
  },
  {
   "cell_type": "markdown",
   "metadata": {},
   "source": [
    "---\n",
    "> S-025: レシート明細テーブル（receipt）に対し、顧客ID（customer_id）ごとに最も古い売上日（sales_ymd）を求め、10件表示せよ。"
   ]
  },
  {
   "cell_type": "code",
   "execution_count": null,
   "metadata": {},
   "outputs": [],
   "source": [
    "%%sql\n",
    "\n",
    "SELECT customer_id, MIN(sales_ymd)\n",
    "FROM receipt\n",
    "GROUP BY customer_id\n",
    "LIMIT 10"
   ]
  },
  {
   "cell_type": "markdown",
   "metadata": {},
   "source": [
    "---\n",
    "> S-026: レシート明細テーブル（receipt）に対し、顧客ID（customer_id）ごとに最も新しい売上日（sales_ymd）と古い売上日を求め、両者が異なるデータを10件表示せよ。"
   ]
  },
  {
   "cell_type": "code",
   "execution_count": null,
   "metadata": {},
   "outputs": [],
   "source": [
    "%%sql\n",
    "\n",
    "SELECT customer_id, MAX(sales_ymd), MIN(sales_ymd)\n",
    "FROM receipt\n",
    "GROUP BY customer_id\n",
    "HAVING MAX(sales_ymd) != MIN(sales_ymd)\n",
    "LIMIT 10"
   ]
  },
  {
   "cell_type": "markdown",
   "metadata": {},
   "source": [
    "---\n",
    "> S-027: レシート明細テーブル（receipt）に対し、店舗コード（store_cd）ごとに売上金額（amount）の平均を計算し、降順でTOP5を表示せよ。"
   ]
  },
  {
   "cell_type": "code",
   "execution_count": null,
   "metadata": {},
   "outputs": [],
   "source": [
    "%%sql\n",
    "\n",
    "SELECT store_cd, AVG(amount) as avr_amount\n",
    "FROM receipt\n",
    "GROUP BY store_cd\n",
    "ORDER BY avr_amount DESC\n",
    "LIMIT 5"
   ]
  },
  {
   "cell_type": "markdown",
   "metadata": {},
   "source": [
    "---\n",
    "> S-028: レシート明細テーブル（receipt）に対し、店舗コード（store_cd）ごとに売上金額（amount）の中央値を計算し、降順でTOP5を表示せよ。"
   ]
  },
  {
   "cell_type": "code",
   "execution_count": null,
   "metadata": {},
   "outputs": [],
   "source": [
    "%%sql\n",
    "\n",
    "SELECT \n",
    "    store_cd, \n",
    "    PERCENTILE_CONT(0.5) WITHIN GROUP(ORDER BY amount) as amount_50per\n",
    "FROM receipt\n",
    "GROUP BY store_cd\n",
    "ORDER BY amount_50per desc\n",
    "LIMIT 5"
   ]
  },
  {
   "cell_type": "markdown",
   "metadata": {},
   "source": [
    "---\n",
    "> S-029: レシート明細テーブル（receipt）に対し、店舗コード（store_cd）ごとに商品コード（product_cd）の最頻値を求めよ。"
   ]
  },
  {
   "cell_type": "code",
   "execution_count": null,
   "metadata": {},
   "outputs": [],
   "source": [
    "%%sql\n",
    "\n",
    "-- コード例1: 分析関数でmodeを計算する\n",
    "WITH product_mode AS (\n",
    "    SELECT store_cd,product_cd, COUNT(1) as mode_cnt,\n",
    "        RANK() OVER(PARTITION BY store_cd ORDER BY COUNT(1) DESC) AS rnk\n",
    "    FROM receipt\n",
    "    GROUP BY store_cd,product_cd\n",
    ")\n",
    "SELECT store_cd,product_cd, mode_cnt\n",
    "FROM product_mode\n",
    "WHERE rnk = 1\n",
    "ORDER BY store_cd,product_cd;"
   ]
  },
  {
   "cell_type": "code",
   "execution_count": null,
   "metadata": {},
   "outputs": [],
   "source": [
    "%%sql\n",
    "\n",
    "-- コード例2:mode()を使う簡易ケース（早いが最頻値が複数の場合は一つだけ選ばれる）\n",
    "SELECT store_cd, mode() WITHIN GROUP(ORDER BY product_cd)\n",
    "FROM receipt\n",
    "GROUP BY store_cd\n",
    "ORDER BY store_cd"
   ]
  },
  {
   "cell_type": "markdown",
   "metadata": {},
   "source": [
    "---\n",
    "> S-030: レシート明細テーブル（receipt）に対し、店舗コード（store_cd）ごとに売上金額（amount）の標本分散を計算し、降順でTOP5を表示せよ。"
   ]
  },
  {
   "cell_type": "code",
   "execution_count": null,
   "metadata": {},
   "outputs": [],
   "source": [
    "%%sql\n",
    "\n",
    "SELECT store_cd, var_samp(amount) as vars_amount\n",
    "FROM receipt\n",
    "GROUP BY store_cd\n",
    "ORDER BY vars_amount desc \n",
    "LIMIT 5"
   ]
  },
  {
   "cell_type": "markdown",
   "metadata": {},
   "source": [
    "---\n",
    "> S-031: レシート明細テーブル（receipt）に対し、店舗コード（store_cd）ごとに売上金額（amount）の標本標準偏差を計算し、降順でTOP5を表示せよ。"
   ]
  },
  {
   "cell_type": "code",
   "execution_count": null,
   "metadata": {},
   "outputs": [],
   "source": [
    "%%sql\n",
    "\n",
    "SELECT store_cd, stddev_samp(amount) as stds_amount\n",
    "FROM receipt\n",
    "GROUP BY store_cd\n",
    "ORDER BY stds_amount desc\n",
    "LIMIT 5"
   ]
  },
  {
   "cell_type": "markdown",
   "metadata": {},
   "source": [
    "---\n",
    "> S-032: レシート明細テーブル（receipt）の売上金額（amount）について、25％刻みでパーセンタイル値を求めよ。"
   ]
  },
  {
   "cell_type": "code",
   "execution_count": null,
   "metadata": {},
   "outputs": [],
   "source": [
    "%%sql\n",
    "\n",
    "SELECT\n",
    "    PERCENTILE_CONT(0.25) WITHIN GROUP(ORDER BY amount) as amount_25per,\n",
    "    PERCENTILE_CONT(0.50) WITHIN GROUP(ORDER BY amount) as amount_50per,\n",
    "    PERCENTILE_CONT(0.75) WITHIN GROUP(ORDER BY amount) as amount_75per,\n",
    "    PERCENTILE_CONT(1.0) WITHIN GROUP(ORDER BY amount) as amount_100per\n",
    "FROM receipt"
   ]
  },
  {
   "cell_type": "markdown",
   "metadata": {},
   "source": [
    "---\n",
    "> S-033: レシート明細テーブル（receipt）に対し、店舗コード（store_cd）ごとに売上金額（amount）の平均を計算し、330以上のものを抽出せよ。"
   ]
  },
  {
   "cell_type": "code",
   "execution_count": null,
   "metadata": {},
   "outputs": [],
   "source": [
    "%%sql\n",
    "\n",
    "SELECT store_cd, AVG(amount) as avg_amount\n",
    "FROM receipt\n",
    "GROUP BY store_cd\n",
    "HAVING AVG(amount) >= 330"
   ]
  },
  {
   "cell_type": "markdown",
   "metadata": {},
   "source": [
    "---\n",
    "> S-034: レシート明細テーブル（receipt）に対し、顧客ID（customer_id）ごとに売上金額（amount）を合計して全顧客の平均を求めよ。ただし、顧客IDが\"Z\"から始まるのものは非会員を表すため、除外して計算すること。"
   ]
  },
  {
   "cell_type": "code",
   "execution_count": null,
   "metadata": {},
   "outputs": [],
   "source": [
    "%%sql\n",
    "\n",
    "WITH customer_amount AS (\n",
    "    SELECT customer_id, SUM(amount) AS sum_amount\n",
    "    FROM receipt\n",
    "    WHERE customer_id not like 'Z%'\n",
    "    GROUP BY customer_id\n",
    ")\n",
    "SELECT AVG(sum_amount) from customer_amount"
   ]
  },
  {
   "cell_type": "markdown",
   "metadata": {},
   "source": [
    "---\n",
    "> S-035: レシート明細テーブル（receipt）に対し、顧客ID（customer_id）ごとに販売金額（amount）を合計して全顧客の平均を求め、平均以上に買い物をしている顧客を抽出せよ。ただし、顧客IDが\"Z\"から始まるのものは非会員を表すため、除外して計算すること。なお、データは10件だけ表示させれば良い。"
   ]
  },
  {
   "cell_type": "code",
   "execution_count": null,
   "metadata": {},
   "outputs": [],
   "source": [
    "%%sql\n",
    "\n",
    "WITH customer_amount AS (\n",
    "    SELECT customer_id, SUM(amount) AS sum_amount\n",
    "    FROM receipt\n",
    "    WHERE customer_id not like 'Z%'\n",
    "    GROUP BY customer_id\n",
    ")\n",
    "SELECT customer_id, sum_amount\n",
    "FROM customer_amount\n",
    "WHERE sum_amount >= (SELECT AVG(sum_amount) from customer_amount)\n",
    "limit 10"
   ]
  },
  {
   "cell_type": "markdown",
   "metadata": {},
   "source": [
    "---\n",
    "> S-036: レシート明細テーブル（receipt）と店舗テーブル（store）を内部結合し、レシート明細テーブルの全項目と店舗テーブルの店舗名（store_name）を10件表示させよ。"
   ]
  },
  {
   "cell_type": "code",
   "execution_count": null,
   "metadata": {},
   "outputs": [],
   "source": [
    "%%sql\n",
    "\n",
    "SELECT r.*, s.store_name\n",
    "FROM receipt r\n",
    "JOIN store s\n",
    "ON r.store_cd = s.store_cd\n",
    "LIMIT 10"
   ]
  },
  {
   "cell_type": "markdown",
   "metadata": {},
   "source": [
    "---\n",
    "> S-037: 商品テーブル（product）とカテゴリテーブル（category）を内部結合し、商品テーブルの全項目とカテゴリテーブルの小区分名（category_small_name）を10件表示させよ。"
   ]
  },
  {
   "cell_type": "code",
   "execution_count": null,
   "metadata": {},
   "outputs": [],
   "source": [
    "%%sql\n",
    "\n",
    "SELECT p.*, c.category_small_name\n",
    "FROM product p\n",
    "JOIN category c\n",
    "on p.category_small_cd = c.category_small_cd\n",
    "LIMIT 10"
   ]
  },
  {
   "cell_type": "markdown",
   "metadata": {},
   "source": [
    "---\n",
    "> S-038: 顧客テーブル（customer）とレシート明細テーブル（receipt）から、各顧客ごとの売上金額合計を求めよ。ただし、買い物の実績がない顧客については売上金額を0として表示させること。また、顧客は性別コード（gender_cd）が女性（1）であるものを対象とし、非会員（顧客IDが'Z'から始まるもの）は除外すること。なお、結果は10件だけ表示させれば良い。"
   ]
  },
  {
   "cell_type": "code",
   "execution_count": null,
   "metadata": {},
   "outputs": [],
   "source": [
    "%%sql\n",
    "\n",
    "WITH customer_amount AS (\n",
    "    SELECT customer_id, SUM(amount) AS sum_amount\n",
    "    FROM receipt\n",
    "    GROUP BY customer_id\n",
    ")\n",
    "SELECT c.customer_id, COALESCE(a.sum_amount,0)\n",
    "FROM customer c\n",
    "LEFT JOIN customer_amount a\n",
    "ON c.customer_id = a.customer_id\n",
    "WHERE c.gender_cd = '1'\n",
    "      and c.customer_id not like 'Z%'\n",
    "LIMIT 10"
   ]
  },
  {
   "cell_type": "markdown",
   "metadata": {},
   "source": [
    "---\n",
    "> S-039: レシート明細テーブル（receipt）から売上日数の多い顧客の上位20件と、売上金額合計の多い顧客の上位20件を抽出し、完全外部結合せよ。ただし、非会員（顧客IDが'Z'から始まるもの）は除外すること。"
   ]
  },
  {
   "cell_type": "code",
   "execution_count": null,
   "metadata": {},
   "outputs": [],
   "source": [
    "%%sql\n",
    "\n",
    "WITH customer_days AS (\n",
    "    select customer_id, count(distinct sales_ymd) come_days\n",
    "    FROM receipt\n",
    "    WHERE customer_id NOT LIKE 'Z%'\n",
    "    GROUP BY customer_id\n",
    "    ORDER BY come_days DESC LIMIT 20\n",
    "),\n",
    "customer_amount AS (\n",
    "    SELECT customer_id, sum(amount) buy_amount\n",
    "    FROM receipt \n",
    "    WHERE customer_id NOT LIKE 'Z%'\n",
    "    GROUP BY customer_id\n",
    "    ORDER BY buy_amount DESC LIMIT 20\n",
    ")\n",
    "SELECT COALESCE(d.customer_id, a.customer_id), d.come_days, a.buy_amount\n",
    "FROM customer_days d\n",
    "FULL JOIN customer_amount a\n",
    "ON d.customer_id = a.customer_id;"
   ]
  },
  {
   "cell_type": "markdown",
   "metadata": {},
   "source": [
    "---\n",
    "> S-040: 全ての店舗と全ての商品を組み合わせると何件のデータとなるか調査したい。店舗（store）と商品（product）を直積した件数を計算せよ。"
   ]
  },
  {
   "cell_type": "code",
   "execution_count": null,
   "metadata": {},
   "outputs": [],
   "source": [
    "%%sql\n",
    "\n",
    "SELECT COUNT(1) FROM store CROSS JOIN product;"
   ]
  },
  {
   "cell_type": "markdown",
   "metadata": {},
   "source": [
    "---\n",
    "> S-041: レシート明細テーブル（receipt）の売上金額（amount）を日付（sales_ymd）ごとに集計し、前日からの売上金額増減を計算せよ。なお、計算結果は10件表示すればよい。"
   ]
  },
  {
   "cell_type": "code",
   "execution_count": null,
   "metadata": {},
   "outputs": [],
   "source": [
    "%%sql\n",
    "\n",
    "WITH sales_amount_by_date AS (\n",
    "    SELECT sales_ymd, SUM(amount) as amount FROM receipt\n",
    "    GROUP BY sales_ymd\n",
    "    ORDER BY sales_ymd\n",
    ")\n",
    "SELECT sales_ymd, LAG(sales_ymd, 1) OVER(ORDER BY sales_ymd) lag_ymd,\n",
    "    amount,\n",
    "    LAG(amount, 1) OVER(ORDER BY sales_ymd) as lag_amount,\n",
    "    amount - LAG(amount, 1) OVER(ORDER BY sales_ymd) as diff_amount\n",
    "FROM sales_amount_by_date\n",
    "LIMIT 10;"
   ]
  },
  {
   "cell_type": "markdown",
   "metadata": {},
   "source": [
    "---\n",
    "> S-042: レシート明細テーブル（receipt）の売上金額（amount）を日付（sales_ymd）ごとに集計し、各日付のデータに対し、１日前、２日前、３日前のデータを結合せよ。結果は10件表示すればよい。"
   ]
  },
  {
   "cell_type": "code",
   "execution_count": null,
   "metadata": {},
   "outputs": [],
   "source": [
    "%%sql\n",
    "\n",
    "-- コード例1:縦持ちケース\n",
    "WITH sales_amount_by_date AS (\n",
    "    SELECT sales_ymd, SUM(amount) as amount FROM receipt\n",
    "    GROUP BY sales_ymd\n",
    "    ORDER BY sales_ymd\n",
    "),\n",
    "sales_amount_lag_date AS (\n",
    "    SELECT sales_ymd,\n",
    "        COALESCE(LAG(sales_ymd, 3) OVER (ORDER BY sales_ymd),\n",
    "        MIN(sales_ymd) OVER (PARTITION BY NULL)) as lag_date_3,\n",
    "        amount\n",
    "    FROM sales_amount_by_date\n",
    ")\n",
    "SELECT a.sales_ymd, b.sales_ymd as lag_ymd,\n",
    "    a.amount as amount, b.amount as lag_amount\n",
    "FROM sales_amount_lag_date a\n",
    "JOIN sales_amount_lag_date b\n",
    "ON b.sales_ymd >= a.lag_date_3 \n",
    "    and b.sales_ymd < a.sales_ymd\n",
    "ORDER BY sales_ymd, lag_ymd\n",
    "LIMIT 10;"
   ]
  },
  {
   "cell_type": "code",
   "execution_count": null,
   "metadata": {},
   "outputs": [],
   "source": [
    "%%sql\n",
    "\n",
    "-- コード例2:横持ちケース\n",
    "WITH sales_amount_by_date AS (\n",
    "    SELECT sales_ymd, SUM(amount) as amount FROM receipt\n",
    "    GROUP BY sales_ymd\n",
    "    ORDER BY sales_ymd\n",
    "), sales_amount_with_lag AS(\n",
    "SELECT sales_ymd, amount, \n",
    "    LAG(sales_ymd, 1) OVER (ORDER BY sales_ymd) as lag_ymd_1,\n",
    "    LAG(amount, 1) OVER (ORDER BY sales_ymd) as lag_amount_1,\n",
    "    LAG(sales_ymd, 2) OVER (ORDER BY sales_ymd) as lag_ymd_2,\n",
    "    LAG(amount, 2) OVER (ORDER BY sales_ymd) as lag_amount_2,\n",
    "    LAG(sales_ymd, 3) OVER (ORDER BY sales_ymd) as lag_ymd_3,\n",
    "    LAG(amount, 3) OVER (ORDER BY sales_ymd) as lag_amount_3\n",
    "FROM sales_amount_by_date\n",
    ")\n",
    "SELECT * FROM sales_amount_with_lag\n",
    "WHERE lag_ymd_3 IS NOT NULL\n",
    "ORDER BY sales_ymd\n",
    "LIMIT 10;"
   ]
  },
  {
   "cell_type": "markdown",
   "metadata": {},
   "source": [
    "---\n",
    "> S-043: レシート明細テーブル（receipt）と顧客テーブル（customer）を結合し、性別（gender）と年代（ageから計算）ごとに売上金額（amount）を合計した売上サマリテーブル（sales_summary）を作成せよ。性別は0が男性、1が女性、9が不明を表すものとする。\n",
    ">\n",
    ">ただし、項目構成は年代、女性の売上金額、男性の売上金額、性別不明の売上金額の4項目とすること（縦に年代、横に性別のクロス集計）。また、年代は10歳ごとの階級とすること。"
   ]
  },
  {
   "cell_type": "code",
   "execution_count": null,
   "metadata": {},
   "outputs": [],
   "source": [
    "%%sql\n",
    "\n",
    "-- SQL向きではないため、やや強引に記載する（カテゴリ数が多いときはとても長いSQLとなってしまう点に注意）\n",
    "\n",
    "DROP TABLE IF EXISTS sales_summary;\n",
    "\n",
    "CREATE TABLE sales_summary AS\n",
    "    WITH gender_era_amount AS (\n",
    "        SELECT c.gender_cd,\n",
    "        TRUNC(age/ 10) * 10 AS era,\n",
    "        SUM(r.amount) AS amount\n",
    "        FROM customer c\n",
    "        JOIN receipt r\n",
    "        ON c.customer_id = r.customer_id\n",
    "        GROUP BY c.gender_cd, era\n",
    "    )\n",
    "    select era,\n",
    "        MAX(CASE gender_cd WHEN '0' THEN amount ELSE 0 END) AS male ,\n",
    "        MAX(CASE gender_cd WHEN '1' THEN amount ELSE 0 END) AS female,\n",
    "        MAX(CASE gender_cd WHEN '9' THEN amount ELSE 0 END) AS unknown\n",
    "    FROM gender_era_amount\n",
    "    GROUP BY era\n",
    "    ORDER BY era\n",
    ";"
   ]
  },
  {
   "cell_type": "code",
   "execution_count": null,
   "metadata": {},
   "outputs": [],
   "source": [
    "%%sql\n",
    "\n",
    "SELECT * FROM sales_summary;"
   ]
  },
  {
   "cell_type": "markdown",
   "metadata": {},
   "source": [
    "---\n",
    "> S-044: 前設問で作成した売上サマリテーブル（sales_summary）は性別の売上を横持ちさせたものであった。このテーブルから性別を縦持ちさせ、年代、性別コード、売上金額の3項目に変換せよ。ただし、性別コードは男性を'00'、女性を'01'、不明を'99'とする。"
   ]
  },
  {
   "cell_type": "code",
   "execution_count": null,
   "metadata": {},
   "outputs": [],
   "source": [
    "%%sql\n",
    "\n",
    "-- SQL向きではないため、やや強引に記載する（カテゴリ数が多いときはとても長いSQLとなってしまう点に注意）\n",
    "SELECT era, '00' as gender_cd , male AS amount FROM sales_summary\n",
    "UNION ALL\n",
    "SELECT era, '01' as gender_cd, female AS amount FROM sales_summary\n",
    "UNION ALL\n",
    "SELECT era, '99' as gender_cd, unknown AS amount FROM sales_summary"
   ]
  },
  {
   "cell_type": "markdown",
   "metadata": {},
   "source": [
    "---\n",
    "> S-045: 顧客テーブル（customer）の生年月日（birth_day）は日付型でデータを保有している。これをYYYYMMDD形式の文字列に変換し、顧客ID（customer_id）とともに抽出せよ。データは10件を抽出すれば良い。"
   ]
  },
  {
   "cell_type": "code",
   "execution_count": null,
   "metadata": {},
   "outputs": [],
   "source": [
    "%%sql\n",
    "\n",
    "SELECT customer_id, TO_CHAR(birth_day, 'YYYYMMDD') FROM customer LIMIT 10;"
   ]
  },
  {
   "cell_type": "markdown",
   "metadata": {},
   "source": [
    "---\n",
    "> S-046: 顧客テーブル（customer）の申し込み日（application_date）はYYYYMMDD形式の文字列型でデータを保有している。これを日付型に変換し、顧客ID（customer_id）とともに抽出せよ。データは10件を抽出すれば良い。"
   ]
  },
  {
   "cell_type": "code",
   "execution_count": null,
   "metadata": {},
   "outputs": [],
   "source": [
    "%%sql\n",
    "\n",
    "SELECT customer_id, TO_DATE(application_date, 'YYYYMMDD') \n",
    "FROM customer LIMIT 10;"
   ]
  },
  {
   "cell_type": "markdown",
   "metadata": {},
   "source": [
    "---\n",
    "> S-047: レシート明細テーブル（receipt）の売上日（sales_ymd）はYYYYMMDD形式の数値型でデータを保有している。これを日付型に変換し、レシート番号(receipt_no)、レシートサブ番号（receipt_sub_no）とともに抽出せよ。データは10件を抽出すれば良い。"
   ]
  },
  {
   "cell_type": "code",
   "execution_count": null,
   "metadata": {},
   "outputs": [],
   "source": [
    "%%sql\n",
    "\n",
    "SELECT \n",
    "    TO_DATE(CAST(sales_ymd AS VARCHAR), 'YYYYMMDD'), \n",
    "    receipt_no, \n",
    "    receipt_sub_no \n",
    "FROM receipt \n",
    "LIMIT 10;"
   ]
  },
  {
   "cell_type": "markdown",
   "metadata": {},
   "source": [
    "---\n",
    "> S-048: レシート明細テーブル（receipt）の売上エポック秒（sales_epoch）は数値型のUNIX秒でデータを保有している。これを日付型に変換し、レシート番号(receipt_no)、レシートサブ番号（receipt_sub_no）とともに抽出せよ。データは10件を抽出すれば良い。"
   ]
  },
  {
   "cell_type": "code",
   "execution_count": null,
   "metadata": {},
   "outputs": [],
   "source": [
    "%%sql\n",
    "\n",
    "SELECT \n",
    "    TO_TIMESTAMP(sales_epoch) as sales_date, \n",
    "    receipt_no, receipt_sub_no \n",
    "FROM receipt \n",
    "LIMIT 10;"
   ]
  },
  {
   "cell_type": "markdown",
   "metadata": {},
   "source": [
    "---\n",
    "> S-049: レシート明細テーブル（receipt）の販売エポック秒（sales_epoch）を日付型に変換し、「年」だけ取り出してレシート番号(receipt_no)、レシートサブ番号（receipt_sub_no）とともに抽出せよ。データは10件を抽出すれば良い。"
   ]
  },
  {
   "cell_type": "code",
   "execution_count": null,
   "metadata": {},
   "outputs": [],
   "source": [
    "%%sql\n",
    "\n",
    "SELECT \n",
    "    TO_CHAR(EXTRACT(YEAR FROM TO_TIMESTAMP(sales_epoch)),'FM9999') as sales_year, \n",
    "    receipt_no, \n",
    "    receipt_sub_no\n",
    "FROM receipt \n",
    "LIMIT 10;"
   ]
  },
  {
   "cell_type": "markdown",
   "metadata": {},
   "source": [
    "---\n",
    "> S-050: レシート明細テーブル（receipt）の売上エポック秒（sales_epoch）を日付型に変換し、「月」だけ取り出してレシート番号(receipt_no)、レシートサブ番号（receipt_sub_no）とともに抽出せよ。なお、「月」は0埋め2桁で取り出すこと。データは10件を抽出すれば良い。"
   ]
  },
  {
   "cell_type": "code",
   "execution_count": null,
   "metadata": {},
   "outputs": [],
   "source": [
    "%%sql\n",
    "\n",
    "SELECT \n",
    "    TO_CHAR(EXTRACT(\n",
    "        MONTH FROM TO_TIMESTAMP(sales_epoch)\n",
    "    ), 'FM00') as sales_month, \n",
    "    receipt_no, receipt_sub_no\n",
    "FROM receipt LIMIT 10;"
   ]
  },
  {
   "cell_type": "markdown",
   "metadata": {},
   "source": [
    "---\n",
    "> S-051: レシート明細テーブル（receipt）の売上エポック秒を日付型に変換し、「日」だけ取り出してレシート番号(receipt_no)、レシートサブ番号（receipt_sub_no）とともに抽出せよ。なお、「日」は0埋め2桁で取り出すこと。データは10件を抽出すれば良い。"
   ]
  },
  {
   "cell_type": "code",
   "execution_count": null,
   "metadata": {},
   "outputs": [],
   "source": [
    "%%sql\n",
    "\n",
    "SELECT \n",
    "    receipt_no, receipt_sub_no,\n",
    "    TO_CHAR(EXTRACT(DAY FROM TO_TIMESTAMP(sales_epoch)), 'FM00') as sales_day\n",
    "FROM receipt LIMIT 10;"
   ]
  },
  {
   "cell_type": "markdown",
   "metadata": {},
   "source": [
    "---\n",
    "> S-052: レシート明細テーブル（receipt）の売上金額（amount）を顧客ID（customer_id）ごとに合計の上、売上金額合計に対して2,000円以下を0、2,000円より大きい金額を1に2値化し、顧客ID、売上金額合計とともに10件表示せよ。ただし、顧客IDが\"Z\"から始まるのものは非会員を表すため、除外して計算すること。"
   ]
  },
  {
   "cell_type": "code",
   "execution_count": null,
   "metadata": {},
   "outputs": [],
   "source": [
    "%%sql\n",
    "\n",
    "SELECT\n",
    "    customer_id,\n",
    "    SUM(amount) AS sum_amount,\n",
    "    CASE\n",
    "        WHEN SUM(amount)  > 2000 THEN 1\n",
    "        WHEN SUM(amount) <= 2000 THEN 0\n",
    "    END as amount_flg\n",
    "FROM receipt\n",
    "WHERE customer_id not like 'Z%'\n",
    "GROUP BY customer_id\n",
    "LIMIT 10"
   ]
  },
  {
   "cell_type": "markdown",
   "metadata": {},
   "source": [
    "---\n",
    "> S-053: 顧客テーブル（customer）の郵便番号（postal_cd）に対し、東京（先頭3桁が100〜209のもの）を1、それ以外のものを0に２値化せよ。さらにレシート明細テーブル（receipt）と結合し、全期間において買い物実績のある顧客数を、作成した2値ごとにカウントせよ。"
   ]
  },
  {
   "cell_type": "code",
   "execution_count": null,
   "metadata": {},
   "outputs": [],
   "source": [
    "%%sql\n",
    "\n",
    "WITH cust AS (\n",
    "    SELECT\n",
    "        customer_id,\n",
    "        postal_cd,\n",
    "        CASE\n",
    "            WHEN 100 <= CAST(SUBSTR(postal_cd, 1, 3) AS INTEGER) \n",
    "                    AND CAST(SUBSTR(postal_cd, 1, 3) AS INTEGER) <= 209 THEN 1\n",
    "            ELSE 0\n",
    "        END AS postal_flg\n",
    "    FROM customer\n",
    "),\n",
    "rect AS(\n",
    "    SELECT\n",
    "        customer_id,\n",
    "        SUM(amount)\n",
    "    FROM\n",
    "        receipt\n",
    "    GROUP BY\n",
    "        customer_id\n",
    ")\n",
    "SELECT \n",
    "    c.postal_flg, count(1) \n",
    "FROM\n",
    "    rect r\n",
    "JOIN\n",
    "    cust c\n",
    "ON\n",
    "    r.customer_id = c.customer_id\n",
    "GROUP BY\n",
    "    c.postal_flg"
   ]
  },
  {
   "cell_type": "markdown",
   "metadata": {},
   "source": [
    "---\n",
    "> S-054: 顧客テーブル（customer）の住所（address）は、埼玉県、千葉県、東京都、神奈川県のいずれかとなっている。都道府県毎にコード値を作成し、顧客ID、住所とともに抽出せよ。値は埼玉県を11、千葉県を12、東京都を13、神奈川県を14とすること。結果は10件表示させれば良い。"
   ]
  },
  {
   "cell_type": "code",
   "execution_count": 59,
   "metadata": {},
   "outputs": [
    {
     "name": "stdout",
     "output_type": "stream",
     "text": [
      " * postgresql://padawan:***@db:5432/dsdojo_db\n",
      "10 rows affected.\n"
     ]
    },
    {
     "data": {
      "text/html": [
       "<table>\n",
       "    <thead>\n",
       "        <tr>\n",
       "            <th>customer_id</th>\n",
       "            <th>address</th>\n",
       "            <th>prefecture_cd</th>\n",
       "        </tr>\n",
       "    </thead>\n",
       "    <tbody>\n",
       "        <tr>\n",
       "            <td>CS021313000114</td>\n",
       "            <td>神奈川県伊勢原市粟窪**********</td>\n",
       "            <td>14</td>\n",
       "        </tr>\n",
       "        <tr>\n",
       "            <td>CS037613000071</td>\n",
       "            <td>東京都江東区南砂**********</td>\n",
       "            <td>13</td>\n",
       "        </tr>\n",
       "        <tr>\n",
       "            <td>CS031415000172</td>\n",
       "            <td>東京都渋谷区代々木**********</td>\n",
       "            <td>13</td>\n",
       "        </tr>\n",
       "        <tr>\n",
       "            <td>CS028811000001</td>\n",
       "            <td>神奈川県横浜市泉区和泉町**********</td>\n",
       "            <td>14</td>\n",
       "        </tr>\n",
       "        <tr>\n",
       "            <td>CS001215000145</td>\n",
       "            <td>東京都大田区仲六郷**********</td>\n",
       "            <td>13</td>\n",
       "        </tr>\n",
       "        <tr>\n",
       "            <td>CS020401000016</td>\n",
       "            <td>東京都板橋区若木**********</td>\n",
       "            <td>13</td>\n",
       "        </tr>\n",
       "        <tr>\n",
       "            <td>CS015414000103</td>\n",
       "            <td>東京都江東区北砂**********</td>\n",
       "            <td>13</td>\n",
       "        </tr>\n",
       "        <tr>\n",
       "            <td>CS029403000008</td>\n",
       "            <td>千葉県浦安市海楽**********</td>\n",
       "            <td>12</td>\n",
       "        </tr>\n",
       "        <tr>\n",
       "            <td>CS015804000004</td>\n",
       "            <td>東京都江東区北砂**********</td>\n",
       "            <td>13</td>\n",
       "        </tr>\n",
       "        <tr>\n",
       "            <td>CS033513000180</td>\n",
       "            <td>神奈川県横浜市旭区善部町**********</td>\n",
       "            <td>14</td>\n",
       "        </tr>\n",
       "    </tbody>\n",
       "</table>"
      ],
      "text/plain": [
       "[('CS021313000114', '神奈川県伊勢原市粟窪**********', '14'),\n",
       " ('CS037613000071', '東京都江東区南砂**********', '13'),\n",
       " ('CS031415000172', '東京都渋谷区代々木**********', '13'),\n",
       " ('CS028811000001', '神奈川県横浜市泉区和泉町**********', '14'),\n",
       " ('CS001215000145', '東京都大田区仲六郷**********', '13'),\n",
       " ('CS020401000016', '東京都板橋区若木**********', '13'),\n",
       " ('CS015414000103', '東京都江東区北砂**********', '13'),\n",
       " ('CS029403000008', '千葉県浦安市海楽**********', '12'),\n",
       " ('CS015804000004', '東京都江東区北砂**********', '13'),\n",
       " ('CS033513000180', '神奈川県横浜市旭区善部町**********', '14')]"
      ]
     },
     "execution_count": 59,
     "metadata": {},
     "output_type": "execute_result"
    }
   ],
   "source": [
    "%%sql\n",
    "\n",
    "-- SQL向きではないため、やや強引に記載する（カテゴリ数が多いときはとても長いSQLとなってしまう点に注意）\n",
    "SELECT\n",
    "    customer_id,\n",
    "    -- 確認用に住所も表示\n",
    "    address,\n",
    "    CASE SUBSTR(address,1, 3)\n",
    "        WHEN '埼玉県' THEN '11'\n",
    "        WHEN '千葉県' THEN '12'\n",
    "        WHEN '東京都' THEN '13'\n",
    "        WHEN '神奈川' THEN '14'\n",
    "    END AS prefecture_cd\n",
    "FROM\n",
    "    customer\n",
    "LIMIT 10"
   ]
  },
  {
   "cell_type": "markdown",
   "metadata": {},
   "source": [
    "---\n",
    "> S-055: レシート明細テーブル（receipt）の売上金額（amount）を顧客ID（customer_id）ごとに合計し、その合計金額の四分位点を求めよ。その上で、顧客ごとの売上金額合計に対して以下の基準でカテゴリ値を作成し、顧客ID、売上金額合計とともに表示せよ。カテゴリ値は上から順に1〜4とする。結果は10件表示させれば良い。\n",
    ">\n",
    "> - 最小値以上第一四分位未満\n",
    "> - 第一四分位以上第二四分位未満\n",
    "> - 第二四分位以上第三四分位未満\n",
    "> - 第三四分位以上"
   ]
  },
  {
   "cell_type": "code",
   "execution_count": 60,
   "metadata": {},
   "outputs": [
    {
     "name": "stdout",
     "output_type": "stream",
     "text": [
      " * postgresql://padawan:***@db:5432/dsdojo_db\n",
      "10 rows affected.\n"
     ]
    },
    {
     "data": {
      "text/html": [
       "<table>\n",
       "    <thead>\n",
       "        <tr>\n",
       "            <th>customer_id</th>\n",
       "            <th>sum_amount</th>\n",
       "            <th>pct_flg</th>\n",
       "        </tr>\n",
       "    </thead>\n",
       "    <tbody>\n",
       "        <tr>\n",
       "            <td>CS001311000059</td>\n",
       "            <td>2302</td>\n",
       "            <td>3</td>\n",
       "        </tr>\n",
       "        <tr>\n",
       "            <td>CS004614000122</td>\n",
       "            <td>248</td>\n",
       "            <td>1</td>\n",
       "        </tr>\n",
       "        <tr>\n",
       "            <td>CS003512000043</td>\n",
       "            <td>298</td>\n",
       "            <td>1</td>\n",
       "        </tr>\n",
       "        <tr>\n",
       "            <td>CS011615000061</td>\n",
       "            <td>246</td>\n",
       "            <td>1</td>\n",
       "        </tr>\n",
       "        <tr>\n",
       "            <td>CS029212000033</td>\n",
       "            <td>3604</td>\n",
       "            <td>3</td>\n",
       "        </tr>\n",
       "        <tr>\n",
       "            <td>CS007515000119</td>\n",
       "            <td>7157</td>\n",
       "            <td>4</td>\n",
       "        </tr>\n",
       "        <tr>\n",
       "            <td>CS034515000123</td>\n",
       "            <td>3699</td>\n",
       "            <td>4</td>\n",
       "        </tr>\n",
       "        <tr>\n",
       "            <td>CS004315000058</td>\n",
       "            <td>490</td>\n",
       "            <td>1</td>\n",
       "        </tr>\n",
       "        <tr>\n",
       "            <td>CS026414000014</td>\n",
       "            <td>6671</td>\n",
       "            <td>4</td>\n",
       "        </tr>\n",
       "        <tr>\n",
       "            <td>CS001615000099</td>\n",
       "            <td>768</td>\n",
       "            <td>2</td>\n",
       "        </tr>\n",
       "    </tbody>\n",
       "</table>"
      ],
      "text/plain": [
       "[('CS001311000059', 2302, 3),\n",
       " ('CS004614000122', 248, 1),\n",
       " ('CS003512000043', 298, 1),\n",
       " ('CS011615000061', 246, 1),\n",
       " ('CS029212000033', 3604, 3),\n",
       " ('CS007515000119', 7157, 4),\n",
       " ('CS034515000123', 3699, 4),\n",
       " ('CS004315000058', 490, 1),\n",
       " ('CS026414000014', 6671, 4),\n",
       " ('CS001615000099', 768, 2)]"
      ]
     },
     "execution_count": 60,
     "metadata": {},
     "output_type": "execute_result"
    }
   ],
   "source": [
    "%%sql\n",
    "\n",
    "WITH sales_amount AS(\n",
    "    SELECT\n",
    "        customer_id,\n",
    "        SUM(amount) as sum_amount\n",
    "    FROM\n",
    "        receipt\n",
    "    GROUP BY\n",
    "        customer_id\n",
    "),\n",
    "sales_pct AS (\n",
    "    SELECT\n",
    "        PERCENTILE_CONT(0.25) WITHIN GROUP(ORDER BY sum_amount) AS pct25,\n",
    "        PERCENTILE_CONT(0.50) WITHIN GROUP(ORDER BY sum_amount) AS pct50,\n",
    "        PERCENTILE_CONT(0.75) WITHIN GROUP(ORDER BY sum_amount) AS pct75\n",
    "    FROM\n",
    "        sales_amount\n",
    ")\n",
    "SELECT\n",
    "    a.customer_id,\n",
    "    a.sum_amount,\n",
    "    CASE\n",
    "        WHEN a.sum_amount < pct25 THEN 1\n",
    "        WHEN pct25 <= a.sum_amount and a.sum_amount < pct50 THEN 2\n",
    "        WHEN pct50 <= a.sum_amount and a.sum_amount < pct75 THEN 3\n",
    "        WHEN pct75 <= a.sum_amount THEN 4\n",
    "    END as pct_flg\n",
    "FROM sales_amount a\n",
    "CROSS JOIN sales_pct p\n",
    "LIMIT 10"
   ]
  },
  {
   "cell_type": "markdown",
   "metadata": {},
   "source": [
    "---\n",
    "> S-056: 顧客テーブル（customer）の年齢（age）をもとに10歳刻みで年代を算出し、顧客ID（customer_id）、生年月日（birth_day）とともに抽出せよ。ただし、60歳以上は全て60歳代とすること。年代を表すカテゴリ名は任意とする。先頭10件を表示させればよい。"
   ]
  },
  {
   "cell_type": "code",
   "execution_count": 61,
   "metadata": {},
   "outputs": [
    {
     "name": "stdout",
     "output_type": "stream",
     "text": [
      " * postgresql://padawan:***@db:5432/dsdojo_db\n",
      "10 rows affected.\n"
     ]
    },
    {
     "data": {
      "text/html": [
       "<table>\n",
       "    <thead>\n",
       "        <tr>\n",
       "            <th>customer_id</th>\n",
       "            <th>birth_day</th>\n",
       "            <th>era</th>\n",
       "        </tr>\n",
       "    </thead>\n",
       "    <tbody>\n",
       "        <tr>\n",
       "            <td>CS001105000001</td>\n",
       "            <td>2000-01-14</td>\n",
       "            <td>10</td>\n",
       "        </tr>\n",
       "        <tr>\n",
       "            <td>CS001112000009</td>\n",
       "            <td>2006-08-24</td>\n",
       "            <td>10</td>\n",
       "        </tr>\n",
       "        <tr>\n",
       "            <td>CS001112000019</td>\n",
       "            <td>2001-01-31</td>\n",
       "            <td>10</td>\n",
       "        </tr>\n",
       "        <tr>\n",
       "            <td>CS001112000021</td>\n",
       "            <td>2001-12-15</td>\n",
       "            <td>10</td>\n",
       "        </tr>\n",
       "        <tr>\n",
       "            <td>CS001112000023</td>\n",
       "            <td>2004-01-26</td>\n",
       "            <td>10</td>\n",
       "        </tr>\n",
       "        <tr>\n",
       "            <td>CS001112000024</td>\n",
       "            <td>2001-01-16</td>\n",
       "            <td>10</td>\n",
       "        </tr>\n",
       "        <tr>\n",
       "            <td>CS001112000029</td>\n",
       "            <td>2005-01-24</td>\n",
       "            <td>10</td>\n",
       "        </tr>\n",
       "        <tr>\n",
       "            <td>CS001112000030</td>\n",
       "            <td>2003-03-02</td>\n",
       "            <td>10</td>\n",
       "        </tr>\n",
       "        <tr>\n",
       "            <td>CS001113000004</td>\n",
       "            <td>2003-02-22</td>\n",
       "            <td>10</td>\n",
       "        </tr>\n",
       "        <tr>\n",
       "            <td>CS001113000010</td>\n",
       "            <td>2005-05-09</td>\n",
       "            <td>10</td>\n",
       "        </tr>\n",
       "    </tbody>\n",
       "</table>"
      ],
      "text/plain": [
       "[('CS001105000001', datetime.date(2000, 1, 14), 10),\n",
       " ('CS001112000009', datetime.date(2006, 8, 24), 10),\n",
       " ('CS001112000019', datetime.date(2001, 1, 31), 10),\n",
       " ('CS001112000021', datetime.date(2001, 12, 15), 10),\n",
       " ('CS001112000023', datetime.date(2004, 1, 26), 10),\n",
       " ('CS001112000024', datetime.date(2001, 1, 16), 10),\n",
       " ('CS001112000029', datetime.date(2005, 1, 24), 10),\n",
       " ('CS001112000030', datetime.date(2003, 3, 2), 10),\n",
       " ('CS001113000004', datetime.date(2003, 2, 22), 10),\n",
       " ('CS001113000010', datetime.date(2005, 5, 9), 10)]"
      ]
     },
     "execution_count": 61,
     "metadata": {},
     "output_type": "execute_result"
    }
   ],
   "source": [
    "%%sql\n",
    "\n",
    "SELECT\n",
    "    customer_id,\n",
    "    birth_day,\n",
    "    LEAST(CAST(TRUNC(age / 10) * 10 AS INTEGER), 60) AS era\n",
    "FROM\n",
    "    customer\n",
    "GROUP BY\n",
    "    customer_id,\n",
    "    birth_day\n",
    "    -- 確認用の条件\n",
    "    --HAVING LEAST(CAST(TRUNC(age / 10) * 10 AS INTEGER), 60) >= 60\n",
    "LIMIT 10"
   ]
  },
  {
   "cell_type": "markdown",
   "metadata": {},
   "source": [
    "---\n",
    "> S-057: 前問題の抽出結果と性別（gender）を組み合わせ、新たに性別×年代の組み合わせを表すカテゴリデータを作成せよ。組み合わせを表すカテゴリの値は任意とする。先頭10件を表示させればよい。"
   ]
  },
  {
   "cell_type": "code",
   "execution_count": 62,
   "metadata": {},
   "outputs": [
    {
     "name": "stdout",
     "output_type": "stream",
     "text": [
      " * postgresql://padawan:***@db:5432/dsdojo_db\n",
      "10 rows affected.\n"
     ]
    },
    {
     "data": {
      "text/html": [
       "<table>\n",
       "    <thead>\n",
       "        <tr>\n",
       "            <th>customer_id</th>\n",
       "            <th>birth_day</th>\n",
       "            <th>era</th>\n",
       "        </tr>\n",
       "    </thead>\n",
       "    <tbody>\n",
       "        <tr>\n",
       "            <td>CS001413000478</td>\n",
       "            <td>1953-01-29</td>\n",
       "            <td>160</td>\n",
       "        </tr>\n",
       "        <tr>\n",
       "            <td>CS001413000794</td>\n",
       "            <td>1939-10-09</td>\n",
       "            <td>160</td>\n",
       "        </tr>\n",
       "        <tr>\n",
       "            <td>CS001415000389</td>\n",
       "            <td>1933-10-08</td>\n",
       "            <td>160</td>\n",
       "        </tr>\n",
       "        <tr>\n",
       "            <td>CS001501000030</td>\n",
       "            <td>1940-07-01</td>\n",
       "            <td>060</td>\n",
       "        </tr>\n",
       "        <tr>\n",
       "            <td>CS001512000067</td>\n",
       "            <td>1959-01-04</td>\n",
       "            <td>160</td>\n",
       "        </tr>\n",
       "        <tr>\n",
       "            <td>CS001512000326</td>\n",
       "            <td>1959-02-17</td>\n",
       "            <td>960</td>\n",
       "        </tr>\n",
       "        <tr>\n",
       "            <td>CS001512000368</td>\n",
       "            <td>1959-03-23</td>\n",
       "            <td>160</td>\n",
       "        </tr>\n",
       "        <tr>\n",
       "            <td>CS001512000417</td>\n",
       "            <td>1959-01-20</td>\n",
       "            <td>160</td>\n",
       "        </tr>\n",
       "        <tr>\n",
       "            <td>CS001512000436</td>\n",
       "            <td>1953-02-13</td>\n",
       "            <td>160</td>\n",
       "        </tr>\n",
       "        <tr>\n",
       "            <td>CS001513000035</td>\n",
       "            <td>1958-12-10</td>\n",
       "            <td>160</td>\n",
       "        </tr>\n",
       "    </tbody>\n",
       "</table>"
      ],
      "text/plain": [
       "[('CS001413000478', datetime.date(1953, 1, 29), '160'),\n",
       " ('CS001413000794', datetime.date(1939, 10, 9), '160'),\n",
       " ('CS001415000389', datetime.date(1933, 10, 8), '160'),\n",
       " ('CS001501000030', datetime.date(1940, 7, 1), '060'),\n",
       " ('CS001512000067', datetime.date(1959, 1, 4), '160'),\n",
       " ('CS001512000326', datetime.date(1959, 2, 17), '960'),\n",
       " ('CS001512000368', datetime.date(1959, 3, 23), '160'),\n",
       " ('CS001512000417', datetime.date(1959, 1, 20), '160'),\n",
       " ('CS001512000436', datetime.date(1953, 2, 13), '160'),\n",
       " ('CS001513000035', datetime.date(1958, 12, 10), '160')]"
      ]
     },
     "execution_count": 62,
     "metadata": {},
     "output_type": "execute_result"
    }
   ],
   "source": [
    "%%sql\n",
    "\n",
    "SELECT\n",
    "    customer_id,\n",
    "    birth_day,\n",
    "    gender_cd || LEAST(CAST(TRUNC(age / 10) * 10 AS INTEGER), 60) AS era\n",
    "FROM\n",
    "    customer\n",
    "GROUP BY\n",
    "    customer_id,\n",
    "    birth_day\n",
    "HAVING LEAST(CAST(TRUNC(age / 10) * 10 AS INTEGER), 60) >= 60\n",
    "LIMIT 10"
   ]
  },
  {
   "cell_type": "markdown",
   "metadata": {},
   "source": [
    "---\n",
    "> S-058: 顧客テーブル（customer）の性別コード（gender_cd）をダミー変数化し、顧客ID（customer_id）とともに抽出せよ。結果は10件表示させれば良い。"
   ]
  },
  {
   "cell_type": "code",
   "execution_count": 63,
   "metadata": {},
   "outputs": [
    {
     "name": "stdout",
     "output_type": "stream",
     "text": [
      " * postgresql://padawan:***@db:5432/dsdojo_db\n",
      "10 rows affected.\n"
     ]
    },
    {
     "data": {
      "text/html": [
       "<table>\n",
       "    <thead>\n",
       "        <tr>\n",
       "            <th>customer_id</th>\n",
       "            <th>gender_male</th>\n",
       "            <th>gender_female</th>\n",
       "            <th>gender_unknown</th>\n",
       "        </tr>\n",
       "    </thead>\n",
       "    <tbody>\n",
       "        <tr>\n",
       "            <td>CS021313000114</td>\n",
       "            <td>0</td>\n",
       "            <td>1</td>\n",
       "            <td>0</td>\n",
       "        </tr>\n",
       "        <tr>\n",
       "            <td>CS037613000071</td>\n",
       "            <td>0</td>\n",
       "            <td>0</td>\n",
       "            <td>1</td>\n",
       "        </tr>\n",
       "        <tr>\n",
       "            <td>CS031415000172</td>\n",
       "            <td>0</td>\n",
       "            <td>1</td>\n",
       "            <td>0</td>\n",
       "        </tr>\n",
       "        <tr>\n",
       "            <td>CS028811000001</td>\n",
       "            <td>0</td>\n",
       "            <td>1</td>\n",
       "            <td>0</td>\n",
       "        </tr>\n",
       "        <tr>\n",
       "            <td>CS001215000145</td>\n",
       "            <td>0</td>\n",
       "            <td>1</td>\n",
       "            <td>0</td>\n",
       "        </tr>\n",
       "        <tr>\n",
       "            <td>CS020401000016</td>\n",
       "            <td>1</td>\n",
       "            <td>0</td>\n",
       "            <td>0</td>\n",
       "        </tr>\n",
       "        <tr>\n",
       "            <td>CS015414000103</td>\n",
       "            <td>0</td>\n",
       "            <td>1</td>\n",
       "            <td>0</td>\n",
       "        </tr>\n",
       "        <tr>\n",
       "            <td>CS029403000008</td>\n",
       "            <td>1</td>\n",
       "            <td>0</td>\n",
       "            <td>0</td>\n",
       "        </tr>\n",
       "        <tr>\n",
       "            <td>CS015804000004</td>\n",
       "            <td>1</td>\n",
       "            <td>0</td>\n",
       "            <td>0</td>\n",
       "        </tr>\n",
       "        <tr>\n",
       "            <td>CS033513000180</td>\n",
       "            <td>0</td>\n",
       "            <td>1</td>\n",
       "            <td>0</td>\n",
       "        </tr>\n",
       "    </tbody>\n",
       "</table>"
      ],
      "text/plain": [
       "[('CS021313000114', '0', '1', '0'),\n",
       " ('CS037613000071', '0', '0', '1'),\n",
       " ('CS031415000172', '0', '1', '0'),\n",
       " ('CS028811000001', '0', '1', '0'),\n",
       " ('CS001215000145', '0', '1', '0'),\n",
       " ('CS020401000016', '1', '0', '0'),\n",
       " ('CS015414000103', '0', '1', '0'),\n",
       " ('CS029403000008', '1', '0', '0'),\n",
       " ('CS015804000004', '1', '0', '0'),\n",
       " ('CS033513000180', '0', '1', '0')]"
      ]
     },
     "execution_count": 63,
     "metadata": {},
     "output_type": "execute_result"
    }
   ],
   "source": [
    "%%sql\n",
    "\n",
    "-- SQL向きではないため、やや強引に記載する（カテゴリ数が多いときはとても長いSQLとなってしまう点に注意）\n",
    "SELECT\n",
    "    customer_id,\n",
    "    CASE WHEN gender_cd = '0' THEN '1' ELSE '0' END AS gender_male,\n",
    "    CASE WHEN gender_cd = '1' THEN '1' ELSE '0' END AS gender_female,\n",
    "    CASE WHEN gender_cd = '9' THEN '1' ELSE '0' END AS gender_unknown\n",
    "FROM\n",
    "    customer\n",
    "LIMIT 10"
   ]
  },
  {
   "cell_type": "markdown",
   "metadata": {},
   "source": [
    "---\n",
    "> S-059: レシート明細テーブル（receipt）の売上金額（amount）を顧客ID（customer_id）ごとに合計し、売上金額合計を平均0、標準偏差1に標準化して顧客ID、売上金額合計とともに表示せよ。標準化に使用する標準偏差は、不偏標準偏差と標本標準偏差のどちらでも良いものとする。ただし、顧客IDが\"Z\"から始まるのものは非会員を表すため、除外して計算すること。結果は10件表示させれば良い。"
   ]
  },
  {
   "cell_type": "code",
   "execution_count": 64,
   "metadata": {},
   "outputs": [
    {
     "name": "stdout",
     "output_type": "stream",
     "text": [
      " * postgresql://padawan:***@db:5432/dsdojo_db\n",
      "10 rows affected.\n"
     ]
    },
    {
     "data": {
      "text/html": [
       "<table>\n",
       "    <thead>\n",
       "        <tr>\n",
       "            <th>customer_id</th>\n",
       "            <th>sum_amount</th>\n",
       "            <th>normal_amount</th>\n",
       "        </tr>\n",
       "    </thead>\n",
       "    <tbody>\n",
       "        <tr>\n",
       "            <td>CS001311000059</td>\n",
       "            <td>2302</td>\n",
       "            <td>-0.09032402671702291270</td>\n",
       "        </tr>\n",
       "        <tr>\n",
       "            <td>CS004614000122</td>\n",
       "            <td>248</td>\n",
       "            <td>-0.84528400025253654164</td>\n",
       "        </tr>\n",
       "        <tr>\n",
       "            <td>CS003512000043</td>\n",
       "            <td>298</td>\n",
       "            <td>-0.82690620148098070841</td>\n",
       "        </tr>\n",
       "        <tr>\n",
       "            <td>CS011615000061</td>\n",
       "            <td>246</td>\n",
       "            <td>-0.84601911220339877497</td>\n",
       "        </tr>\n",
       "        <tr>\n",
       "            <td>CS029212000033</td>\n",
       "            <td>3604</td>\n",
       "            <td>0.38823385329429098451</td>\n",
       "        </tr>\n",
       "        <tr>\n",
       "            <td>CS007515000119</td>\n",
       "            <td>7157</td>\n",
       "            <td>1.6941602340010485</td>\n",
       "        </tr>\n",
       "        <tr>\n",
       "            <td>CS034515000123</td>\n",
       "            <td>3699</td>\n",
       "            <td>0.42315167096024706764</td>\n",
       "        </tr>\n",
       "        <tr>\n",
       "            <td>CS004315000058</td>\n",
       "            <td>490</td>\n",
       "            <td>-0.75633545419820630882</td>\n",
       "        </tr>\n",
       "        <tr>\n",
       "            <td>CS026414000014</td>\n",
       "            <td>6671</td>\n",
       "            <td>1.5155280299415258</td>\n",
       "        </tr>\n",
       "        <tr>\n",
       "            <td>CS001615000099</td>\n",
       "            <td>768</td>\n",
       "            <td>-0.65415489302835587608</td>\n",
       "        </tr>\n",
       "    </tbody>\n",
       "</table>"
      ],
      "text/plain": [
       "[('CS001311000059', 2302, Decimal('-0.09032402671702291270')),\n",
       " ('CS004614000122', 248, Decimal('-0.84528400025253654164')),\n",
       " ('CS003512000043', 298, Decimal('-0.82690620148098070841')),\n",
       " ('CS011615000061', 246, Decimal('-0.84601911220339877497')),\n",
       " ('CS029212000033', 3604, Decimal('0.38823385329429098451')),\n",
       " ('CS007515000119', 7157, Decimal('1.6941602340010485')),\n",
       " ('CS034515000123', 3699, Decimal('0.42315167096024706764')),\n",
       " ('CS004315000058', 490, Decimal('-0.75633545419820630882')),\n",
       " ('CS026414000014', 6671, Decimal('1.5155280299415258')),\n",
       " ('CS001615000099', 768, Decimal('-0.65415489302835587608'))]"
      ]
     },
     "execution_count": 64,
     "metadata": {},
     "output_type": "execute_result"
    }
   ],
   "source": [
    "%%sql\n",
    "\n",
    "WITH sales_amount AS(\n",
    "    SELECT\n",
    "        customer_id,\n",
    "        SUM(amount) as sum_amount\n",
    "    FROM\n",
    "        receipt\n",
    "    WHERE\n",
    "        customer_id NOT LIKE 'Z%'\n",
    "    GROUP BY\n",
    "        customer_id\n",
    "),\n",
    "stats_amount AS (\n",
    "    SELECT\n",
    "        AVG(sum_amount) as avg_amount,\n",
    "        stddev_samp(sum_amount) as std_amount\n",
    "    FROM\n",
    "        sales_amount\n",
    ")\n",
    "SELECT\n",
    "    customer_id,\n",
    "    sum_amount,\n",
    "    (sum_amount - avg_amount) / std_amount as normal_amount\n",
    "FROM sales_amount\n",
    "CROSS JOIN stats_amount\n",
    "LIMIT 10"
   ]
  },
  {
   "cell_type": "markdown",
   "metadata": {},
   "source": [
    "---\n",
    "> S-060: レシート明細テーブル（receipt）の売上金額（amount）を顧客ID（customer_id）ごとに合計し、売上金額合計を最小値0、最大値1に正規化して顧客ID、売上金額合計とともに表示せよ。ただし、顧客IDが\"Z\"から始まるのものは非会員を表すため、除外して計算すること。結果は10件表示させれば良い。"
   ]
  },
  {
   "cell_type": "code",
   "execution_count": 65,
   "metadata": {},
   "outputs": [
    {
     "name": "stdout",
     "output_type": "stream",
     "text": [
      " * postgresql://padawan:***@db:5432/dsdojo_db\n",
      "10 rows affected.\n"
     ]
    },
    {
     "data": {
      "text/html": [
       "<table>\n",
       "    <thead>\n",
       "        <tr>\n",
       "            <th>customer_id</th>\n",
       "            <th>sum_amount</th>\n",
       "            <th>scale_amount</th>\n",
       "        </tr>\n",
       "    </thead>\n",
       "    <tbody>\n",
       "        <tr>\n",
       "            <td>CS001311000059</td>\n",
       "            <td>2302</td>\n",
       "            <td>0.096976016684045881130</td>\n",
       "        </tr>\n",
       "        <tr>\n",
       "            <td>CS004614000122</td>\n",
       "            <td>248</td>\n",
       "            <td>0.007733750434480361490</td>\n",
       "        </tr>\n",
       "        <tr>\n",
       "            <td>CS003512000043</td>\n",
       "            <td>298</td>\n",
       "            <td>0.009906152241918665280</td>\n",
       "        </tr>\n",
       "        <tr>\n",
       "            <td>CS011615000061</td>\n",
       "            <td>246</td>\n",
       "            <td>0.007646854362182829340</td>\n",
       "        </tr>\n",
       "        <tr>\n",
       "            <td>CS029212000033</td>\n",
       "            <td>3604</td>\n",
       "            <td>0.153545359749739311780</td>\n",
       "        </tr>\n",
       "        <tr>\n",
       "            <td>CS007515000119</td>\n",
       "            <td>7157</td>\n",
       "            <td>0.307916232186305179010</td>\n",
       "        </tr>\n",
       "        <tr>\n",
       "            <td>CS034515000123</td>\n",
       "            <td>3699</td>\n",
       "            <td>0.157672923183872088980</td>\n",
       "        </tr>\n",
       "        <tr>\n",
       "            <td>CS004315000058</td>\n",
       "            <td>490</td>\n",
       "            <td>0.018248175182481751820</td>\n",
       "        </tr>\n",
       "        <tr>\n",
       "            <td>CS026414000014</td>\n",
       "            <td>6671</td>\n",
       "            <td>0.286800486618004866180</td>\n",
       "        </tr>\n",
       "        <tr>\n",
       "            <td>CS001615000099</td>\n",
       "            <td>768</td>\n",
       "            <td>0.030326729231838720890</td>\n",
       "        </tr>\n",
       "    </tbody>\n",
       "</table>"
      ],
      "text/plain": [
       "[('CS001311000059', 2302, Decimal('0.096976016684045881130')),\n",
       " ('CS004614000122', 248, Decimal('0.007733750434480361490')),\n",
       " ('CS003512000043', 298, Decimal('0.009906152241918665280')),\n",
       " ('CS011615000061', 246, Decimal('0.007646854362182829340')),\n",
       " ('CS029212000033', 3604, Decimal('0.153545359749739311780')),\n",
       " ('CS007515000119', 7157, Decimal('0.307916232186305179010')),\n",
       " ('CS034515000123', 3699, Decimal('0.157672923183872088980')),\n",
       " ('CS004315000058', 490, Decimal('0.018248175182481751820')),\n",
       " ('CS026414000014', 6671, Decimal('0.286800486618004866180')),\n",
       " ('CS001615000099', 768, Decimal('0.030326729231838720890'))]"
      ]
     },
     "execution_count": 65,
     "metadata": {},
     "output_type": "execute_result"
    }
   ],
   "source": [
    "%%sql\n",
    "\n",
    "WITH sales_amount AS(\n",
    "    SELECT\n",
    "        customer_id,\n",
    "        SUM(amount) as sum_amount\n",
    "    FROM\n",
    "        receipt\n",
    "    WHERE\n",
    "        customer_id NOT LIKE 'Z%'\n",
    "    GROUP BY\n",
    "        customer_id\n",
    "),\n",
    "stats_amount AS (\n",
    "    SELECT\n",
    "        max(sum_amount) as max_amount,\n",
    "        min(sum_amount) as min_amount\n",
    "    FROM\n",
    "        sales_amount\n",
    ")\n",
    "SELECT\n",
    "    customer_id,\n",
    "    sum_amount,\n",
    "    (sum_amount - min_amount) * 1.0 \n",
    "            / (max_amount -  min_amount) * 1.0 AS scale_amount\n",
    "FROM sales_amount\n",
    "CROSS JOIN stats_amount\n",
    "LIMIT 10"
   ]
  },
  {
   "cell_type": "markdown",
   "metadata": {},
   "source": [
    "---\n",
    "> S-061: レシート明細テーブル（receipt）の売上金額（amount）を顧客ID（customer_id）ごとに合計し、売上金額合計を常用対数化（底=10）して顧客ID、売上金額合計とともに表示せよ。ただし、顧客IDが\"Z\"から始まるのものは非会員を表すため、除外して計算すること。結果は10件表示させれば良い。"
   ]
  },
  {
   "cell_type": "code",
   "execution_count": 66,
   "metadata": {},
   "outputs": [
    {
     "name": "stdout",
     "output_type": "stream",
     "text": [
      " * postgresql://padawan:***@db:5432/dsdojo_db\n",
      "10 rows affected.\n"
     ]
    },
    {
     "data": {
      "text/html": [
       "<table>\n",
       "    <thead>\n",
       "        <tr>\n",
       "            <th>customer_id</th>\n",
       "            <th>sum</th>\n",
       "            <th>log_amount</th>\n",
       "        </tr>\n",
       "    </thead>\n",
       "    <tbody>\n",
       "        <tr>\n",
       "            <td>CS001311000059</td>\n",
       "            <td>2302</td>\n",
       "            <td>3.362293937964231</td>\n",
       "        </tr>\n",
       "        <tr>\n",
       "            <td>CS004614000122</td>\n",
       "            <td>248</td>\n",
       "            <td>2.3961993470957363</td>\n",
       "        </tr>\n",
       "        <tr>\n",
       "            <td>CS003512000043</td>\n",
       "            <td>298</td>\n",
       "            <td>2.4756711883244296</td>\n",
       "        </tr>\n",
       "        <tr>\n",
       "            <td>CS011615000061</td>\n",
       "            <td>246</td>\n",
       "            <td>2.392696953259666</td>\n",
       "        </tr>\n",
       "        <tr>\n",
       "            <td>CS029212000033</td>\n",
       "            <td>3604</td>\n",
       "            <td>3.5569052690554477</td>\n",
       "        </tr>\n",
       "        <tr>\n",
       "            <td>CS007515000119</td>\n",
       "            <td>7157</td>\n",
       "            <td>3.8547916940539855</td>\n",
       "        </tr>\n",
       "        <tr>\n",
       "            <td>CS034515000123</td>\n",
       "            <td>3699</td>\n",
       "            <td>3.568201724066995</td>\n",
       "        </tr>\n",
       "        <tr>\n",
       "            <td>CS004315000058</td>\n",
       "            <td>490</td>\n",
       "            <td>2.6910814921229687</td>\n",
       "        </tr>\n",
       "        <tr>\n",
       "            <td>CS026414000014</td>\n",
       "            <td>6671</td>\n",
       "            <td>3.824256037629682</td>\n",
       "        </tr>\n",
       "        <tr>\n",
       "            <td>CS001615000099</td>\n",
       "            <td>768</td>\n",
       "            <td>2.885926339801431</td>\n",
       "        </tr>\n",
       "    </tbody>\n",
       "</table>"
      ],
      "text/plain": [
       "[('CS001311000059', 2302, 3.362293937964231),\n",
       " ('CS004614000122', 248, 2.3961993470957363),\n",
       " ('CS003512000043', 298, 2.4756711883244296),\n",
       " ('CS011615000061', 246, 2.392696953259666),\n",
       " ('CS029212000033', 3604, 3.5569052690554477),\n",
       " ('CS007515000119', 7157, 3.8547916940539855),\n",
       " ('CS034515000123', 3699, 3.568201724066995),\n",
       " ('CS004315000058', 490, 2.6910814921229687),\n",
       " ('CS026414000014', 6671, 3.824256037629682),\n",
       " ('CS001615000099', 768, 2.885926339801431)]"
      ]
     },
     "execution_count": 66,
     "metadata": {},
     "output_type": "execute_result"
    }
   ],
   "source": [
    "%%sql\n",
    "\n",
    "SELECT\n",
    "    customer_id,\n",
    "    SUM(amount),\n",
    "    LOG(SUM(amount) + 1) as log_amount\n",
    "FROM\n",
    "    receipt\n",
    "WHERE\n",
    "    customer_id NOT LIKE 'Z%'\n",
    "GROUP BY\n",
    "    customer_id\n",
    "LIMIT 10"
   ]
  },
  {
   "cell_type": "markdown",
   "metadata": {},
   "source": [
    "---\n",
    "> S-062: レシート明細テーブル（receipt）の売上金額（amount）を顧客ID（customer_id）ごとに合計し、売上金額合計を自然対数化(底=e）して顧客ID、売上金額合計とともに表示せよ（ただし、顧客IDが\"Z\"から始まるのものは非会員を表すため、除外して計算すること）。結果は10件表示させれば良い。"
   ]
  },
  {
   "cell_type": "code",
   "execution_count": 67,
   "metadata": {},
   "outputs": [
    {
     "name": "stdout",
     "output_type": "stream",
     "text": [
      " * postgresql://padawan:***@db:5432/dsdojo_db\n",
      "10 rows affected.\n"
     ]
    },
    {
     "data": {
      "text/html": [
       "<table>\n",
       "    <thead>\n",
       "        <tr>\n",
       "            <th>customer_id</th>\n",
       "            <th>sum</th>\n",
       "            <th>log_amount</th>\n",
       "        </tr>\n",
       "    </thead>\n",
       "    <tbody>\n",
       "        <tr>\n",
       "            <td>CS001311000059</td>\n",
       "            <td>2302</td>\n",
       "            <td>7.741967899820685</td>\n",
       "        </tr>\n",
       "        <tr>\n",
       "            <td>CS004614000122</td>\n",
       "            <td>248</td>\n",
       "            <td>5.517452896464707</td>\n",
       "        </tr>\n",
       "        <tr>\n",
       "            <td>CS003512000043</td>\n",
       "            <td>298</td>\n",
       "            <td>5.700443573390687</td>\n",
       "        </tr>\n",
       "        <tr>\n",
       "            <td>CS011615000061</td>\n",
       "            <td>246</td>\n",
       "            <td>5.5093883366279774</td>\n",
       "        </tr>\n",
       "        <tr>\n",
       "            <td>CS029212000033</td>\n",
       "            <td>3604</td>\n",
       "            <td>8.190077049719049</td>\n",
       "        </tr>\n",
       "        <tr>\n",
       "            <td>CS007515000119</td>\n",
       "            <td>7157</td>\n",
       "            <td>8.875985891325971</td>\n",
       "        </tr>\n",
       "        <tr>\n",
       "            <td>CS034515000123</td>\n",
       "            <td>3699</td>\n",
       "            <td>8.216088098632316</td>\n",
       "        </tr>\n",
       "        <tr>\n",
       "            <td>CS004315000058</td>\n",
       "            <td>490</td>\n",
       "            <td>6.19644412779452</td>\n",
       "        </tr>\n",
       "        <tr>\n",
       "            <td>CS026414000014</td>\n",
       "            <td>6671</td>\n",
       "            <td>8.805674944038582</td>\n",
       "        </tr>\n",
       "        <tr>\n",
       "            <td>CS001615000099</td>\n",
       "            <td>768</td>\n",
       "            <td>6.645090969505644</td>\n",
       "        </tr>\n",
       "    </tbody>\n",
       "</table>"
      ],
      "text/plain": [
       "[('CS001311000059', 2302, 7.741967899820685),\n",
       " ('CS004614000122', 248, 5.517452896464707),\n",
       " ('CS003512000043', 298, 5.700443573390687),\n",
       " ('CS011615000061', 246, 5.5093883366279774),\n",
       " ('CS029212000033', 3604, 8.190077049719049),\n",
       " ('CS007515000119', 7157, 8.875985891325971),\n",
       " ('CS034515000123', 3699, 8.216088098632316),\n",
       " ('CS004315000058', 490, 6.19644412779452),\n",
       " ('CS026414000014', 6671, 8.805674944038582),\n",
       " ('CS001615000099', 768, 6.645090969505644)]"
      ]
     },
     "execution_count": 67,
     "metadata": {},
     "output_type": "execute_result"
    }
   ],
   "source": [
    "%%sql\n",
    "\n",
    "SELECT\n",
    "    customer_id,\n",
    "    SUM(amount),\n",
    "    LN(SUM(amount) + 1) as log_amount\n",
    "FROM\n",
    "    receipt\n",
    "WHERE\n",
    "    customer_id NOT LIKE 'Z%'\n",
    "GROUP BY\n",
    "    customer_id\n",
    "LIMIT 10"
   ]
  },
  {
   "cell_type": "markdown",
   "metadata": {},
   "source": [
    "---\n",
    "> S-063: 商品テーブル（product）の単価（unit_price）と原価（unit_cost）から、各商品の利益額を算出せよ。結果は10件表示させれば良い。"
   ]
  },
  {
   "cell_type": "code",
   "execution_count": 68,
   "metadata": {},
   "outputs": [
    {
     "name": "stdout",
     "output_type": "stream",
     "text": [
      " * postgresql://padawan:***@db:5432/dsdojo_db\n",
      "10 rows affected.\n"
     ]
    },
    {
     "data": {
      "text/html": [
       "<table>\n",
       "    <thead>\n",
       "        <tr>\n",
       "            <th>product_cd</th>\n",
       "            <th>unit_price</th>\n",
       "            <th>unit_cost</th>\n",
       "            <th>unit_profit</th>\n",
       "        </tr>\n",
       "    </thead>\n",
       "    <tbody>\n",
       "        <tr>\n",
       "            <td>P040101001</td>\n",
       "            <td>198</td>\n",
       "            <td>149</td>\n",
       "            <td>49</td>\n",
       "        </tr>\n",
       "        <tr>\n",
       "            <td>P040101002</td>\n",
       "            <td>218</td>\n",
       "            <td>164</td>\n",
       "            <td>54</td>\n",
       "        </tr>\n",
       "        <tr>\n",
       "            <td>P040101003</td>\n",
       "            <td>230</td>\n",
       "            <td>173</td>\n",
       "            <td>57</td>\n",
       "        </tr>\n",
       "        <tr>\n",
       "            <td>P040101004</td>\n",
       "            <td>248</td>\n",
       "            <td>186</td>\n",
       "            <td>62</td>\n",
       "        </tr>\n",
       "        <tr>\n",
       "            <td>P040101005</td>\n",
       "            <td>268</td>\n",
       "            <td>201</td>\n",
       "            <td>67</td>\n",
       "        </tr>\n",
       "        <tr>\n",
       "            <td>P040101006</td>\n",
       "            <td>298</td>\n",
       "            <td>224</td>\n",
       "            <td>74</td>\n",
       "        </tr>\n",
       "        <tr>\n",
       "            <td>P040101007</td>\n",
       "            <td>338</td>\n",
       "            <td>254</td>\n",
       "            <td>84</td>\n",
       "        </tr>\n",
       "        <tr>\n",
       "            <td>P040101008</td>\n",
       "            <td>420</td>\n",
       "            <td>315</td>\n",
       "            <td>105</td>\n",
       "        </tr>\n",
       "        <tr>\n",
       "            <td>P040101009</td>\n",
       "            <td>498</td>\n",
       "            <td>374</td>\n",
       "            <td>124</td>\n",
       "        </tr>\n",
       "        <tr>\n",
       "            <td>P040101010</td>\n",
       "            <td>580</td>\n",
       "            <td>435</td>\n",
       "            <td>145</td>\n",
       "        </tr>\n",
       "    </tbody>\n",
       "</table>"
      ],
      "text/plain": [
       "[('P040101001', 198, 149, 49),\n",
       " ('P040101002', 218, 164, 54),\n",
       " ('P040101003', 230, 173, 57),\n",
       " ('P040101004', 248, 186, 62),\n",
       " ('P040101005', 268, 201, 67),\n",
       " ('P040101006', 298, 224, 74),\n",
       " ('P040101007', 338, 254, 84),\n",
       " ('P040101008', 420, 315, 105),\n",
       " ('P040101009', 498, 374, 124),\n",
       " ('P040101010', 580, 435, 145)]"
      ]
     },
     "execution_count": 68,
     "metadata": {},
     "output_type": "execute_result"
    }
   ],
   "source": [
    "%%sql\n",
    "\n",
    "SELECT\n",
    "    product_cd, \n",
    "    unit_price, \n",
    "    unit_cost,\n",
    "    unit_price - unit_cost as unit_profit\n",
    "FROM\n",
    "    product\n",
    "LIMIT 10"
   ]
  },
  {
   "cell_type": "markdown",
   "metadata": {},
   "source": [
    "---\n",
    "> S-064: 商品テーブル（product）の単価（unit_price）と原価（unit_cost）から、各商品の利益率の全体平均を算出せよ。 ただし、単価と原価にはNULLが存在することに注意せよ。"
   ]
  },
  {
   "cell_type": "code",
   "execution_count": 69,
   "metadata": {},
   "outputs": [
    {
     "name": "stdout",
     "output_type": "stream",
     "text": [
      " * postgresql://padawan:***@db:5432/dsdojo_db\n",
      "1 rows affected.\n"
     ]
    },
    {
     "data": {
      "text/html": [
       "<table>\n",
       "    <thead>\n",
       "        <tr>\n",
       "            <th>unit_profit_rate</th>\n",
       "        </tr>\n",
       "    </thead>\n",
       "    <tbody>\n",
       "        <tr>\n",
       "            <td>0.24911389885177001279</td>\n",
       "        </tr>\n",
       "    </tbody>\n",
       "</table>"
      ],
      "text/plain": [
       "[(Decimal('0.24911389885177001279'),)]"
      ]
     },
     "execution_count": 69,
     "metadata": {},
     "output_type": "execute_result"
    }
   ],
   "source": [
    "%%sql\n",
    "\n",
    "SELECT\n",
    "    AVG((unit_price * 1.0 - unit_cost) / unit_price) as unit_profit_rate\n",
    "FROM\n",
    "    product\n",
    "LIMIT 10"
   ]
  },
  {
   "cell_type": "markdown",
   "metadata": {},
   "source": [
    "---\n",
    "> S-065: 商品テーブル（product）の各商品について、利益率が30%となる新たな単価を求めよ。ただし、1円未満は切り捨てること。そして結果を10件表示させ、利益率がおよそ30％付近であることを確認せよ。ただし、単価（unit_price）と原価（unit_cost）にはNULLが存在することに注意せよ。"
   ]
  },
  {
   "cell_type": "code",
   "execution_count": 70,
   "metadata": {},
   "outputs": [
    {
     "name": "stdout",
     "output_type": "stream",
     "text": [
      " * postgresql://padawan:***@db:5432/dsdojo_db\n",
      "10 rows affected.\n"
     ]
    },
    {
     "data": {
      "text/html": [
       "<table>\n",
       "    <thead>\n",
       "        <tr>\n",
       "            <th>product_cd</th>\n",
       "            <th>unit_price</th>\n",
       "            <th>unit_cost</th>\n",
       "            <th>new_price</th>\n",
       "            <th>new_profit</th>\n",
       "        </tr>\n",
       "    </thead>\n",
       "    <tbody>\n",
       "        <tr>\n",
       "            <td>P040101001</td>\n",
       "            <td>198</td>\n",
       "            <td>149</td>\n",
       "            <td>212</td>\n",
       "            <td>0.29716981132075471698</td>\n",
       "        </tr>\n",
       "        <tr>\n",
       "            <td>P040101002</td>\n",
       "            <td>218</td>\n",
       "            <td>164</td>\n",
       "            <td>234</td>\n",
       "            <td>0.29914529914529914530</td>\n",
       "        </tr>\n",
       "        <tr>\n",
       "            <td>P040101003</td>\n",
       "            <td>230</td>\n",
       "            <td>173</td>\n",
       "            <td>247</td>\n",
       "            <td>0.29959514170040485830</td>\n",
       "        </tr>\n",
       "        <tr>\n",
       "            <td>P040101004</td>\n",
       "            <td>248</td>\n",
       "            <td>186</td>\n",
       "            <td>265</td>\n",
       "            <td>0.29811320754716981132</td>\n",
       "        </tr>\n",
       "        <tr>\n",
       "            <td>P040101005</td>\n",
       "            <td>268</td>\n",
       "            <td>201</td>\n",
       "            <td>287</td>\n",
       "            <td>0.29965156794425087108</td>\n",
       "        </tr>\n",
       "        <tr>\n",
       "            <td>P040101006</td>\n",
       "            <td>298</td>\n",
       "            <td>224</td>\n",
       "            <td>320</td>\n",
       "            <td>0.30000000000000000000</td>\n",
       "        </tr>\n",
       "        <tr>\n",
       "            <td>P040101007</td>\n",
       "            <td>338</td>\n",
       "            <td>254</td>\n",
       "            <td>362</td>\n",
       "            <td>0.29834254143646408840</td>\n",
       "        </tr>\n",
       "        <tr>\n",
       "            <td>P040101008</td>\n",
       "            <td>420</td>\n",
       "            <td>315</td>\n",
       "            <td>450</td>\n",
       "            <td>0.30000000000000000000</td>\n",
       "        </tr>\n",
       "        <tr>\n",
       "            <td>P040101009</td>\n",
       "            <td>498</td>\n",
       "            <td>374</td>\n",
       "            <td>534</td>\n",
       "            <td>0.29962546816479400749</td>\n",
       "        </tr>\n",
       "        <tr>\n",
       "            <td>P040101010</td>\n",
       "            <td>580</td>\n",
       "            <td>435</td>\n",
       "            <td>621</td>\n",
       "            <td>0.29951690821256038647</td>\n",
       "        </tr>\n",
       "    </tbody>\n",
       "</table>"
      ],
      "text/plain": [
       "[('P040101001', 198, 149, Decimal('212'), Decimal('0.29716981132075471698')),\n",
       " ('P040101002', 218, 164, Decimal('234'), Decimal('0.29914529914529914530')),\n",
       " ('P040101003', 230, 173, Decimal('247'), Decimal('0.29959514170040485830')),\n",
       " ('P040101004', 248, 186, Decimal('265'), Decimal('0.29811320754716981132')),\n",
       " ('P040101005', 268, 201, Decimal('287'), Decimal('0.29965156794425087108')),\n",
       " ('P040101006', 298, 224, Decimal('320'), Decimal('0.30000000000000000000')),\n",
       " ('P040101007', 338, 254, Decimal('362'), Decimal('0.29834254143646408840')),\n",
       " ('P040101008', 420, 315, Decimal('450'), Decimal('0.30000000000000000000')),\n",
       " ('P040101009', 498, 374, Decimal('534'), Decimal('0.29962546816479400749')),\n",
       " ('P040101010', 580, 435, Decimal('621'), Decimal('0.29951690821256038647'))]"
      ]
     },
     "execution_count": 70,
     "metadata": {},
     "output_type": "execute_result"
    }
   ],
   "source": [
    "%%sql\n",
    "\n",
    "SELECT\n",
    "    product_cd, \n",
    "    unit_price, \n",
    "    unit_cost,\n",
    "    TRUNC(unit_cost / 0.7) as new_price,\n",
    "    ((TRUNC(unit_cost / 0.7) - unit_cost) \n",
    "             / TRUNC(unit_cost / 0.7)) as new_profit\n",
    "FROM\n",
    "    product\n",
    "LIMIT 10"
   ]
  },
  {
   "cell_type": "markdown",
   "metadata": {},
   "source": [
    "---\n",
    "> S-066: 商品テーブル（product）の各商品について、利益率が30%となる新たな単価を求めよ。今回は、1円未満を四捨五入すること。そして結果を10件表示させ、利益率がおよそ30％付近であることを確認せよ。ただし、単価（unit_price）と原価（unit_cost）にはNULLが存在することに注意せよ。"
   ]
  },
  {
   "cell_type": "code",
   "execution_count": 71,
   "metadata": {},
   "outputs": [
    {
     "name": "stdout",
     "output_type": "stream",
     "text": [
      " * postgresql://padawan:***@db:5432/dsdojo_db\n",
      "1 rows affected.\n"
     ]
    },
    {
     "data": {
      "text/html": [
       "<table>\n",
       "    <thead>\n",
       "        <tr>\n",
       "            <th>round</th>\n",
       "        </tr>\n",
       "    </thead>\n",
       "    <tbody>\n",
       "        <tr>\n",
       "            <td>3</td>\n",
       "        </tr>\n",
       "    </tbody>\n",
       "</table>"
      ],
      "text/plain": [
       "[(Decimal('3'),)]"
      ]
     },
     "execution_count": 71,
     "metadata": {},
     "output_type": "execute_result"
    }
   ],
   "source": [
    "%%sql\n",
    "\n",
    "SELECT ROUND(2.5)"
   ]
  },
  {
   "cell_type": "code",
   "execution_count": 72,
   "metadata": {},
   "outputs": [
    {
     "name": "stdout",
     "output_type": "stream",
     "text": [
      " * postgresql://padawan:***@db:5432/dsdojo_db\n",
      "10 rows affected.\n"
     ]
    },
    {
     "data": {
      "text/html": [
       "<table>\n",
       "    <thead>\n",
       "        <tr>\n",
       "            <th>product_cd</th>\n",
       "            <th>unit_price</th>\n",
       "            <th>unit_cost</th>\n",
       "            <th>new_price</th>\n",
       "            <th>new_profit</th>\n",
       "        </tr>\n",
       "    </thead>\n",
       "    <tbody>\n",
       "        <tr>\n",
       "            <td>P040101001</td>\n",
       "            <td>198</td>\n",
       "            <td>149</td>\n",
       "            <td>213</td>\n",
       "            <td>0.30046948356807511737</td>\n",
       "        </tr>\n",
       "        <tr>\n",
       "            <td>P040101002</td>\n",
       "            <td>218</td>\n",
       "            <td>164</td>\n",
       "            <td>234</td>\n",
       "            <td>0.29914529914529914530</td>\n",
       "        </tr>\n",
       "        <tr>\n",
       "            <td>P040101003</td>\n",
       "            <td>230</td>\n",
       "            <td>173</td>\n",
       "            <td>247</td>\n",
       "            <td>0.29959514170040485830</td>\n",
       "        </tr>\n",
       "        <tr>\n",
       "            <td>P040101004</td>\n",
       "            <td>248</td>\n",
       "            <td>186</td>\n",
       "            <td>266</td>\n",
       "            <td>0.30075187969924812030</td>\n",
       "        </tr>\n",
       "        <tr>\n",
       "            <td>P040101005</td>\n",
       "            <td>268</td>\n",
       "            <td>201</td>\n",
       "            <td>287</td>\n",
       "            <td>0.29965156794425087108</td>\n",
       "        </tr>\n",
       "        <tr>\n",
       "            <td>P040101006</td>\n",
       "            <td>298</td>\n",
       "            <td>224</td>\n",
       "            <td>320</td>\n",
       "            <td>0.30000000000000000000</td>\n",
       "        </tr>\n",
       "        <tr>\n",
       "            <td>P040101007</td>\n",
       "            <td>338</td>\n",
       "            <td>254</td>\n",
       "            <td>363</td>\n",
       "            <td>0.30027548209366391185</td>\n",
       "        </tr>\n",
       "        <tr>\n",
       "            <td>P040101008</td>\n",
       "            <td>420</td>\n",
       "            <td>315</td>\n",
       "            <td>450</td>\n",
       "            <td>0.30000000000000000000</td>\n",
       "        </tr>\n",
       "        <tr>\n",
       "            <td>P040101009</td>\n",
       "            <td>498</td>\n",
       "            <td>374</td>\n",
       "            <td>534</td>\n",
       "            <td>0.29962546816479400749</td>\n",
       "        </tr>\n",
       "        <tr>\n",
       "            <td>P040101010</td>\n",
       "            <td>580</td>\n",
       "            <td>435</td>\n",
       "            <td>621</td>\n",
       "            <td>0.29951690821256038647</td>\n",
       "        </tr>\n",
       "    </tbody>\n",
       "</table>"
      ],
      "text/plain": [
       "[('P040101001', 198, 149, Decimal('213'), Decimal('0.30046948356807511737')),\n",
       " ('P040101002', 218, 164, Decimal('234'), Decimal('0.29914529914529914530')),\n",
       " ('P040101003', 230, 173, Decimal('247'), Decimal('0.29959514170040485830')),\n",
       " ('P040101004', 248, 186, Decimal('266'), Decimal('0.30075187969924812030')),\n",
       " ('P040101005', 268, 201, Decimal('287'), Decimal('0.29965156794425087108')),\n",
       " ('P040101006', 298, 224, Decimal('320'), Decimal('0.30000000000000000000')),\n",
       " ('P040101007', 338, 254, Decimal('363'), Decimal('0.30027548209366391185')),\n",
       " ('P040101008', 420, 315, Decimal('450'), Decimal('0.30000000000000000000')),\n",
       " ('P040101009', 498, 374, Decimal('534'), Decimal('0.29962546816479400749')),\n",
       " ('P040101010', 580, 435, Decimal('621'), Decimal('0.29951690821256038647'))]"
      ]
     },
     "execution_count": 72,
     "metadata": {},
     "output_type": "execute_result"
    }
   ],
   "source": [
    "%%sql\n",
    "\n",
    "SELECT\n",
    "    product_cd, \n",
    "    unit_price, \n",
    "    unit_cost,\n",
    "    ROUND(unit_cost / 0.7) as new_price,\n",
    "    ((ROUND(unit_cost / 0.7) - unit_cost) \n",
    "             / ROUND(unit_cost / 0.7)) as new_profit\n",
    "FROM\n",
    "    product\n",
    "LIMIT 10    "
   ]
  },
  {
   "cell_type": "markdown",
   "metadata": {},
   "source": [
    "---\n",
    "> S-067: 商品テーブル（product）の各商品について、利益率が30%となる新たな単価を求めよ。今回は、1円未満を切り上げること。そして結果を10件表示させ、利益率がおよそ30％付近であることを確認せよ。ただし、単価（unit_price）と原価（unit_cost）にはNULLが存在することに注意せよ。"
   ]
  },
  {
   "cell_type": "code",
   "execution_count": 73,
   "metadata": {},
   "outputs": [
    {
     "name": "stdout",
     "output_type": "stream",
     "text": [
      " * postgresql://padawan:***@db:5432/dsdojo_db\n",
      "10 rows affected.\n"
     ]
    },
    {
     "data": {
      "text/html": [
       "<table>\n",
       "    <thead>\n",
       "        <tr>\n",
       "            <th>product_cd</th>\n",
       "            <th>unit_price</th>\n",
       "            <th>unit_cost</th>\n",
       "            <th>new_price</th>\n",
       "            <th>new_profit</th>\n",
       "        </tr>\n",
       "    </thead>\n",
       "    <tbody>\n",
       "        <tr>\n",
       "            <td>P040101001</td>\n",
       "            <td>198</td>\n",
       "            <td>149</td>\n",
       "            <td>213</td>\n",
       "            <td>0.30046948356807511737</td>\n",
       "        </tr>\n",
       "        <tr>\n",
       "            <td>P040101002</td>\n",
       "            <td>218</td>\n",
       "            <td>164</td>\n",
       "            <td>235</td>\n",
       "            <td>0.30212765957446808511</td>\n",
       "        </tr>\n",
       "        <tr>\n",
       "            <td>P040101003</td>\n",
       "            <td>230</td>\n",
       "            <td>173</td>\n",
       "            <td>248</td>\n",
       "            <td>0.30241935483870967742</td>\n",
       "        </tr>\n",
       "        <tr>\n",
       "            <td>P040101004</td>\n",
       "            <td>248</td>\n",
       "            <td>186</td>\n",
       "            <td>266</td>\n",
       "            <td>0.30075187969924812030</td>\n",
       "        </tr>\n",
       "        <tr>\n",
       "            <td>P040101005</td>\n",
       "            <td>268</td>\n",
       "            <td>201</td>\n",
       "            <td>288</td>\n",
       "            <td>0.30208333333333333333</td>\n",
       "        </tr>\n",
       "        <tr>\n",
       "            <td>P040101006</td>\n",
       "            <td>298</td>\n",
       "            <td>224</td>\n",
       "            <td>320</td>\n",
       "            <td>0.30000000000000000000</td>\n",
       "        </tr>\n",
       "        <tr>\n",
       "            <td>P040101007</td>\n",
       "            <td>338</td>\n",
       "            <td>254</td>\n",
       "            <td>363</td>\n",
       "            <td>0.30027548209366391185</td>\n",
       "        </tr>\n",
       "        <tr>\n",
       "            <td>P040101008</td>\n",
       "            <td>420</td>\n",
       "            <td>315</td>\n",
       "            <td>450</td>\n",
       "            <td>0.30000000000000000000</td>\n",
       "        </tr>\n",
       "        <tr>\n",
       "            <td>P040101009</td>\n",
       "            <td>498</td>\n",
       "            <td>374</td>\n",
       "            <td>535</td>\n",
       "            <td>0.30093457943925233645</td>\n",
       "        </tr>\n",
       "        <tr>\n",
       "            <td>P040101010</td>\n",
       "            <td>580</td>\n",
       "            <td>435</td>\n",
       "            <td>622</td>\n",
       "            <td>0.30064308681672025723</td>\n",
       "        </tr>\n",
       "    </tbody>\n",
       "</table>"
      ],
      "text/plain": [
       "[('P040101001', 198, 149, Decimal('213'), Decimal('0.30046948356807511737')),\n",
       " ('P040101002', 218, 164, Decimal('235'), Decimal('0.30212765957446808511')),\n",
       " ('P040101003', 230, 173, Decimal('248'), Decimal('0.30241935483870967742')),\n",
       " ('P040101004', 248, 186, Decimal('266'), Decimal('0.30075187969924812030')),\n",
       " ('P040101005', 268, 201, Decimal('288'), Decimal('0.30208333333333333333')),\n",
       " ('P040101006', 298, 224, Decimal('320'), Decimal('0.30000000000000000000')),\n",
       " ('P040101007', 338, 254, Decimal('363'), Decimal('0.30027548209366391185')),\n",
       " ('P040101008', 420, 315, Decimal('450'), Decimal('0.30000000000000000000')),\n",
       " ('P040101009', 498, 374, Decimal('535'), Decimal('0.30093457943925233645')),\n",
       " ('P040101010', 580, 435, Decimal('622'), Decimal('0.30064308681672025723'))]"
      ]
     },
     "execution_count": 73,
     "metadata": {},
     "output_type": "execute_result"
    }
   ],
   "source": [
    "%%sql\n",
    "\n",
    "SELECT\n",
    "    product_cd, \n",
    "    unit_price, \n",
    "    unit_cost,\n",
    "    CEIL(unit_cost / 0.7) as new_price,\n",
    "    ((CEIL(unit_cost / 0.7) - unit_cost) / CEIL(unit_cost / 0.7)) as new_profit\n",
    "FROM\n",
    "    product\n",
    "LIMIT 10 "
   ]
  },
  {
   "cell_type": "markdown",
   "metadata": {},
   "source": [
    "---\n",
    "> S-068: 商品テーブル（product）の各商品について、消費税率10%の税込み金額を求めよ。 1円未満の端数は切り捨てとし、結果は10件表示すれば良い。ただし、単価（unit_price）にはNULLが存在することに注意せよ。"
   ]
  },
  {
   "cell_type": "code",
   "execution_count": 74,
   "metadata": {},
   "outputs": [
    {
     "name": "stdout",
     "output_type": "stream",
     "text": [
      " * postgresql://padawan:***@db:5432/dsdojo_db\n",
      "10 rows affected.\n"
     ]
    },
    {
     "data": {
      "text/html": [
       "<table>\n",
       "    <thead>\n",
       "        <tr>\n",
       "            <th>product_cd</th>\n",
       "            <th>unit_price</th>\n",
       "            <th>tax_price</th>\n",
       "        </tr>\n",
       "    </thead>\n",
       "    <tbody>\n",
       "        <tr>\n",
       "            <td>P040101001</td>\n",
       "            <td>198</td>\n",
       "            <td>217</td>\n",
       "        </tr>\n",
       "        <tr>\n",
       "            <td>P040101002</td>\n",
       "            <td>218</td>\n",
       "            <td>239</td>\n",
       "        </tr>\n",
       "        <tr>\n",
       "            <td>P040101003</td>\n",
       "            <td>230</td>\n",
       "            <td>253</td>\n",
       "        </tr>\n",
       "        <tr>\n",
       "            <td>P040101004</td>\n",
       "            <td>248</td>\n",
       "            <td>272</td>\n",
       "        </tr>\n",
       "        <tr>\n",
       "            <td>P040101005</td>\n",
       "            <td>268</td>\n",
       "            <td>294</td>\n",
       "        </tr>\n",
       "        <tr>\n",
       "            <td>P040101006</td>\n",
       "            <td>298</td>\n",
       "            <td>327</td>\n",
       "        </tr>\n",
       "        <tr>\n",
       "            <td>P040101007</td>\n",
       "            <td>338</td>\n",
       "            <td>371</td>\n",
       "        </tr>\n",
       "        <tr>\n",
       "            <td>P040101008</td>\n",
       "            <td>420</td>\n",
       "            <td>462</td>\n",
       "        </tr>\n",
       "        <tr>\n",
       "            <td>P040101009</td>\n",
       "            <td>498</td>\n",
       "            <td>547</td>\n",
       "        </tr>\n",
       "        <tr>\n",
       "            <td>P040101010</td>\n",
       "            <td>580</td>\n",
       "            <td>638</td>\n",
       "        </tr>\n",
       "    </tbody>\n",
       "</table>"
      ],
      "text/plain": [
       "[('P040101001', 198, Decimal('217')),\n",
       " ('P040101002', 218, Decimal('239')),\n",
       " ('P040101003', 230, Decimal('253')),\n",
       " ('P040101004', 248, Decimal('272')),\n",
       " ('P040101005', 268, Decimal('294')),\n",
       " ('P040101006', 298, Decimal('327')),\n",
       " ('P040101007', 338, Decimal('371')),\n",
       " ('P040101008', 420, Decimal('462')),\n",
       " ('P040101009', 498, Decimal('547')),\n",
       " ('P040101010', 580, Decimal('638'))]"
      ]
     },
     "execution_count": 74,
     "metadata": {},
     "output_type": "execute_result"
    }
   ],
   "source": [
    "%%sql\n",
    "\n",
    "SELECT\n",
    "    product_cd,\n",
    "    unit_price,\n",
    "    TRUNC(unit_price * 1.1) as tax_price\n",
    "FROM\n",
    "    product\n",
    "LIMIT 10"
   ]
  },
  {
   "cell_type": "markdown",
   "metadata": {},
   "source": [
    "---\n",
    "> S-069: レシート明細テーブル（receipt）と商品テーブル（product）を結合し、顧客毎に全商品の売上金額合計と、カテゴリ大区分（category_major_cd）が\"07\"（瓶詰缶詰）の売上金額合計を計算の上、両者の比率を求めよ。抽出対象はカテゴリ大区分\"07\"（瓶詰缶詰）の購入実績がある顧客のみとし、結果は10件表示させればよい。"
   ]
  },
  {
   "cell_type": "code",
   "execution_count": 75,
   "metadata": {},
   "outputs": [
    {
     "name": "stdout",
     "output_type": "stream",
     "text": [
      " * postgresql://padawan:***@db:5432/dsdojo_db\n",
      "10 rows affected.\n"
     ]
    },
    {
     "data": {
      "text/html": [
       "<table>\n",
       "    <thead>\n",
       "        <tr>\n",
       "            <th>customer_id</th>\n",
       "            <th>sum_all</th>\n",
       "            <th>sum_07</th>\n",
       "            <th>sales_rate</th>\n",
       "        </tr>\n",
       "    </thead>\n",
       "    <tbody>\n",
       "        <tr>\n",
       "            <td>CS001311000059</td>\n",
       "            <td>2302</td>\n",
       "            <td>102</td>\n",
       "            <td>0.04430929626411815812</td>\n",
       "        </tr>\n",
       "        <tr>\n",
       "            <td>CS011615000061</td>\n",
       "            <td>246</td>\n",
       "            <td>98</td>\n",
       "            <td>0.39837398373983739837</td>\n",
       "        </tr>\n",
       "        <tr>\n",
       "            <td>CS029212000033</td>\n",
       "            <td>3604</td>\n",
       "            <td>3604</td>\n",
       "            <td>1.00000000000000000000</td>\n",
       "        </tr>\n",
       "        <tr>\n",
       "            <td>CS007515000119</td>\n",
       "            <td>7157</td>\n",
       "            <td>2832</td>\n",
       "            <td>0.39569652088864049183</td>\n",
       "        </tr>\n",
       "        <tr>\n",
       "            <td>CS034515000123</td>\n",
       "            <td>3699</td>\n",
       "            <td>1202</td>\n",
       "            <td>0.32495268991619356583</td>\n",
       "        </tr>\n",
       "        <tr>\n",
       "            <td>CS026414000014</td>\n",
       "            <td>6671</td>\n",
       "            <td>3142</td>\n",
       "            <td>0.47099385399490331285</td>\n",
       "        </tr>\n",
       "        <tr>\n",
       "            <td>CS001615000099</td>\n",
       "            <td>768</td>\n",
       "            <td>318</td>\n",
       "            <td>0.41406250000000000000</td>\n",
       "        </tr>\n",
       "        <tr>\n",
       "            <td>CS010515000082</td>\n",
       "            <td>1482</td>\n",
       "            <td>553</td>\n",
       "            <td>0.37314439946018893387</td>\n",
       "        </tr>\n",
       "        <tr>\n",
       "            <td>CS019315000045</td>\n",
       "            <td>813</td>\n",
       "            <td>380</td>\n",
       "            <td>0.46740467404674046740</td>\n",
       "        </tr>\n",
       "        <tr>\n",
       "            <td>CS008513000099</td>\n",
       "            <td>1322</td>\n",
       "            <td>210</td>\n",
       "            <td>0.15885022692889561271</td>\n",
       "        </tr>\n",
       "    </tbody>\n",
       "</table>"
      ],
      "text/plain": [
       "[('CS001311000059', 2302, 102, Decimal('0.04430929626411815812')),\n",
       " ('CS011615000061', 246, 98, Decimal('0.39837398373983739837')),\n",
       " ('CS029212000033', 3604, 3604, Decimal('1.00000000000000000000')),\n",
       " ('CS007515000119', 7157, 2832, Decimal('0.39569652088864049183')),\n",
       " ('CS034515000123', 3699, 1202, Decimal('0.32495268991619356583')),\n",
       " ('CS026414000014', 6671, 3142, Decimal('0.47099385399490331285')),\n",
       " ('CS001615000099', 768, 318, Decimal('0.41406250000000000000')),\n",
       " ('CS010515000082', 1482, 553, Decimal('0.37314439946018893387')),\n",
       " ('CS019315000045', 813, 380, Decimal('0.46740467404674046740')),\n",
       " ('CS008513000099', 1322, 210, Decimal('0.15885022692889561271'))]"
      ]
     },
     "execution_count": 75,
     "metadata": {},
     "output_type": "execute_result"
    }
   ],
   "source": [
    "%%sql\n",
    "\n",
    "WITH amount_all AS(\n",
    "    SELECT\n",
    "        customer_id,\n",
    "        sum(amount) AS sum_all\n",
    "    FROM\n",
    "        receipt\n",
    "    GROUP BY\n",
    "        customer_id\n",
    "),\n",
    "amount_07 AS (\n",
    "    SELECT\n",
    "        r.customer_id,\n",
    "        sum(r.amount) AS sum_07\n",
    "    FROM\n",
    "        receipt r\n",
    "    JOIN\n",
    "        product p\n",
    "    ON\n",
    "        r.product_cd = p.product_cd \n",
    "        and  p.category_major_cd = '07'\n",
    "    GROUP BY\n",
    "        customer_id\n",
    ")\n",
    "SELECT\n",
    "    amount_all.customer_id,\n",
    "    sum_all,\n",
    "    sum_07,\n",
    "    sum_07 * 1.0 / sum_all as sales_rate\n",
    "FROM\n",
    "    amount_all\n",
    "JOIN\n",
    "    amount_07\n",
    "ON\n",
    "    amount_all.customer_id = amount_07.customer_id\n",
    "LIMIT 10"
   ]
  },
  {
   "cell_type": "markdown",
   "metadata": {},
   "source": [
    "---\n",
    "> S-070: レシート明細テーブル（receipt）の売上日（sales_ymd）に対し、顧客テーブル（customer）の会員申込日（application_date）からの経過日数を計算し、顧客ID（customer_id）、売上日、会員申込日とともに表示せよ。結果は10件表示させれば良い（なお、sales_ymdは数値、application_dateは文字列でデータを保持している点に注意）。"
   ]
  },
  {
   "cell_type": "code",
   "execution_count": 76,
   "metadata": {},
   "outputs": [
    {
     "name": "stdout",
     "output_type": "stream",
     "text": [
      " * postgresql://padawan:***@db:5432/dsdojo_db\n",
      "10 rows affected.\n"
     ]
    },
    {
     "data": {
      "text/html": [
       "<table>\n",
       "    <thead>\n",
       "        <tr>\n",
       "            <th>customer_id</th>\n",
       "            <th>sales_ymd</th>\n",
       "            <th>application_date</th>\n",
       "            <th>elapsed_days</th>\n",
       "        </tr>\n",
       "    </thead>\n",
       "    <tbody>\n",
       "        <tr>\n",
       "            <td>CS017515000010</td>\n",
       "            <td>20171117</td>\n",
       "            <td>20150803</td>\n",
       "            <td>837.0</td>\n",
       "        </tr>\n",
       "        <tr>\n",
       "            <td>CS019515000097</td>\n",
       "            <td>20190630</td>\n",
       "            <td>20141124</td>\n",
       "            <td>1679.0</td>\n",
       "        </tr>\n",
       "        <tr>\n",
       "            <td>CS008515000005</td>\n",
       "            <td>20170714</td>\n",
       "            <td>20150216</td>\n",
       "            <td>879.0</td>\n",
       "        </tr>\n",
       "        <tr>\n",
       "            <td>CS026414000097</td>\n",
       "            <td>20170809</td>\n",
       "            <td>20150430</td>\n",
       "            <td>832.0</td>\n",
       "        </tr>\n",
       "        <tr>\n",
       "            <td>CS034514000008</td>\n",
       "            <td>20181012</td>\n",
       "            <td>20150807</td>\n",
       "            <td>1162.0</td>\n",
       "        </tr>\n",
       "        <tr>\n",
       "            <td>CS029415000089</td>\n",
       "            <td>20180409</td>\n",
       "            <td>20150723</td>\n",
       "            <td>991.0</td>\n",
       "        </tr>\n",
       "        <tr>\n",
       "            <td>CS019411000012</td>\n",
       "            <td>20190314</td>\n",
       "            <td>20141213</td>\n",
       "            <td>1552.0</td>\n",
       "        </tr>\n",
       "        <tr>\n",
       "            <td>CS015614000006</td>\n",
       "            <td>20190802</td>\n",
       "            <td>20150211</td>\n",
       "            <td>1633.0</td>\n",
       "        </tr>\n",
       "        <tr>\n",
       "            <td>CS007515000053</td>\n",
       "            <td>20170712</td>\n",
       "            <td>20150325</td>\n",
       "            <td>840.0</td>\n",
       "        </tr>\n",
       "        <tr>\n",
       "            <td>CS024615000041</td>\n",
       "            <td>20170729</td>\n",
       "            <td>20150918</td>\n",
       "            <td>680.0</td>\n",
       "        </tr>\n",
       "    </tbody>\n",
       "</table>"
      ],
      "text/plain": [
       "[('CS017515000010', 20171117, '20150803', 837.0),\n",
       " ('CS019515000097', 20190630, '20141124', 1679.0),\n",
       " ('CS008515000005', 20170714, '20150216', 879.0),\n",
       " ('CS026414000097', 20170809, '20150430', 832.0),\n",
       " ('CS034514000008', 20181012, '20150807', 1162.0),\n",
       " ('CS029415000089', 20180409, '20150723', 991.0),\n",
       " ('CS019411000012', 20190314, '20141213', 1552.0),\n",
       " ('CS015614000006', 20190802, '20150211', 1633.0),\n",
       " ('CS007515000053', 20170712, '20150325', 840.0),\n",
       " ('CS024615000041', 20170729, '20150918', 680.0)]"
      ]
     },
     "execution_count": 76,
     "metadata": {},
     "output_type": "execute_result"
    }
   ],
   "source": [
    "%%sql\n",
    "\n",
    "WITH receit_distinct AS (\n",
    "    SELECT distinct\n",
    "        customer_id,\n",
    "        sales_ymd\n",
    "    FROM\n",
    "        receipt\n",
    ")\n",
    "SELECT\n",
    "    c.customer_id,\n",
    "    r.sales_ymd,\n",
    "    c.application_date,\n",
    "    EXTRACT(DAY FROM (TO_TIMESTAMP(CAST(r.sales_ymd AS VARCHAR), 'YYYYMMDD') \n",
    "                - TO_TIMESTAMP(c.application_date, 'YYYYMMDD'))) AS elapsed_days\n",
    "FROM\n",
    "    receit_distinct r\n",
    "JOIN\n",
    "    customer c\n",
    "ON\n",
    "    r.customer_id = c.customer_id\n",
    "LIMIT 10"
   ]
  },
  {
   "cell_type": "markdown",
   "metadata": {},
   "source": [
    "---\n",
    "> S-071: レシート明細テーブル（receipt）の売上日（sales_ymd）に対し、顧客テーブル（customer）の会員申込日（application_date）からの経過月数を計算し、顧客ID（customer_id）、売上日、会員申込日とともに表示せよ。結果は10件表示させれば良い（なお、sales_ymdは数値、application_dateは文字列でデータを保持している点に注意）。1ヶ月未満は切り捨てること。"
   ]
  },
  {
   "cell_type": "code",
   "execution_count": 77,
   "metadata": {},
   "outputs": [
    {
     "name": "stdout",
     "output_type": "stream",
     "text": [
      " * postgresql://padawan:***@db:5432/dsdojo_db\n",
      "10 rows affected.\n"
     ]
    },
    {
     "data": {
      "text/html": [
       "<table>\n",
       "    <thead>\n",
       "        <tr>\n",
       "            <th>customer_id</th>\n",
       "            <th>sales_ymd</th>\n",
       "            <th>application_date</th>\n",
       "            <th>elapsed_months</th>\n",
       "        </tr>\n",
       "    </thead>\n",
       "    <tbody>\n",
       "        <tr>\n",
       "            <td>CS017515000010</td>\n",
       "            <td>20171117</td>\n",
       "            <td>20150803</td>\n",
       "            <td>27.0</td>\n",
       "        </tr>\n",
       "        <tr>\n",
       "            <td>CS019515000097</td>\n",
       "            <td>20190630</td>\n",
       "            <td>20141124</td>\n",
       "            <td>55.0</td>\n",
       "        </tr>\n",
       "        <tr>\n",
       "            <td>CS008515000005</td>\n",
       "            <td>20170714</td>\n",
       "            <td>20150216</td>\n",
       "            <td>28.0</td>\n",
       "        </tr>\n",
       "        <tr>\n",
       "            <td>CS026414000097</td>\n",
       "            <td>20170809</td>\n",
       "            <td>20150430</td>\n",
       "            <td>27.0</td>\n",
       "        </tr>\n",
       "        <tr>\n",
       "            <td>CS034514000008</td>\n",
       "            <td>20181012</td>\n",
       "            <td>20150807</td>\n",
       "            <td>38.0</td>\n",
       "        </tr>\n",
       "        <tr>\n",
       "            <td>CS029415000089</td>\n",
       "            <td>20180409</td>\n",
       "            <td>20150723</td>\n",
       "            <td>32.0</td>\n",
       "        </tr>\n",
       "        <tr>\n",
       "            <td>CS019411000012</td>\n",
       "            <td>20190314</td>\n",
       "            <td>20141213</td>\n",
       "            <td>51.0</td>\n",
       "        </tr>\n",
       "        <tr>\n",
       "            <td>CS015614000006</td>\n",
       "            <td>20190802</td>\n",
       "            <td>20150211</td>\n",
       "            <td>53.0</td>\n",
       "        </tr>\n",
       "        <tr>\n",
       "            <td>CS007515000053</td>\n",
       "            <td>20170712</td>\n",
       "            <td>20150325</td>\n",
       "            <td>27.0</td>\n",
       "        </tr>\n",
       "        <tr>\n",
       "            <td>CS024615000041</td>\n",
       "            <td>20170729</td>\n",
       "            <td>20150918</td>\n",
       "            <td>22.0</td>\n",
       "        </tr>\n",
       "    </tbody>\n",
       "</table>"
      ],
      "text/plain": [
       "[('CS017515000010', 20171117, '20150803', 27.0),\n",
       " ('CS019515000097', 20190630, '20141124', 55.0),\n",
       " ('CS008515000005', 20170714, '20150216', 28.0),\n",
       " ('CS026414000097', 20170809, '20150430', 27.0),\n",
       " ('CS034514000008', 20181012, '20150807', 38.0),\n",
       " ('CS029415000089', 20180409, '20150723', 32.0),\n",
       " ('CS019411000012', 20190314, '20141213', 51.0),\n",
       " ('CS015614000006', 20190802, '20150211', 53.0),\n",
       " ('CS007515000053', 20170712, '20150325', 27.0),\n",
       " ('CS024615000041', 20170729, '20150918', 22.0)]"
      ]
     },
     "execution_count": 77,
     "metadata": {},
     "output_type": "execute_result"
    }
   ],
   "source": [
    "%%sql\n",
    "\n",
    "WITH receit_distinct AS (\n",
    "    SELECT distinct\n",
    "        customer_id,\n",
    "        sales_ymd\n",
    "    FROM\n",
    "        receipt\n",
    "),\n",
    "time_age_tbl AS(\n",
    "    SELECT\n",
    "        c.customer_id,\n",
    "        r.sales_ymd,\n",
    "        c.application_date,\n",
    "        AGE(TO_TIMESTAMP(CAST(r.sales_ymd AS VARCHAR), 'YYYYMMDD'),\n",
    "                    TO_TIMESTAMP(c.application_date, 'YYYYMMDD')) AS time_age\n",
    "    FROM\n",
    "        receit_distinct r\n",
    "    JOIN\n",
    "        customer c\n",
    "    ON\n",
    "        r.customer_id = c.customer_id\n",
    ")\n",
    "SELECT\n",
    "    customer_id, \n",
    "    sales_ymd, application_date,\n",
    "    extract(year from time_age) * 12 \n",
    "        + extract(month from time_age) AS elapsed_months\n",
    "FROM\n",
    "    time_age_tbl\n",
    "LIMIT 10"
   ]
  },
  {
   "cell_type": "markdown",
   "metadata": {},
   "source": [
    "---\n",
    "> S-072: レシート明細テーブル（receipt）の売上日（sales_ymd）に対し、顧客テーブル（customer）の会員申込日（application_date）からの経過年数を計算し、顧客ID（customer_id）、売上日、会員申込日とともに表示せよ。結果は10件表示させれば良い（なお、sales_ymdは数値、application_dateは文字列でデータを保持している点に注意）。1年未満は切り捨てること。"
   ]
  },
  {
   "cell_type": "code",
   "execution_count": 78,
   "metadata": {},
   "outputs": [
    {
     "name": "stdout",
     "output_type": "stream",
     "text": [
      " * postgresql://padawan:***@db:5432/dsdojo_db\n",
      "10 rows affected.\n"
     ]
    },
    {
     "data": {
      "text/html": [
       "<table>\n",
       "    <thead>\n",
       "        <tr>\n",
       "            <th>customer_id</th>\n",
       "            <th>sales_ymd</th>\n",
       "            <th>application_date</th>\n",
       "            <th>elapsed_years</th>\n",
       "        </tr>\n",
       "    </thead>\n",
       "    <tbody>\n",
       "        <tr>\n",
       "            <td>CS017515000010</td>\n",
       "            <td>20171117</td>\n",
       "            <td>20150803</td>\n",
       "            <td>2.0</td>\n",
       "        </tr>\n",
       "        <tr>\n",
       "            <td>CS019515000097</td>\n",
       "            <td>20190630</td>\n",
       "            <td>20141124</td>\n",
       "            <td>4.0</td>\n",
       "        </tr>\n",
       "        <tr>\n",
       "            <td>CS008515000005</td>\n",
       "            <td>20170714</td>\n",
       "            <td>20150216</td>\n",
       "            <td>2.0</td>\n",
       "        </tr>\n",
       "        <tr>\n",
       "            <td>CS026414000097</td>\n",
       "            <td>20170809</td>\n",
       "            <td>20150430</td>\n",
       "            <td>2.0</td>\n",
       "        </tr>\n",
       "        <tr>\n",
       "            <td>CS034514000008</td>\n",
       "            <td>20181012</td>\n",
       "            <td>20150807</td>\n",
       "            <td>3.0</td>\n",
       "        </tr>\n",
       "        <tr>\n",
       "            <td>CS029415000089</td>\n",
       "            <td>20180409</td>\n",
       "            <td>20150723</td>\n",
       "            <td>2.0</td>\n",
       "        </tr>\n",
       "        <tr>\n",
       "            <td>CS019411000012</td>\n",
       "            <td>20190314</td>\n",
       "            <td>20141213</td>\n",
       "            <td>4.0</td>\n",
       "        </tr>\n",
       "        <tr>\n",
       "            <td>CS015614000006</td>\n",
       "            <td>20190802</td>\n",
       "            <td>20150211</td>\n",
       "            <td>4.0</td>\n",
       "        </tr>\n",
       "        <tr>\n",
       "            <td>CS007515000053</td>\n",
       "            <td>20170712</td>\n",
       "            <td>20150325</td>\n",
       "            <td>2.0</td>\n",
       "        </tr>\n",
       "        <tr>\n",
       "            <td>CS024615000041</td>\n",
       "            <td>20170729</td>\n",
       "            <td>20150918</td>\n",
       "            <td>1.0</td>\n",
       "        </tr>\n",
       "    </tbody>\n",
       "</table>"
      ],
      "text/plain": [
       "[('CS017515000010', 20171117, '20150803', 2.0),\n",
       " ('CS019515000097', 20190630, '20141124', 4.0),\n",
       " ('CS008515000005', 20170714, '20150216', 2.0),\n",
       " ('CS026414000097', 20170809, '20150430', 2.0),\n",
       " ('CS034514000008', 20181012, '20150807', 3.0),\n",
       " ('CS029415000089', 20180409, '20150723', 2.0),\n",
       " ('CS019411000012', 20190314, '20141213', 4.0),\n",
       " ('CS015614000006', 20190802, '20150211', 4.0),\n",
       " ('CS007515000053', 20170712, '20150325', 2.0),\n",
       " ('CS024615000041', 20170729, '20150918', 1.0)]"
      ]
     },
     "execution_count": 78,
     "metadata": {},
     "output_type": "execute_result"
    }
   ],
   "source": [
    "%%sql\n",
    "\n",
    "WITH receit_distinct AS (\n",
    "    SELECT distinct\n",
    "        customer_id,\n",
    "        sales_ymd\n",
    "    FROM\n",
    "        receipt\n",
    ")\n",
    "SELECT\n",
    "    c.customer_id,\n",
    "    r.sales_ymd,\n",
    "    c.application_date,\n",
    "    EXTRACT(YEAR FROM AGE(\n",
    "        TO_TIMESTAMP(CAST(r.sales_ymd AS VARCHAR), 'YYYYMMDD'), \n",
    "        TO_TIMESTAMP(c.application_date, 'YYYYMMDD'))) AS elapsed_years\n",
    "FROM\n",
    "    receit_distinct r\n",
    "JOIN\n",
    "    customer c\n",
    "ON\n",
    "    r.customer_id = c.customer_id\n",
    "LIMIT 10"
   ]
  },
  {
   "cell_type": "markdown",
   "metadata": {},
   "source": [
    "---\n",
    "> S-073: レシート明細テーブル（receipt）の売上日（sales_ymd）に対し、顧客テーブル（customer）の会員申込日（application_date）からのエポック秒による経過時間を計算し、顧客ID（customer_id）、売上日、会員申込日とともに表示せよ。結果は10件表示させれば良い（なお、sales_ymdは数値、application_dateは文字列でデータを保持している点に注意）。なお、時間情報は保有していないため各日付は0時0分0秒を表すものとする。"
   ]
  },
  {
   "cell_type": "code",
   "execution_count": 79,
   "metadata": {},
   "outputs": [
    {
     "name": "stdout",
     "output_type": "stream",
     "text": [
      " * postgresql://padawan:***@db:5432/dsdojo_db\n",
      "10 rows affected.\n"
     ]
    },
    {
     "data": {
      "text/html": [
       "<table>\n",
       "    <thead>\n",
       "        <tr>\n",
       "            <th>customer_id</th>\n",
       "            <th>sales_ymd</th>\n",
       "            <th>application_date</th>\n",
       "            <th>elapsed_epoch</th>\n",
       "        </tr>\n",
       "    </thead>\n",
       "    <tbody>\n",
       "        <tr>\n",
       "            <td>CS017515000010</td>\n",
       "            <td>20171117</td>\n",
       "            <td>20150803</td>\n",
       "            <td>72316800.0</td>\n",
       "        </tr>\n",
       "        <tr>\n",
       "            <td>CS019515000097</td>\n",
       "            <td>20190630</td>\n",
       "            <td>20141124</td>\n",
       "            <td>145065600.0</td>\n",
       "        </tr>\n",
       "        <tr>\n",
       "            <td>CS008515000005</td>\n",
       "            <td>20170714</td>\n",
       "            <td>20150216</td>\n",
       "            <td>75945600.0</td>\n",
       "        </tr>\n",
       "        <tr>\n",
       "            <td>CS026414000097</td>\n",
       "            <td>20170809</td>\n",
       "            <td>20150430</td>\n",
       "            <td>71884800.0</td>\n",
       "        </tr>\n",
       "        <tr>\n",
       "            <td>CS034514000008</td>\n",
       "            <td>20181012</td>\n",
       "            <td>20150807</td>\n",
       "            <td>100396800.0</td>\n",
       "        </tr>\n",
       "        <tr>\n",
       "            <td>CS029415000089</td>\n",
       "            <td>20180409</td>\n",
       "            <td>20150723</td>\n",
       "            <td>85622400.0</td>\n",
       "        </tr>\n",
       "        <tr>\n",
       "            <td>CS019411000012</td>\n",
       "            <td>20190314</td>\n",
       "            <td>20141213</td>\n",
       "            <td>134092800.0</td>\n",
       "        </tr>\n",
       "        <tr>\n",
       "            <td>CS015614000006</td>\n",
       "            <td>20190802</td>\n",
       "            <td>20150211</td>\n",
       "            <td>141091200.0</td>\n",
       "        </tr>\n",
       "        <tr>\n",
       "            <td>CS007515000053</td>\n",
       "            <td>20170712</td>\n",
       "            <td>20150325</td>\n",
       "            <td>72576000.0</td>\n",
       "        </tr>\n",
       "        <tr>\n",
       "            <td>CS024615000041</td>\n",
       "            <td>20170729</td>\n",
       "            <td>20150918</td>\n",
       "            <td>58752000.0</td>\n",
       "        </tr>\n",
       "    </tbody>\n",
       "</table>"
      ],
      "text/plain": [
       "[('CS017515000010', 20171117, '20150803', 72316800.0),\n",
       " ('CS019515000097', 20190630, '20141124', 145065600.0),\n",
       " ('CS008515000005', 20170714, '20150216', 75945600.0),\n",
       " ('CS026414000097', 20170809, '20150430', 71884800.0),\n",
       " ('CS034514000008', 20181012, '20150807', 100396800.0),\n",
       " ('CS029415000089', 20180409, '20150723', 85622400.0),\n",
       " ('CS019411000012', 20190314, '20141213', 134092800.0),\n",
       " ('CS015614000006', 20190802, '20150211', 141091200.0),\n",
       " ('CS007515000053', 20170712, '20150325', 72576000.0),\n",
       " ('CS024615000041', 20170729, '20150918', 58752000.0)]"
      ]
     },
     "execution_count": 79,
     "metadata": {},
     "output_type": "execute_result"
    }
   ],
   "source": [
    "%%sql\n",
    "\n",
    "WITH receit_distinct AS (\n",
    "    SELECT distinct\n",
    "        customer_id,\n",
    "        sales_ymd\n",
    "    FROM\n",
    "        receipt\n",
    ")\n",
    "SELECT\n",
    "    c.customer_id,\n",
    "    r.sales_ymd,\n",
    "    c.application_date,\n",
    "    EXTRACT(\n",
    "        EPOCH FROM TO_TIMESTAMP(CAST(r.sales_ymd AS VARCHAR), 'YYYYMMDD')) \n",
    "            - EXTRACT(\n",
    "                EPOCH FROM TO_TIMESTAMP(c.application_date, 'YYYYMMDD')\n",
    "              ) AS elapsed_epoch\n",
    "FROM\n",
    "    receit_distinct r\n",
    "JOIN\n",
    "    customer c\n",
    "ON\n",
    "    r.customer_id = c.customer_id\n",
    "LIMIT 10"
   ]
  },
  {
   "cell_type": "markdown",
   "metadata": {},
   "source": [
    "---\n",
    "> S-074: レシート明細テーブル（receipt）の売上日（sales_ymd）に対し、当該週の月曜日からの経過日数を計算し、売上日、当該週の月曜日付とともに表示せよ。結果は10件表示させれば良い（なお、sales_ymdは数値でデータを保持している点に注意）。"
   ]
  },
  {
   "cell_type": "code",
   "execution_count": 80,
   "metadata": {},
   "outputs": [
    {
     "name": "stdout",
     "output_type": "stream",
     "text": [
      " * postgresql://padawan:***@db:5432/dsdojo_db\n",
      "10 rows affected.\n"
     ]
    },
    {
     "data": {
      "text/html": [
       "<table>\n",
       "    <thead>\n",
       "        <tr>\n",
       "            <th>customer_id</th>\n",
       "            <th>to_date</th>\n",
       "            <th>elapsed_years</th>\n",
       "            <th>monday</th>\n",
       "        </tr>\n",
       "    </thead>\n",
       "    <tbody>\n",
       "        <tr>\n",
       "            <td>CS006214000001</td>\n",
       "            <td>2018-11-03</td>\n",
       "            <td>5.0</td>\n",
       "            <td>2018-10-29</td>\n",
       "        </tr>\n",
       "        <tr>\n",
       "            <td>CS008415000097</td>\n",
       "            <td>2018-11-18</td>\n",
       "            <td>6.0</td>\n",
       "            <td>2018-11-12</td>\n",
       "        </tr>\n",
       "        <tr>\n",
       "            <td>CS028414000014</td>\n",
       "            <td>2017-07-12</td>\n",
       "            <td>2.0</td>\n",
       "            <td>2017-07-10</td>\n",
       "        </tr>\n",
       "        <tr>\n",
       "            <td>ZZ000000000000</td>\n",
       "            <td>2019-02-05</td>\n",
       "            <td>1.0</td>\n",
       "            <td>2019-02-04</td>\n",
       "        </tr>\n",
       "        <tr>\n",
       "            <td>CS025415000050</td>\n",
       "            <td>2018-08-21</td>\n",
       "            <td>1.0</td>\n",
       "            <td>2018-08-20</td>\n",
       "        </tr>\n",
       "        <tr>\n",
       "            <td>CS003515000195</td>\n",
       "            <td>2019-06-05</td>\n",
       "            <td>2.0</td>\n",
       "            <td>2019-06-03</td>\n",
       "        </tr>\n",
       "        <tr>\n",
       "            <td>CS024514000042</td>\n",
       "            <td>2018-12-05</td>\n",
       "            <td>2.0</td>\n",
       "            <td>2018-12-03</td>\n",
       "        </tr>\n",
       "        <tr>\n",
       "            <td>CS040415000178</td>\n",
       "            <td>2019-09-22</td>\n",
       "            <td>6.0</td>\n",
       "            <td>2019-09-16</td>\n",
       "        </tr>\n",
       "        <tr>\n",
       "            <td>ZZ000000000000</td>\n",
       "            <td>2017-05-04</td>\n",
       "            <td>3.0</td>\n",
       "            <td>2017-05-01</td>\n",
       "        </tr>\n",
       "        <tr>\n",
       "            <td>CS027514000015</td>\n",
       "            <td>2019-10-10</td>\n",
       "            <td>3.0</td>\n",
       "            <td>2019-10-07</td>\n",
       "        </tr>\n",
       "    </tbody>\n",
       "</table>"
      ],
      "text/plain": [
       "[('CS006214000001', datetime.date(2018, 11, 3), 5.0, datetime.date(2018, 10, 29)),\n",
       " ('CS008415000097', datetime.date(2018, 11, 18), 6.0, datetime.date(2018, 11, 12)),\n",
       " ('CS028414000014', datetime.date(2017, 7, 12), 2.0, datetime.date(2017, 7, 10)),\n",
       " ('ZZ000000000000', datetime.date(2019, 2, 5), 1.0, datetime.date(2019, 2, 4)),\n",
       " ('CS025415000050', datetime.date(2018, 8, 21), 1.0, datetime.date(2018, 8, 20)),\n",
       " ('CS003515000195', datetime.date(2019, 6, 5), 2.0, datetime.date(2019, 6, 3)),\n",
       " ('CS024514000042', datetime.date(2018, 12, 5), 2.0, datetime.date(2018, 12, 3)),\n",
       " ('CS040415000178', datetime.date(2019, 9, 22), 6.0, datetime.date(2019, 9, 16)),\n",
       " ('ZZ000000000000', datetime.date(2017, 5, 4), 3.0, datetime.date(2017, 5, 1)),\n",
       " ('CS027514000015', datetime.date(2019, 10, 10), 3.0, datetime.date(2019, 10, 7))]"
      ]
     },
     "execution_count": 80,
     "metadata": {},
     "output_type": "execute_result"
    }
   ],
   "source": [
    "%%sql\n",
    "\n",
    "SELECT\n",
    "    customer_id,\n",
    "    TO_DATE(CAST(sales_ymd AS VARCHAR), 'YYYYMMDD'),\n",
    "    EXTRACT(DOW FROM (\n",
    "        TO_DATE(CAST(sales_ymd AS VARCHAR), 'YYYYMMDD') - 1)) AS elapsed_years,\n",
    "    TO_DATE(CAST(sales_ymd AS VARCHAR), 'YYYYMMDD')\n",
    "        - CAST(EXTRACT(\n",
    "            DOW FROM (TO_DATE(CAST(sales_ymd AS VARCHAR), 'YYYYMMDD') - 1)\n",
    "          ) AS INTEGER) AS monday\n",
    "FROM\n",
    "    receipt\n",
    "LIMIT 10"
   ]
  },
  {
   "cell_type": "markdown",
   "metadata": {},
   "source": [
    "---\n",
    "> S-075: 顧客テーブル（customer）からランダムに1%のデータを抽出し、先頭から10件データを抽出せよ。 "
   ]
  },
  {
   "cell_type": "code",
   "execution_count": 81,
   "metadata": {},
   "outputs": [
    {
     "name": "stdout",
     "output_type": "stream",
     "text": [
      " * postgresql://padawan:***@db:5432/dsdojo_db\n",
      "10 rows affected.\n"
     ]
    },
    {
     "data": {
      "text/html": [
       "<table>\n",
       "    <thead>\n",
       "        <tr>\n",
       "            <th>customer_id</th>\n",
       "            <th>customer_name</th>\n",
       "            <th>gender_cd</th>\n",
       "            <th>gender</th>\n",
       "            <th>birth_day</th>\n",
       "            <th>age</th>\n",
       "            <th>postal_cd</th>\n",
       "            <th>address</th>\n",
       "            <th>application_store_cd</th>\n",
       "            <th>application_date</th>\n",
       "            <th>status_cd</th>\n",
       "        </tr>\n",
       "    </thead>\n",
       "    <tbody>\n",
       "        <tr>\n",
       "            <td>CS029513000035</td>\n",
       "            <td>長澤 千佳子</td>\n",
       "            <td>1</td>\n",
       "            <td>女性</td>\n",
       "            <td>1961-09-30</td>\n",
       "            <td>57</td>\n",
       "            <td>134-0084</td>\n",
       "            <td>東京都江戸川区東葛西**********</td>\n",
       "            <td>S12029</td>\n",
       "            <td>20151001</td>\n",
       "            <td>C-20100725-C</td>\n",
       "        </tr>\n",
       "        <tr>\n",
       "            <td>CS038513000076</td>\n",
       "            <td>ともさか まみ</td>\n",
       "            <td>1</td>\n",
       "            <td>女性</td>\n",
       "            <td>1962-10-18</td>\n",
       "            <td>56</td>\n",
       "            <td>134-0084</td>\n",
       "            <td>東京都江戸川区東葛西**********</td>\n",
       "            <td>S13038</td>\n",
       "            <td>20151228</td>\n",
       "            <td>4-20090608-6</td>\n",
       "        </tr>\n",
       "        <tr>\n",
       "            <td>CS027412000206</td>\n",
       "            <td>浦野 りえ</td>\n",
       "            <td>1</td>\n",
       "            <td>女性</td>\n",
       "            <td>1973-12-01</td>\n",
       "            <td>45</td>\n",
       "            <td>251-0000</td>\n",
       "            <td>神奈川県藤沢市**********</td>\n",
       "            <td>S14027</td>\n",
       "            <td>20180621</td>\n",
       "            <td>0-00000000-0</td>\n",
       "        </tr>\n",
       "        <tr>\n",
       "            <td>CS006513000209</td>\n",
       "            <td>金城 遥</td>\n",
       "            <td>1</td>\n",
       "            <td>女性</td>\n",
       "            <td>1965-06-11</td>\n",
       "            <td>53</td>\n",
       "            <td>224-0057</td>\n",
       "            <td>神奈川県横浜市都筑区川和町**********</td>\n",
       "            <td>S14006</td>\n",
       "            <td>20151108</td>\n",
       "            <td>0-00000000-0</td>\n",
       "        </tr>\n",
       "        <tr>\n",
       "            <td>CS011512000070</td>\n",
       "            <td>野上 恵子</td>\n",
       "            <td>1</td>\n",
       "            <td>女性</td>\n",
       "            <td>1961-09-01</td>\n",
       "            <td>57</td>\n",
       "            <td>211-0037</td>\n",
       "            <td>神奈川県川崎市中原区井田三舞町**********</td>\n",
       "            <td>S14011</td>\n",
       "            <td>20150404</td>\n",
       "            <td>0-00000000-0</td>\n",
       "        </tr>\n",
       "        <tr>\n",
       "            <td>CS027502000050</td>\n",
       "            <td>飯島 仁</td>\n",
       "            <td>0</td>\n",
       "            <td>男性</td>\n",
       "            <td>1960-01-19</td>\n",
       "            <td>59</td>\n",
       "            <td>251-0051</td>\n",
       "            <td>神奈川県藤沢市白旗**********</td>\n",
       "            <td>S14027</td>\n",
       "            <td>20160119</td>\n",
       "            <td>0-00000000-0</td>\n",
       "        </tr>\n",
       "        <tr>\n",
       "            <td>CS021615000009</td>\n",
       "            <td>五十嵐 あさみ</td>\n",
       "            <td>1</td>\n",
       "            <td>女性</td>\n",
       "            <td>1953-06-14</td>\n",
       "            <td>65</td>\n",
       "            <td>259-1142</td>\n",
       "            <td>神奈川県伊勢原市田中**********</td>\n",
       "            <td>S14021</td>\n",
       "            <td>20150316</td>\n",
       "            <td>6-20101025-9</td>\n",
       "        </tr>\n",
       "        <tr>\n",
       "            <td>CS022415000086</td>\n",
       "            <td>関 雅彦</td>\n",
       "            <td>9</td>\n",
       "            <td>不明</td>\n",
       "            <td>1976-02-20</td>\n",
       "            <td>43</td>\n",
       "            <td>249-0001</td>\n",
       "            <td>神奈川県逗子市久木**********</td>\n",
       "            <td>S14022</td>\n",
       "            <td>20151128</td>\n",
       "            <td>5-20100514-3</td>\n",
       "        </tr>\n",
       "        <tr>\n",
       "            <td>CS033413000050</td>\n",
       "            <td>山上 希</td>\n",
       "            <td>1</td>\n",
       "            <td>女性</td>\n",
       "            <td>1977-01-06</td>\n",
       "            <td>42</td>\n",
       "            <td>246-0021</td>\n",
       "            <td>神奈川県横浜市瀬谷区二ツ橋町**********</td>\n",
       "            <td>S14033</td>\n",
       "            <td>20150627</td>\n",
       "            <td>3-20080519-5</td>\n",
       "        </tr>\n",
       "        <tr>\n",
       "            <td>CS004313000147</td>\n",
       "            <td>杉野 恵梨香</td>\n",
       "            <td>1</td>\n",
       "            <td>女性</td>\n",
       "            <td>1987-05-15</td>\n",
       "            <td>31</td>\n",
       "            <td>176-0023</td>\n",
       "            <td>東京都練馬区中村北**********</td>\n",
       "            <td>S13004</td>\n",
       "            <td>20150427</td>\n",
       "            <td>0-00000000-0</td>\n",
       "        </tr>\n",
       "    </tbody>\n",
       "</table>"
      ],
      "text/plain": [
       "[('CS029513000035', '長澤 千佳子', '1', '女性', datetime.date(1961, 9, 30), 57, '134-0084', '東京都江戸川区東葛西**********', 'S12029', '20151001', 'C-20100725-C'),\n",
       " ('CS038513000076', 'ともさか まみ', '1', '女性', datetime.date(1962, 10, 18), 56, '134-0084', '東京都江戸川区東葛西**********', 'S13038', '20151228', '4-20090608-6'),\n",
       " ('CS027412000206', '浦野 りえ', '1', '女性', datetime.date(1973, 12, 1), 45, '251-0000', '神奈川県藤沢市**********', 'S14027', '20180621', '0-00000000-0'),\n",
       " ('CS006513000209', '金城 遥', '1', '女性', datetime.date(1965, 6, 11), 53, '224-0057', '神奈川県横浜市都筑区川和町**********', 'S14006', '20151108', '0-00000000-0'),\n",
       " ('CS011512000070', '野上 恵子', '1', '女性', datetime.date(1961, 9, 1), 57, '211-0037', '神奈川県川崎市中原区井田三舞町**********', 'S14011', '20150404', '0-00000000-0'),\n",
       " ('CS027502000050', '飯島 仁', '0', '男性', datetime.date(1960, 1, 19), 59, '251-0051', '神奈川県藤沢市白旗**********', 'S14027', '20160119', '0-00000000-0'),\n",
       " ('CS021615000009', '五十嵐 あさみ', '1', '女性', datetime.date(1953, 6, 14), 65, '259-1142', '神奈川県伊勢原市田中**********', 'S14021', '20150316', '6-20101025-9'),\n",
       " ('CS022415000086', '関 雅彦', '9', '不明', datetime.date(1976, 2, 20), 43, '249-0001', '神奈川県逗子市久木**********', 'S14022', '20151128', '5-20100514-3'),\n",
       " ('CS033413000050', '山上 希', '1', '女性', datetime.date(1977, 1, 6), 42, '246-0021', '神奈川県横浜市瀬谷区二ツ橋町**********', 'S14033', '20150627', '3-20080519-5'),\n",
       " ('CS004313000147', '杉野 恵梨香', '1', '女性', datetime.date(1987, 5, 15), 31, '176-0023', '東京都練馬区中村北**********', 'S13004', '20150427', '0-00000000-0')]"
      ]
     },
     "execution_count": 81,
     "metadata": {},
     "output_type": "execute_result"
    }
   ],
   "source": [
    "%%sql\n",
    "\n",
    "-- コード例１（シンプルにやるなら）\n",
    "SELECT * FROM customer WHERE RANDOM() <= 0.01\n",
    "LIMIT 10"
   ]
  },
  {
   "cell_type": "code",
   "execution_count": 82,
   "metadata": {},
   "outputs": [
    {
     "name": "stdout",
     "output_type": "stream",
     "text": [
      " * postgresql://padawan:***@db:5432/dsdojo_db\n",
      "10 rows affected.\n"
     ]
    },
    {
     "data": {
      "text/html": [
       "<table>\n",
       "    <thead>\n",
       "        <tr>\n",
       "            <th>customer_id</th>\n",
       "            <th>customer_name</th>\n",
       "            <th>gender_cd</th>\n",
       "            <th>gender</th>\n",
       "            <th>birth_day</th>\n",
       "            <th>age</th>\n",
       "            <th>postal_cd</th>\n",
       "            <th>address</th>\n",
       "            <th>application_store_cd</th>\n",
       "            <th>application_date</th>\n",
       "            <th>status_cd</th>\n",
       "        </tr>\n",
       "    </thead>\n",
       "    <tbody>\n",
       "        <tr>\n",
       "            <td>CS005613000163</td>\n",
       "            <td>杉本 麻由子</td>\n",
       "            <td>1</td>\n",
       "            <td>女性</td>\n",
       "            <td>1950-11-12</td>\n",
       "            <td>68</td>\n",
       "            <td>176-0021</td>\n",
       "            <td>東京都練馬区貫井**********</td>\n",
       "            <td>S13005</td>\n",
       "            <td>20170821</td>\n",
       "            <td>0-00000000-0</td>\n",
       "        </tr>\n",
       "        <tr>\n",
       "            <td>CS015414000103</td>\n",
       "            <td>奥野 陽子</td>\n",
       "            <td>1</td>\n",
       "            <td>女性</td>\n",
       "            <td>1977-08-09</td>\n",
       "            <td>41</td>\n",
       "            <td>136-0073</td>\n",
       "            <td>東京都江東区北砂**********</td>\n",
       "            <td>S13015</td>\n",
       "            <td>20150722</td>\n",
       "            <td>B-20100609-B</td>\n",
       "        </tr>\n",
       "        <tr>\n",
       "            <td>CS026513000147</td>\n",
       "            <td>早美 愛子</td>\n",
       "            <td>1</td>\n",
       "            <td>女性</td>\n",
       "            <td>1959-06-04</td>\n",
       "            <td>59</td>\n",
       "            <td>251-0046</td>\n",
       "            <td>神奈川県藤沢市辻堂西海岸**********</td>\n",
       "            <td>S14026</td>\n",
       "            <td>20150222</td>\n",
       "            <td>5-20100307-6</td>\n",
       "        </tr>\n",
       "        <tr>\n",
       "            <td>CS004413000678</td>\n",
       "            <td>杉原 まひる</td>\n",
       "            <td>1</td>\n",
       "            <td>女性</td>\n",
       "            <td>1978-01-06</td>\n",
       "            <td>41</td>\n",
       "            <td>165-0032</td>\n",
       "            <td>東京都中野区鷺宮**********</td>\n",
       "            <td>S13004</td>\n",
       "            <td>20161223</td>\n",
       "            <td>0-00000000-0</td>\n",
       "        </tr>\n",
       "        <tr>\n",
       "            <td>CS020401000016</td>\n",
       "            <td>宮下 達士</td>\n",
       "            <td>0</td>\n",
       "            <td>男性</td>\n",
       "            <td>1974-09-15</td>\n",
       "            <td>44</td>\n",
       "            <td>174-0065</td>\n",
       "            <td>東京都板橋区若木**********</td>\n",
       "            <td>S13020</td>\n",
       "            <td>20150225</td>\n",
       "            <td>0-00000000-0</td>\n",
       "        </tr>\n",
       "        <tr>\n",
       "            <td>CS005513000399</td>\n",
       "            <td>仲村 涼</td>\n",
       "            <td>1</td>\n",
       "            <td>女性</td>\n",
       "            <td>1963-09-03</td>\n",
       "            <td>55</td>\n",
       "            <td>165-0031</td>\n",
       "            <td>東京都中野区上鷺宮**********</td>\n",
       "            <td>S13005</td>\n",
       "            <td>20170612</td>\n",
       "            <td>0-00000000-0</td>\n",
       "        </tr>\n",
       "        <tr>\n",
       "            <td>CS026512000160</td>\n",
       "            <td>西井 美咲</td>\n",
       "            <td>1</td>\n",
       "            <td>女性</td>\n",
       "            <td>1967-12-06</td>\n",
       "            <td>51</td>\n",
       "            <td>253-0001</td>\n",
       "            <td>神奈川県茅ヶ崎市赤羽根**********</td>\n",
       "            <td>S14026</td>\n",
       "            <td>20160326</td>\n",
       "            <td>0-00000000-0</td>\n",
       "        </tr>\n",
       "        <tr>\n",
       "            <td>CS031515000093</td>\n",
       "            <td>中村 ひろ子</td>\n",
       "            <td>1</td>\n",
       "            <td>女性</td>\n",
       "            <td>1964-06-25</td>\n",
       "            <td>54</td>\n",
       "            <td>151-0053</td>\n",
       "            <td>東京都渋谷区代々木**********</td>\n",
       "            <td>S13031</td>\n",
       "            <td>20150204</td>\n",
       "            <td>D-20100304-D</td>\n",
       "        </tr>\n",
       "        <tr>\n",
       "            <td>CS010415000034</td>\n",
       "            <td>本山 菜々美</td>\n",
       "            <td>1</td>\n",
       "            <td>女性</td>\n",
       "            <td>1973-11-09</td>\n",
       "            <td>45</td>\n",
       "            <td>222-0026</td>\n",
       "            <td>神奈川県横浜市港北区篠原町**********</td>\n",
       "            <td>S14010</td>\n",
       "            <td>20150928</td>\n",
       "            <td>E-20100922-E</td>\n",
       "        </tr>\n",
       "        <tr>\n",
       "            <td>CS001403000079</td>\n",
       "            <td>綾小路 洋介</td>\n",
       "            <td>0</td>\n",
       "            <td>男性</td>\n",
       "            <td>1972-05-17</td>\n",
       "            <td>46</td>\n",
       "            <td>144-0053</td>\n",
       "            <td>東京都大田区蒲田本町**********</td>\n",
       "            <td>S13001</td>\n",
       "            <td>20160112</td>\n",
       "            <td>0-00000000-0</td>\n",
       "        </tr>\n",
       "    </tbody>\n",
       "</table>"
      ],
      "text/plain": [
       "[('CS005613000163', '杉本 麻由子', '1', '女性', datetime.date(1950, 11, 12), 68, '176-0021', '東京都練馬区貫井**********', 'S13005', '20170821', '0-00000000-0'),\n",
       " ('CS015414000103', '奥野 陽子', '1', '女性', datetime.date(1977, 8, 9), 41, '136-0073', '東京都江東区北砂**********', 'S13015', '20150722', 'B-20100609-B'),\n",
       " ('CS026513000147', '早美 愛子', '1', '女性', datetime.date(1959, 6, 4), 59, '251-0046', '神奈川県藤沢市辻堂西海岸**********', 'S14026', '20150222', '5-20100307-6'),\n",
       " ('CS004413000678', '杉原 まひる', '1', '女性', datetime.date(1978, 1, 6), 41, '165-0032', '東京都中野区鷺宮**********', 'S13004', '20161223', '0-00000000-0'),\n",
       " ('CS020401000016', '宮下 達士', '0', '男性', datetime.date(1974, 9, 15), 44, '174-0065', '東京都板橋区若木**********', 'S13020', '20150225', '0-00000000-0'),\n",
       " ('CS005513000399', '仲村 涼', '1', '女性', datetime.date(1963, 9, 3), 55, '165-0031', '東京都中野区上鷺宮**********', 'S13005', '20170612', '0-00000000-0'),\n",
       " ('CS026512000160', '西井 美咲', '1', '女性', datetime.date(1967, 12, 6), 51, '253-0001', '神奈川県茅ヶ崎市赤羽根**********', 'S14026', '20160326', '0-00000000-0'),\n",
       " ('CS031515000093', '中村 ひろ子', '1', '女性', datetime.date(1964, 6, 25), 54, '151-0053', '東京都渋谷区代々木**********', 'S13031', '20150204', 'D-20100304-D'),\n",
       " ('CS010415000034', '本山 菜々美', '1', '女性', datetime.date(1973, 11, 9), 45, '222-0026', '神奈川県横浜市港北区篠原町**********', 'S14010', '20150928', 'E-20100922-E'),\n",
       " ('CS001403000079', '綾小路 洋介', '0', '男性', datetime.date(1972, 5, 17), 46, '144-0053', '東京都大田区蒲田本町**********', 'S13001', '20160112', '0-00000000-0')]"
      ]
     },
     "execution_count": 82,
     "metadata": {},
     "output_type": "execute_result"
    }
   ],
   "source": [
    "%%sql\n",
    "\n",
    "-- コード例２（丁寧にやるなら）\n",
    "WITH customer_tmp AS(\n",
    "    SELECT\n",
    "        *\n",
    "        ,ROW_NUMBER() OVER() as row\n",
    "        ,COUNT(*) OVER() as count\n",
    "    FROM customer\n",
    "    ORDER BY random()\n",
    ")\n",
    "SELECT \n",
    "    customer_id\n",
    "    ,customer_name\n",
    "    ,gender_cd\n",
    "    ,gender\n",
    "    ,birth_day\n",
    "    ,age\n",
    "    ,postal_cd\n",
    "    ,address\n",
    "    ,application_store_cd\n",
    "    ,application_date\n",
    "    ,status_cd\n",
    "FROM customer_tmp\n",
    "WHERE row < count * 0.01\n",
    "LIMIT 10"
   ]
  },
  {
   "cell_type": "markdown",
   "metadata": {},
   "source": [
    "---\n",
    "> S-076:  顧客テーブル（customer）から性別（gender_cd）の割合に基づきランダムに10%のデータを層化抽出し、性別ごとに件数を集計せよ。"
   ]
  },
  {
   "cell_type": "code",
   "execution_count": 83,
   "metadata": {},
   "outputs": [
    {
     "name": "stdout",
     "output_type": "stream",
     "text": [
      " * postgresql://padawan:***@db:5432/dsdojo_db\n",
      "3 rows affected.\n"
     ]
    },
    {
     "data": {
      "text/html": [
       "<table>\n",
       "    <thead>\n",
       "        <tr>\n",
       "            <th>g_cd</th>\n",
       "            <th>count</th>\n",
       "        </tr>\n",
       "    </thead>\n",
       "    <tbody>\n",
       "        <tr>\n",
       "            <td>0</td>\n",
       "            <td>298</td>\n",
       "        </tr>\n",
       "        <tr>\n",
       "            <td>1</td>\n",
       "            <td>1791</td>\n",
       "        </tr>\n",
       "        <tr>\n",
       "            <td>9</td>\n",
       "            <td>107</td>\n",
       "        </tr>\n",
       "    </tbody>\n",
       "</table>"
      ],
      "text/plain": [
       "[('0', 298), ('1', 1791), ('9', 107)]"
      ]
     },
     "execution_count": 83,
     "metadata": {},
     "output_type": "execute_result"
    }
   ],
   "source": [
    "%%sql\n",
    "\n",
    "-- カテゴリ数が少ない場合はそれぞれサンプリングしUNIONするほうが簡単だが、カテゴリ数が多いケースを考慮して以下のSQLとした\n",
    "-- RANDOMでORDER BYしているため、大量データを扱う場合は注意が必要\n",
    "WITH cusotmer_random AS (\n",
    "    SELECT customer_id, g_cd, cnt\n",
    "    FROM (\n",
    "        SELECT\n",
    "            ARRAY_AGG(customer ORDER BY RANDOM()) AS customer_r, \n",
    "            gender_cd as g_cd, count(1) as cnt\n",
    "        FROM\n",
    "            customer\n",
    "        GROUP BY gender_cd\n",
    "    )sample, UNNEST(customer_r)\n",
    "),\n",
    "cusotmer_rownum AS(\n",
    "    SELECT * , ROW_NUMBER() OVER(PARTITION BY g_cd) AS rn FROM cusotmer_random\n",
    ")\n",
    "SELECT\n",
    "    g_cd, \n",
    "    count(1)\n",
    "FROM\n",
    "    cusotmer_rownum\n",
    "WHERE rn <= cnt * 0.1\n",
    "GROUP BY g_cd"
   ]
  },
  {
   "cell_type": "markdown",
   "metadata": {},
   "source": [
    "---\n",
    "> S-077: レシート明細テーブル（receipt）の売上金額（amount）を顧客単位に合計し、合計した売上金額の外れ値を抽出せよ。ただし、顧客IDが\"Z\"から始まるのものは非会員を表すため、除外して計算すること。なお、ここでは外れ値を平均から3σ以上離れたものとする。結果は10件表示させれば良い。"
   ]
  },
  {
   "cell_type": "code",
   "execution_count": 84,
   "metadata": {},
   "outputs": [
    {
     "name": "stdout",
     "output_type": "stream",
     "text": [
      " * postgresql://padawan:***@db:5432/dsdojo_db\n",
      "10 rows affected.\n"
     ]
    },
    {
     "data": {
      "text/html": [
       "<table>\n",
       "    <thead>\n",
       "        <tr>\n",
       "            <th>customer_id</th>\n",
       "            <th>sum_amount</th>\n",
       "        </tr>\n",
       "    </thead>\n",
       "    <tbody>\n",
       "        <tr>\n",
       "            <td>CS021514000008</td>\n",
       "            <td>12839</td>\n",
       "        </tr>\n",
       "        <tr>\n",
       "            <td>CS022515000065</td>\n",
       "            <td>12903</td>\n",
       "        </tr>\n",
       "        <tr>\n",
       "            <td>CS007514000094</td>\n",
       "            <td>15735</td>\n",
       "        </tr>\n",
       "        <tr>\n",
       "            <td>CS015515000034</td>\n",
       "            <td>15300</td>\n",
       "        </tr>\n",
       "        <tr>\n",
       "            <td>CS026414000039</td>\n",
       "            <td>12944</td>\n",
       "        </tr>\n",
       "        <tr>\n",
       "            <td>CS018414000065</td>\n",
       "            <td>12313</td>\n",
       "        </tr>\n",
       "        <tr>\n",
       "            <td>CS011415000006</td>\n",
       "            <td>16094</td>\n",
       "        </tr>\n",
       "        <tr>\n",
       "            <td>CS011414000012</td>\n",
       "            <td>11432</td>\n",
       "        </tr>\n",
       "        <tr>\n",
       "            <td>CS021515000172</td>\n",
       "            <td>13974</td>\n",
       "        </tr>\n",
       "        <tr>\n",
       "            <td>CS031414000028</td>\n",
       "            <td>11743</td>\n",
       "        </tr>\n",
       "    </tbody>\n",
       "</table>"
      ],
      "text/plain": [
       "[('CS021514000008', 12839),\n",
       " ('CS022515000065', 12903),\n",
       " ('CS007514000094', 15735),\n",
       " ('CS015515000034', 15300),\n",
       " ('CS026414000039', 12944),\n",
       " ('CS018414000065', 12313),\n",
       " ('CS011415000006', 16094),\n",
       " ('CS011414000012', 11432),\n",
       " ('CS021515000172', 13974),\n",
       " ('CS031414000028', 11743)]"
      ]
     },
     "execution_count": 84,
     "metadata": {},
     "output_type": "execute_result"
    }
   ],
   "source": [
    "%%sql\n",
    "\n",
    "WITH sales_amount AS(\n",
    "SELECT customer_id, SUM(amount) AS sum_amount\n",
    "    FROM receipt\n",
    "    WHERE customer_id NOT LIKE 'Z%'\n",
    "    GROUP BY customer_id\n",
    ")\n",
    "SELECT customer_id, sum_amount\n",
    "FROM sales_amount\n",
    "CROSS JOIN (\n",
    "    SELECT AVG(sum_amount) AS avg_amount, STDDEV_SAMP(sum_amount) AS std_amount\n",
    "    FROM sales_amount   \n",
    ") stats_amount\n",
    "WHERE ABS(sum_amount - avg_amount) / std_amount > 3\n",
    "LIMIT 10"
   ]
  },
  {
   "cell_type": "markdown",
   "metadata": {},
   "source": [
    "---\n",
    "> S-078: レシート明細テーブル（receipt）の売上金額（amount）を顧客単位に合計し、合計した売上金額の外れ値を抽出せよ。ただし、顧客IDが\"Z\"から始まるのものは非会員を表すため、除外して計算すること。なお、ここでは外れ値を第一四分位と第三四分位の差であるIQRを用いて、「第一四分位数-1.5×IQR」よりも下回るもの、または「第三四分位数+1.5×IQR」を超えるものとする。結果は10件表示させれば良い。"
   ]
  },
  {
   "cell_type": "code",
   "execution_count": 85,
   "metadata": {},
   "outputs": [
    {
     "name": "stdout",
     "output_type": "stream",
     "text": [
      " * postgresql://padawan:***@db:5432/dsdojo_db\n",
      "10 rows affected.\n"
     ]
    },
    {
     "data": {
      "text/html": [
       "<table>\n",
       "    <thead>\n",
       "        <tr>\n",
       "            <th>customer_id</th>\n",
       "            <th>sum_amount</th>\n",
       "        </tr>\n",
       "    </thead>\n",
       "    <tbody>\n",
       "        <tr>\n",
       "            <td>CS013415000226</td>\n",
       "            <td>8362</td>\n",
       "        </tr>\n",
       "        <tr>\n",
       "            <td>CS011415000041</td>\n",
       "            <td>9454</td>\n",
       "        </tr>\n",
       "        <tr>\n",
       "            <td>CS014514000004</td>\n",
       "            <td>8872</td>\n",
       "        </tr>\n",
       "        <tr>\n",
       "            <td>CS021514000008</td>\n",
       "            <td>12839</td>\n",
       "        </tr>\n",
       "        <tr>\n",
       "            <td>CS014515000007</td>\n",
       "            <td>9763</td>\n",
       "        </tr>\n",
       "        <tr>\n",
       "            <td>CS040415000220</td>\n",
       "            <td>10158</td>\n",
       "        </tr>\n",
       "        <tr>\n",
       "            <td>CS028415000161</td>\n",
       "            <td>8465</td>\n",
       "        </tr>\n",
       "        <tr>\n",
       "            <td>CS034515000173</td>\n",
       "            <td>10074</td>\n",
       "        </tr>\n",
       "        <tr>\n",
       "            <td>CS022515000065</td>\n",
       "            <td>12903</td>\n",
       "        </tr>\n",
       "        <tr>\n",
       "            <td>CS007514000094</td>\n",
       "            <td>15735</td>\n",
       "        </tr>\n",
       "    </tbody>\n",
       "</table>"
      ],
      "text/plain": [
       "[('CS013415000226', 8362),\n",
       " ('CS011415000041', 9454),\n",
       " ('CS014514000004', 8872),\n",
       " ('CS021514000008', 12839),\n",
       " ('CS014515000007', 9763),\n",
       " ('CS040415000220', 10158),\n",
       " ('CS028415000161', 8465),\n",
       " ('CS034515000173', 10074),\n",
       " ('CS022515000065', 12903),\n",
       " ('CS007514000094', 15735)]"
      ]
     },
     "execution_count": 85,
     "metadata": {},
     "output_type": "execute_result"
    }
   ],
   "source": [
    "%%sql\n",
    "\n",
    "WITH sales_amount AS(\n",
    "SELECT customer_id, SUM(amount) AS sum_amount\n",
    "    FROM receipt\n",
    "    WHERE customer_id NOT LIKE 'Z%'\n",
    "    GROUP BY customer_id\n",
    ")\n",
    "SELECT customer_id, sum_amount\n",
    "FROM sales_amount\n",
    "CROSS JOIN (\n",
    "    SELECT\n",
    "        PERCENTILE_CONT(0.25) WITHIN GROUP(ORDER BY sum_amount) as amount_25per,\n",
    "        PERCENTILE_CONT(0.75) WITHIN GROUP(ORDER BY sum_amount) as amount_75per\n",
    "    FROM sales_amount   \n",
    ") stats_amount\n",
    "WHERE sum_amount < amount_25per - (amount_75per - amount_25per) * 1.5 \n",
    "    OR amount_75per + (amount_75per - amount_25per) * 1.5 < sum_amount\n",
    "LIMIT 10"
   ]
  },
  {
   "cell_type": "markdown",
   "metadata": {},
   "source": [
    "---\n",
    "> S-079: 商品テーブル（product）の各項目に対し、欠損数を確認せよ。"
   ]
  },
  {
   "cell_type": "code",
   "execution_count": 86,
   "metadata": {},
   "outputs": [
    {
     "name": "stdout",
     "output_type": "stream",
     "text": [
      " * postgresql://padawan:***@db:5432/dsdojo_db\n",
      "1 rows affected.\n"
     ]
    },
    {
     "data": {
      "text/html": [
       "<table>\n",
       "    <thead>\n",
       "        <tr>\n",
       "            <th>product_cd</th>\n",
       "            <th>category_major_cd</th>\n",
       "            <th>category_medium_cd</th>\n",
       "            <th>category_small_cd</th>\n",
       "            <th>unit_price</th>\n",
       "            <th>unit_cost</th>\n",
       "        </tr>\n",
       "    </thead>\n",
       "    <tbody>\n",
       "        <tr>\n",
       "            <td>0</td>\n",
       "            <td>0</td>\n",
       "            <td>0</td>\n",
       "            <td>0</td>\n",
       "            <td>7</td>\n",
       "            <td>7</td>\n",
       "        </tr>\n",
       "    </tbody>\n",
       "</table>"
      ],
      "text/plain": [
       "[(0, 0, 0, 0, 7, 7)]"
      ]
     },
     "execution_count": 86,
     "metadata": {},
     "output_type": "execute_result"
    }
   ],
   "source": [
    "%%sql\n",
    "\n",
    "SELECT \n",
    "    SUM(\n",
    "        CASE WHEN product_cd IS NULL THEN 1 ELSE 0 END\n",
    "    ) AS product_cd,\n",
    "    SUM(\n",
    "        CASE WHEN category_major_cd IS NULL THEN 1 ELSE 0 END\n",
    "    ) AS category_major_cd,\n",
    "    SUM(\n",
    "        CASE WHEN category_medium_cd IS NULL THEN 1 ELSE 0 END\n",
    "    ) AS category_medium_cd,\n",
    "    SUM(\n",
    "        CASE WHEN category_small_cd IS NULL THEN 1 ELSE 0 END\n",
    "    ) AS category_small_cd,\n",
    "    SUM(\n",
    "        CASE WHEN unit_price IS NULL THEN 1 ELSE 0 END\n",
    "    ) AS unit_price,\n",
    "    SUM(\n",
    "        CASE WHEN unit_cost IS NULL THEN 1 ELSE 0 END\n",
    "    ) AS unit_cost\n",
    "FROM product LIMIT 10\n",
    "    "
   ]
  },
  {
   "cell_type": "markdown",
   "metadata": {},
   "source": [
    "---\n",
    "> S-080: 商品テーブル（product）のいずれかの項目に欠損が発生しているレコードを全て削除した新たなproduct_1を作成せよ。なお、削除前後の件数を表示させ、前設問で確認した件数だけ減少していることも確認すること。"
   ]
  },
  {
   "cell_type": "code",
   "execution_count": 87,
   "metadata": {},
   "outputs": [
    {
     "name": "stdout",
     "output_type": "stream",
     "text": [
      " * postgresql://padawan:***@db:5432/dsdojo_db\n",
      "1 rows affected.\n"
     ]
    },
    {
     "data": {
      "text/html": [
       "<table>\n",
       "    <thead>\n",
       "        <tr>\n",
       "            <th>count</th>\n",
       "        </tr>\n",
       "    </thead>\n",
       "    <tbody>\n",
       "        <tr>\n",
       "            <td>10030</td>\n",
       "        </tr>\n",
       "    </tbody>\n",
       "</table>"
      ],
      "text/plain": [
       "[(10030,)]"
      ]
     },
     "execution_count": 87,
     "metadata": {},
     "output_type": "execute_result"
    }
   ],
   "source": [
    "%%sql\n",
    "\n",
    "SELECT COUNT(1) FROM product;"
   ]
  },
  {
   "cell_type": "code",
   "execution_count": 88,
   "metadata": {},
   "outputs": [
    {
     "name": "stdout",
     "output_type": "stream",
     "text": [
      " * postgresql://padawan:***@db:5432/dsdojo_db\n",
      "Done.\n",
      "10023 rows affected.\n",
      "1 rows affected.\n"
     ]
    },
    {
     "data": {
      "text/html": [
       "<table>\n",
       "    <thead>\n",
       "        <tr>\n",
       "            <th>count</th>\n",
       "        </tr>\n",
       "    </thead>\n",
       "    <tbody>\n",
       "        <tr>\n",
       "            <td>10023</td>\n",
       "        </tr>\n",
       "    </tbody>\n",
       "</table>"
      ],
      "text/plain": [
       "[(10023,)]"
      ]
     },
     "execution_count": 88,
     "metadata": {},
     "output_type": "execute_result"
    }
   ],
   "source": [
    "%%sql\n",
    "\n",
    "DROP TABLE IF EXISTS product_1;\n",
    "CREATE TABLE product_1 AS (\n",
    "    SELECT * FROM product\n",
    "    WHERE unit_price IS NOT NULL OR  unit_cost IS NOT NULL\n",
    ");\n",
    "SELECT COUNT(1) FROM product_1;"
   ]
  },
  {
   "cell_type": "markdown",
   "metadata": {},
   "source": [
    "---\n",
    "> S-081: 単価（unit_price）と原価（unit_cost）の欠損値について、それぞれの平均値で補完した新たなproduct_2を作成せよ。なお、平均値について1円未満は四捨五入とする。補完実施後、各項目について欠損が生じていないことも確認すること。"
   ]
  },
  {
   "cell_type": "code",
   "execution_count": 89,
   "metadata": {},
   "outputs": [
    {
     "name": "stdout",
     "output_type": "stream",
     "text": [
      " * postgresql://padawan:***@db:5432/dsdojo_db\n",
      "Done.\n",
      "10030 rows affected.\n"
     ]
    },
    {
     "data": {
      "text/plain": [
       "[]"
      ]
     },
     "execution_count": 89,
     "metadata": {},
     "output_type": "execute_result"
    }
   ],
   "source": [
    "%%sql\n",
    "\n",
    "DROP TABLE IF EXISTS product_2;\n",
    "CREATE TABLE product_2 AS (\n",
    "    SELECT\n",
    "        product_cd, \n",
    "        category_major_cd, \n",
    "        category_medium_cd, \n",
    "        category_small_cd, \n",
    "        COALESCE(unit_price, unit_avg) as unit_price,\n",
    "        COALESCE(unit_cost, cost_avg) as unit_cost\n",
    "    FROM\n",
    "        product\n",
    "    CROSS JOIN (\n",
    "        SELECT\n",
    "            ROUND(AVG(unit_price)) AS unit_avg,\n",
    "            ROUND(AVG(unit_cost)) AS cost_avg\n",
    "        FROM\n",
    "            product\n",
    "    ) stats_product\n",
    ")"
   ]
  },
  {
   "cell_type": "code",
   "execution_count": 90,
   "metadata": {},
   "outputs": [
    {
     "name": "stdout",
     "output_type": "stream",
     "text": [
      " * postgresql://padawan:***@db:5432/dsdojo_db\n",
      "1 rows affected.\n"
     ]
    },
    {
     "data": {
      "text/html": [
       "<table>\n",
       "    <thead>\n",
       "        <tr>\n",
       "            <th>unit_price</th>\n",
       "            <th>unit_cost</th>\n",
       "        </tr>\n",
       "    </thead>\n",
       "    <tbody>\n",
       "        <tr>\n",
       "            <td>0</td>\n",
       "            <td>0</td>\n",
       "        </tr>\n",
       "    </tbody>\n",
       "</table>"
      ],
      "text/plain": [
       "[(0, 0)]"
      ]
     },
     "execution_count": 90,
     "metadata": {},
     "output_type": "execute_result"
    }
   ],
   "source": [
    "%%sql\n",
    "\n",
    "SELECT \n",
    "    SUM(CASE WHEN unit_price IS NULL THEN 1 ELSE 0 END) AS unit_price,\n",
    "    SUM(CASE WHEN unit_cost IS NULL THEN 1 ELSE 0 END) AS unit_cost\n",
    "FROM product_2 LIMIT 10\n",
    "    "
   ]
  },
  {
   "cell_type": "markdown",
   "metadata": {},
   "source": [
    "---\n",
    "> S-082:  単価（unit_price）と原価（unit_cost）の欠損値について、それぞれの中央値で補完した新たなproduct_3を作成せよ。なお、中央値について1円未満は四捨五入とする。補完実施後、各項目について欠損が生じていないことも確認すること。"
   ]
  },
  {
   "cell_type": "code",
   "execution_count": 91,
   "metadata": {},
   "outputs": [
    {
     "name": "stdout",
     "output_type": "stream",
     "text": [
      " * postgresql://padawan:***@db:5432/dsdojo_db\n",
      "Done.\n",
      "10030 rows affected.\n"
     ]
    },
    {
     "data": {
      "text/plain": [
       "[]"
      ]
     },
     "execution_count": 91,
     "metadata": {},
     "output_type": "execute_result"
    }
   ],
   "source": [
    "%%sql\n",
    "\n",
    "DROP TABLE IF EXISTS product_3;\n",
    "CREATE TABLE product_3 AS (\n",
    "    SELECT\n",
    "        product_cd, \n",
    "        category_major_cd, \n",
    "        category_medium_cd, \n",
    "        category_small_cd, \n",
    "        COALESCE(unit_price, unit_med) as unit_price,\n",
    "        COALESCE(unit_cost, cost_med) as unit_cost\n",
    "    FROM\n",
    "        product\n",
    "    CROSS JOIN (\n",
    "        SELECT\n",
    "            ROUND(\n",
    "                PERCENTILE_CONT(0.5) WITHIN GROUP(ORDER BY unit_price)\n",
    "            ) AS unit_med,\n",
    "            ROUND(\n",
    "                PERCENTILE_CONT(0.5) WITHIN GROUP(ORDER BY unit_cost)\n",
    "            ) AS cost_med\n",
    "        FROM\n",
    "            product\n",
    "    ) stats_product\n",
    ")"
   ]
  },
  {
   "cell_type": "code",
   "execution_count": 92,
   "metadata": {},
   "outputs": [
    {
     "name": "stdout",
     "output_type": "stream",
     "text": [
      " * postgresql://padawan:***@db:5432/dsdojo_db\n",
      "1 rows affected.\n"
     ]
    },
    {
     "data": {
      "text/html": [
       "<table>\n",
       "    <thead>\n",
       "        <tr>\n",
       "            <th>unit_price</th>\n",
       "            <th>unit_cost</th>\n",
       "        </tr>\n",
       "    </thead>\n",
       "    <tbody>\n",
       "        <tr>\n",
       "            <td>0</td>\n",
       "            <td>0</td>\n",
       "        </tr>\n",
       "    </tbody>\n",
       "</table>"
      ],
      "text/plain": [
       "[(0, 0)]"
      ]
     },
     "execution_count": 92,
     "metadata": {},
     "output_type": "execute_result"
    }
   ],
   "source": [
    "%%sql\n",
    "\n",
    "SELECT \n",
    "    SUM(CASE WHEN unit_price IS NULL THEN 1 ELSE 0 END) AS unit_price,\n",
    "    SUM(CASE WHEN unit_cost IS NULL THEN 1 ELSE 0 END) AS unit_cost\n",
    "FROM product_3 LIMIT 10"
   ]
  },
  {
   "cell_type": "markdown",
   "metadata": {},
   "source": [
    "---\n",
    "> S-083: 単価（unit_price）と原価（unit_cost）の欠損値について、各商品の小区分（category_small_cd）ごとに算出した中央値で補完した新たなproduct_4を作成せよ。なお、中央値について1円未満は四捨五入とする。補完実施後、各項目について欠損が生じていないことも確認すること。"
   ]
  },
  {
   "cell_type": "code",
   "execution_count": 93,
   "metadata": {},
   "outputs": [
    {
     "name": "stdout",
     "output_type": "stream",
     "text": [
      " * postgresql://padawan:***@db:5432/dsdojo_db\n",
      "Done.\n",
      "10030 rows affected.\n"
     ]
    },
    {
     "data": {
      "text/plain": [
       "[]"
      ]
     },
     "execution_count": 93,
     "metadata": {},
     "output_type": "execute_result"
    }
   ],
   "source": [
    "%%sql\n",
    "\n",
    "DROP TABLE IF EXISTS product_4;\n",
    "CREATE TABLE product_4 AS (\n",
    "    WITH category_median AS(\n",
    "        SELECT\n",
    "            category_small_cd, \n",
    "            ROUND(\n",
    "                PERCENTILE_CONT(0.5) WITHIN GROUP(ORDER BY unit_price)\n",
    "            ) AS unit_med,\n",
    "            ROUND(\n",
    "                PERCENTILE_CONT(0.5) WITHIN GROUP(ORDER BY unit_cost)\n",
    "            ) AS cost_med\n",
    "        FROM product\n",
    "        GROUP BY category_small_cd\n",
    "    )\n",
    "    SELECT\n",
    "        product_cd, \n",
    "        category_major_cd, \n",
    "        category_medium_cd, \n",
    "        category_small_cd, \n",
    "        COALESCE(unit_price, unit_med) as unit_price,\n",
    "        COALESCE(unit_cost, cost_med) as unit_cost\n",
    "    FROM\n",
    "        product\n",
    "    JOIN\n",
    "        category_median\n",
    "    USING(category_small_cd)\n",
    ")"
   ]
  },
  {
   "cell_type": "code",
   "execution_count": 94,
   "metadata": {},
   "outputs": [
    {
     "name": "stdout",
     "output_type": "stream",
     "text": [
      " * postgresql://padawan:***@db:5432/dsdojo_db\n",
      "1 rows affected.\n"
     ]
    },
    {
     "data": {
      "text/html": [
       "<table>\n",
       "    <thead>\n",
       "        <tr>\n",
       "            <th>unit_price</th>\n",
       "            <th>unit_cost</th>\n",
       "        </tr>\n",
       "    </thead>\n",
       "    <tbody>\n",
       "        <tr>\n",
       "            <td>0</td>\n",
       "            <td>0</td>\n",
       "        </tr>\n",
       "    </tbody>\n",
       "</table>"
      ],
      "text/plain": [
       "[(0, 0)]"
      ]
     },
     "execution_count": 94,
     "metadata": {},
     "output_type": "execute_result"
    }
   ],
   "source": [
    "%%sql\n",
    "\n",
    "SELECT \n",
    "    SUM(CASE WHEN unit_price IS NULL THEN 1 ELSE 0 END) AS unit_price,\n",
    "    SUM(CASE WHEN unit_cost IS NULL THEN 1 ELSE 0 END) AS unit_cost\n",
    "FROM product_4 LIMIT 10"
   ]
  },
  {
   "cell_type": "markdown",
   "metadata": {},
   "source": [
    "---\n",
    "> S-084: 顧客テーブル（customer）の全顧客に対し、全期間の売上金額に占める2019年売上金額の割合を計算せよ。ただし、販売実績のない場合は0として扱うこと。そして計算した割合が0超のものを抽出せよ。 結果は10件表示させれば良い。"
   ]
  },
  {
   "cell_type": "code",
   "execution_count": 95,
   "metadata": {},
   "outputs": [
    {
     "name": "stdout",
     "output_type": "stream",
     "text": [
      " * postgresql://padawan:***@db:5432/dsdojo_db\n",
      "10 rows affected.\n"
     ]
    },
    {
     "data": {
      "text/html": [
       "<table>\n",
       "    <thead>\n",
       "        <tr>\n",
       "            <th>customer_id</th>\n",
       "            <th>sales_amount_2019</th>\n",
       "            <th>sales_amount_all</th>\n",
       "            <th>sales_rate</th>\n",
       "        </tr>\n",
       "    </thead>\n",
       "    <tbody>\n",
       "        <tr>\n",
       "            <td>CS031415000172</td>\n",
       "            <td>2971</td>\n",
       "            <td>5088</td>\n",
       "            <td>0.58392295597484276730</td>\n",
       "        </tr>\n",
       "        <tr>\n",
       "            <td>CS015414000103</td>\n",
       "            <td>874</td>\n",
       "            <td>3122</td>\n",
       "            <td>0.27994875080076873799</td>\n",
       "        </tr>\n",
       "        <tr>\n",
       "            <td>CS011215000048</td>\n",
       "            <td>248</td>\n",
       "            <td>3444</td>\n",
       "            <td>0.07200929152148664344</td>\n",
       "        </tr>\n",
       "        <tr>\n",
       "            <td>CS029415000023</td>\n",
       "            <td>3767</td>\n",
       "            <td>5167</td>\n",
       "            <td>0.72904973872653377201</td>\n",
       "        </tr>\n",
       "        <tr>\n",
       "            <td>CS035415000029</td>\n",
       "            <td>5823</td>\n",
       "            <td>7504</td>\n",
       "            <td>0.77598614072494669510</td>\n",
       "        </tr>\n",
       "        <tr>\n",
       "            <td>CS023513000066</td>\n",
       "            <td>208</td>\n",
       "            <td>771</td>\n",
       "            <td>0.26977950713359273671</td>\n",
       "        </tr>\n",
       "        <tr>\n",
       "            <td>CS035513000134</td>\n",
       "            <td>463</td>\n",
       "            <td>1565</td>\n",
       "            <td>0.29584664536741214058</td>\n",
       "        </tr>\n",
       "        <tr>\n",
       "            <td>CS001515000263</td>\n",
       "            <td>216</td>\n",
       "            <td>216</td>\n",
       "            <td>1.00000000000000000000</td>\n",
       "        </tr>\n",
       "        <tr>\n",
       "            <td>CS006415000279</td>\n",
       "            <td>229</td>\n",
       "            <td>229</td>\n",
       "            <td>1.00000000000000000000</td>\n",
       "        </tr>\n",
       "        <tr>\n",
       "            <td>CS031415000106</td>\n",
       "            <td>215</td>\n",
       "            <td>7741</td>\n",
       "            <td>0.02777418938121689704</td>\n",
       "        </tr>\n",
       "    </tbody>\n",
       "</table>"
      ],
      "text/plain": [
       "[('CS031415000172', 2971, 5088, Decimal('0.58392295597484276730')),\n",
       " ('CS015414000103', 874, 3122, Decimal('0.27994875080076873799')),\n",
       " ('CS011215000048', 248, 3444, Decimal('0.07200929152148664344')),\n",
       " ('CS029415000023', 3767, 5167, Decimal('0.72904973872653377201')),\n",
       " ('CS035415000029', 5823, 7504, Decimal('0.77598614072494669510')),\n",
       " ('CS023513000066', 208, 771, Decimal('0.26977950713359273671')),\n",
       " ('CS035513000134', 463, 1565, Decimal('0.29584664536741214058')),\n",
       " ('CS001515000263', 216, 216, Decimal('1.00000000000000000000')),\n",
       " ('CS006415000279', 229, 229, Decimal('1.00000000000000000000')),\n",
       " ('CS031415000106', 215, 7741, Decimal('0.02777418938121689704'))]"
      ]
     },
     "execution_count": 95,
     "metadata": {},
     "output_type": "execute_result"
    }
   ],
   "source": [
    "%%sql\n",
    "\n",
    "WITH sales_amount_2019 AS (\n",
    "    SELECT\n",
    "        customer_id,\n",
    "        SUM(amount) AS sum_amount_2019\n",
    "    FROM\n",
    "        receipt\n",
    "    WHERE\n",
    "        20190101 <= sales_ymd AND sales_ymd <= 20191231\n",
    "    GROUP BY\n",
    "        customer_id\n",
    "),\n",
    "sales_amount_all AS (\n",
    "    SELECT\n",
    "        customer_id,\n",
    "        SUM(amount) AS sum_amount_all\n",
    "    FROM\n",
    "        receipt\n",
    "    GROUP BY\n",
    "        customer_id\n",
    ")\n",
    "SELECT\n",
    "    a.customer_id,\n",
    "    COALESCE(b.sum_amount_2019, 0) AS sales_amount_2019,\n",
    "    COALESCE(c.sum_amount_all, 0)  AS sales_amount_all,\n",
    "    CASE COALESCE(c.sum_amount_all, 0)\n",
    "        WHEN 0 THEN 0 \n",
    "        ELSE COALESCE(b.sum_amount_2019, 0) * 1.0 / c.sum_amount_all\n",
    "    END AS sales_rate\n",
    "FROM\n",
    "    customer a\n",
    "LEFT JOIN\n",
    "    sales_amount_2019 b\n",
    "ON a.customer_id = b.customer_id\n",
    "LEFT JOIN\n",
    "    sales_amount_all c\n",
    "ON a.customer_id = c.customer_id\n",
    "WHERE CASE COALESCE(c.sum_amount_all, 0) \n",
    "        WHEN 0 THEN 0 \n",
    "        ELSE COALESCE(b.sum_amount_2019, 0) * 1.0 / c.sum_amount_all \n",
    "        END > 0\n",
    "LIMIT 10\n"
   ]
  },
  {
   "cell_type": "markdown",
   "metadata": {},
   "source": [
    "---\n",
    "> S-085: 顧客テーブル（customer）の全顧客に対し、郵便番号（postal_cd）を用いて経度緯度変換用テーブル（geocode）を紐付け、新たなcustomer_1を作成せよ。ただし、複数紐づく場合は経度（longitude）、緯度（latitude）それぞれ平均を算出すること。"
   ]
  },
  {
   "cell_type": "code",
   "execution_count": 96,
   "metadata": {},
   "outputs": [
    {
     "name": "stdout",
     "output_type": "stream",
     "text": [
      " * postgresql://padawan:***@db:5432/dsdojo_db\n",
      "Done.\n",
      "21971 rows affected.\n"
     ]
    },
    {
     "data": {
      "text/plain": [
       "[]"
      ]
     },
     "execution_count": 96,
     "metadata": {},
     "output_type": "execute_result"
    }
   ],
   "source": [
    "%%sql\n",
    "\n",
    "DROP TABLE IF EXISTS customer_1;\n",
    "\n",
    "CREATE TABLE customer_1 AS (\n",
    "    WITH geocode_avg AS(\n",
    "        SELECT\n",
    "            postal_cd,\n",
    "            AVG(longitude) as m_longitude,\n",
    "            AVG(latitude) as m_latitude\n",
    "        FROM\n",
    "            geocode\n",
    "        GROUP BY \n",
    "            postal_cd\n",
    "    )\n",
    "    SELECT \n",
    "        *\n",
    "    FROM\n",
    "        customer c\n",
    "    JOIN\n",
    "        geocode_avg g\n",
    "    USING(postal_cd)\n",
    ");"
   ]
  },
  {
   "cell_type": "code",
   "execution_count": 97,
   "metadata": {},
   "outputs": [
    {
     "name": "stdout",
     "output_type": "stream",
     "text": [
      " * postgresql://padawan:***@db:5432/dsdojo_db\n",
      "3 rows affected.\n"
     ]
    },
    {
     "data": {
      "text/html": [
       "<table>\n",
       "    <thead>\n",
       "        <tr>\n",
       "            <th>postal_cd</th>\n",
       "            <th>customer_id</th>\n",
       "            <th>customer_name</th>\n",
       "            <th>gender_cd</th>\n",
       "            <th>gender</th>\n",
       "            <th>birth_day</th>\n",
       "            <th>age</th>\n",
       "            <th>address</th>\n",
       "            <th>application_store_cd</th>\n",
       "            <th>application_date</th>\n",
       "            <th>status_cd</th>\n",
       "            <th>m_longitude</th>\n",
       "            <th>m_latitude</th>\n",
       "        </tr>\n",
       "    </thead>\n",
       "    <tbody>\n",
       "        <tr>\n",
       "            <td>136-0076</td>\n",
       "            <td>CS037613000071</td>\n",
       "            <td>六角 雅彦</td>\n",
       "            <td>9</td>\n",
       "            <td>不明</td>\n",
       "            <td>1952-04-01</td>\n",
       "            <td>66</td>\n",
       "            <td>東京都江東区南砂**********</td>\n",
       "            <td>S13037</td>\n",
       "            <td>20150414</td>\n",
       "            <td>0-00000000-0</td>\n",
       "            <td>139.8350200000000000</td>\n",
       "            <td>35.6719300000000000</td>\n",
       "        </tr>\n",
       "        <tr>\n",
       "            <td>151-0053</td>\n",
       "            <td>CS031415000172</td>\n",
       "            <td>宇多田 貴美子</td>\n",
       "            <td>1</td>\n",
       "            <td>女性</td>\n",
       "            <td>1976-10-04</td>\n",
       "            <td>42</td>\n",
       "            <td>東京都渋谷区代々木**********</td>\n",
       "            <td>S13031</td>\n",
       "            <td>20150529</td>\n",
       "            <td>D-20100325-C</td>\n",
       "            <td>139.6896500000000000</td>\n",
       "            <td>35.6737400000000000</td>\n",
       "        </tr>\n",
       "        <tr>\n",
       "            <td>245-0016</td>\n",
       "            <td>CS028811000001</td>\n",
       "            <td>堀井 かおり</td>\n",
       "            <td>1</td>\n",
       "            <td>女性</td>\n",
       "            <td>1933-03-27</td>\n",
       "            <td>86</td>\n",
       "            <td>神奈川県横浜市泉区和泉町**********</td>\n",
       "            <td>S14028</td>\n",
       "            <td>20160115</td>\n",
       "            <td>0-00000000-0</td>\n",
       "            <td>139.4836000000000000</td>\n",
       "            <td>35.3912500000000000</td>\n",
       "        </tr>\n",
       "    </tbody>\n",
       "</table>"
      ],
      "text/plain": [
       "[('136-0076', 'CS037613000071', '六角 雅彦', '9', '不明', datetime.date(1952, 4, 1), 66, '東京都江東区南砂**********', 'S13037', '20150414', '0-00000000-0', Decimal('139.8350200000000000'), Decimal('35.6719300000000000')),\n",
       " ('151-0053', 'CS031415000172', '宇多田 貴美子', '1', '女性', datetime.date(1976, 10, 4), 42, '東京都渋谷区代々木**********', 'S13031', '20150529', 'D-20100325-C', Decimal('139.6896500000000000'), Decimal('35.6737400000000000')),\n",
       " ('245-0016', 'CS028811000001', '堀井 かおり', '1', '女性', datetime.date(1933, 3, 27), 86, '神奈川県横浜市泉区和泉町**********', 'S14028', '20160115', '0-00000000-0', Decimal('139.4836000000000000'), Decimal('35.3912500000000000'))]"
      ]
     },
     "execution_count": 97,
     "metadata": {},
     "output_type": "execute_result"
    }
   ],
   "source": [
    "%%sql\n",
    "\n",
    "SELECT * FROM customer_1 LIMIT 3"
   ]
  },
  {
   "cell_type": "markdown",
   "metadata": {},
   "source": [
    "---\n",
    "> S-086: 前設問で作成した緯度経度つき顧客テーブル（customer_1）に対し、申込み店舗コード（application_store_cd）をキーに店舗テーブル（store）と結合せよ。そして申込み店舗の緯度（latitude）・経度情報（longitude)と顧客の緯度・経度を用いて距離（km）を求め、顧客ID（customer_id）、顧客住所（address）、店舗住所（address）とともに表示せよ。計算式は簡易式で良いものとするが、その他精度の高い方式を利用したライブラリを利用してもかまわない。結果は10件表示すれば良い。"
   ]
  },
  {
   "cell_type": "markdown",
   "metadata": {},
   "source": [
    "$$\n",
    "緯度（ラジアン）：\\phi \\\\\n",
    "経度（ラジアン）：\\lambda \\\\\n",
    "距離L = 6371 * arccos(sin \\phi_1 * sin \\phi_2\n",
    "+ cos \\phi_1 * cos \\phi_2 * cos(\\lambda_1 − \\lambda_2))\n",
    "$$"
   ]
  },
  {
   "cell_type": "code",
   "execution_count": 98,
   "metadata": {},
   "outputs": [
    {
     "name": "stdout",
     "output_type": "stream",
     "text": [
      " * postgresql://padawan:***@db:5432/dsdojo_db\n",
      "10 rows affected.\n"
     ]
    },
    {
     "data": {
      "text/html": [
       "<table>\n",
       "    <thead>\n",
       "        <tr>\n",
       "            <th>customer_id</th>\n",
       "            <th>customer_address</th>\n",
       "            <th>store_address</th>\n",
       "            <th>distance</th>\n",
       "        </tr>\n",
       "    </thead>\n",
       "    <tbody>\n",
       "        <tr>\n",
       "            <td>CS037613000071</td>\n",
       "            <td>東京都江東区南砂**********</td>\n",
       "            <td>東京都江東区南砂一丁目</td>\n",
       "            <td>1.4511822099658445</td>\n",
       "        </tr>\n",
       "        <tr>\n",
       "            <td>CS031415000172</td>\n",
       "            <td>東京都渋谷区代々木**********</td>\n",
       "            <td>東京都渋谷区初台二丁目</td>\n",
       "            <td>0.4117334789298223</td>\n",
       "        </tr>\n",
       "        <tr>\n",
       "            <td>CS028811000001</td>\n",
       "            <td>神奈川県横浜市泉区和泉町**********</td>\n",
       "            <td>神奈川県横浜市瀬谷区二ツ橋町</td>\n",
       "            <td>8.065196026704987</td>\n",
       "        </tr>\n",
       "        <tr>\n",
       "            <td>CS001215000145</td>\n",
       "            <td>東京都大田区仲六郷**********</td>\n",
       "            <td>東京都大田区仲六郷二丁目</td>\n",
       "            <td>1.2684209720729687</td>\n",
       "        </tr>\n",
       "        <tr>\n",
       "            <td>CS015414000103</td>\n",
       "            <td>東京都江東区北砂**********</td>\n",
       "            <td>東京都江東区南砂二丁目</td>\n",
       "            <td>1.449673414532165</td>\n",
       "        </tr>\n",
       "        <tr>\n",
       "            <td>CS015804000004</td>\n",
       "            <td>東京都江東区北砂**********</td>\n",
       "            <td>東京都江東区南砂二丁目</td>\n",
       "            <td>1.449673414532165</td>\n",
       "        </tr>\n",
       "        <tr>\n",
       "            <td>CS007403000016</td>\n",
       "            <td>千葉県八千代市上高野**********</td>\n",
       "            <td>千葉県佐倉市上志津</td>\n",
       "            <td>1.9208032538419055</td>\n",
       "        </tr>\n",
       "        <tr>\n",
       "            <td>CS035614000014</td>\n",
       "            <td>東京都世田谷区桜新町**********</td>\n",
       "            <td>東京都世田谷区用賀四丁目</td>\n",
       "            <td>1.0214681484997588</td>\n",
       "        </tr>\n",
       "        <tr>\n",
       "            <td>CS011215000048</td>\n",
       "            <td>神奈川県横浜市港北区日吉本町**********</td>\n",
       "            <td>神奈川県横浜市港北区日吉本町四丁目</td>\n",
       "            <td>0.8182767808775093</td>\n",
       "        </tr>\n",
       "        <tr>\n",
       "            <td>CS040412000191</td>\n",
       "            <td>神奈川県横浜市緑区北八朔町**********</td>\n",
       "            <td>神奈川県横浜市緑区長津田みなみ台五丁目</td>\n",
       "            <td>3.6641233580823287</td>\n",
       "        </tr>\n",
       "    </tbody>\n",
       "</table>"
      ],
      "text/plain": [
       "[('CS037613000071', '東京都江東区南砂**********', '東京都江東区南砂一丁目', 1.4511822099658445),\n",
       " ('CS031415000172', '東京都渋谷区代々木**********', '東京都渋谷区初台二丁目', 0.4117334789298223),\n",
       " ('CS028811000001', '神奈川県横浜市泉区和泉町**********', '神奈川県横浜市瀬谷区二ツ橋町', 8.065196026704987),\n",
       " ('CS001215000145', '東京都大田区仲六郷**********', '東京都大田区仲六郷二丁目', 1.2684209720729687),\n",
       " ('CS015414000103', '東京都江東区北砂**********', '東京都江東区南砂二丁目', 1.449673414532165),\n",
       " ('CS015804000004', '東京都江東区北砂**********', '東京都江東区南砂二丁目', 1.449673414532165),\n",
       " ('CS007403000016', '千葉県八千代市上高野**********', '千葉県佐倉市上志津', 1.9208032538419055),\n",
       " ('CS035614000014', '東京都世田谷区桜新町**********', '東京都世田谷区用賀四丁目', 1.0214681484997588),\n",
       " ('CS011215000048', '神奈川県横浜市港北区日吉本町**********', '神奈川県横浜市港北区日吉本町四丁目', 0.8182767808775093),\n",
       " ('CS040412000191', '神奈川県横浜市緑区北八朔町**********', '神奈川県横浜市緑区長津田みなみ台五丁目', 3.6641233580823287)]"
      ]
     },
     "execution_count": 98,
     "metadata": {},
     "output_type": "execute_result"
    }
   ],
   "source": [
    "%%sql\n",
    "\n",
    "SELECT\n",
    "    c.customer_id,\n",
    "    c.address AS customer_address,\n",
    "    s.address AS store_address,\n",
    "    (\n",
    "        6371 * ACOS( \n",
    "                SIN(RADIANS(c.m_latitude)) \n",
    "                * SIN(RADIANS(s.latitude))\n",
    "                + COS(RADIANS(c.m_latitude)) \n",
    "                * COS(RADIANS(s.latitude)) \n",
    "                * COS(RADIANS(c.m_longitude) - RADIANS(s.longitude))\n",
    "        )\n",
    "    ) AS distance \n",
    "FROM\n",
    "    customer_1 c\n",
    "JOIN\n",
    "    store s\n",
    "ON\n",
    "    c.application_store_cd = s.store_cd\n",
    "limit 10"
   ]
  },
  {
   "cell_type": "markdown",
   "metadata": {},
   "source": [
    "---\n",
    "> S-087: 顧客テーブル（customer）では、異なる店舗での申込みなどにより同一顧客が複数登録されている。名前（customer_name）と郵便番号（postal_cd）が同じ顧客は同一顧客とみなし、1顧客1レコードとなるように名寄せした名寄顧客テーブル（customer_u）を作成せよ。ただし、同一顧客に対しては売上金額合計が最も高いものを残すものとし、売上金額合計が同一もしくは売上実績の無い顧客については顧客ID（customer_id）の番号が小さいものを残すこととする。"
   ]
  },
  {
   "cell_type": "code",
   "execution_count": 99,
   "metadata": {},
   "outputs": [
    {
     "name": "stdout",
     "output_type": "stream",
     "text": [
      " * postgresql://padawan:***@db:5432/dsdojo_db\n",
      "Done.\n",
      "21941 rows affected.\n"
     ]
    },
    {
     "data": {
      "text/plain": [
       "[]"
      ]
     },
     "execution_count": 99,
     "metadata": {},
     "output_type": "execute_result"
    }
   ],
   "source": [
    "%%sql\n",
    "\n",
    "DROP TABLE IF EXISTS customer_u;\n",
    "CREATE TABLE customer_u AS (\n",
    "    WITH sales_amount AS(\n",
    "    SELECT\n",
    "        c.customer_id,\n",
    "        c.customer_name,\n",
    "        c.postal_cd, \n",
    "        SUM(r.amount) as sum_amount\n",
    "    FROM\n",
    "        customer c\n",
    "\n",
    "    LEFT JOIN\n",
    "        receipt r        \n",
    "    ON c.customer_id = r.customer_id\n",
    "    GROUP by\n",
    "        c.customer_id, c.customer_name, c.postal_cd\n",
    "    ),\n",
    "    sales_ranking AS(\n",
    "    SELECT\n",
    "        *,\n",
    "        ROW_NUMBER() OVER(\n",
    "            PARTITION BY customer_name, postal_cd \n",
    "            ORDER BY sum_amount desc, customer_ID ) as rank\n",
    "    FROM sales_amount\n",
    "    )\n",
    "    SELECT c.*\n",
    "    FROM\n",
    "        customer c\n",
    "    JOIN\n",
    "        sales_ranking r\n",
    "    ON\n",
    "        c.customer_id = r.customer_id\n",
    "        and r.rank = 1\n",
    ")"
   ]
  },
  {
   "cell_type": "code",
   "execution_count": 100,
   "metadata": {},
   "outputs": [
    {
     "name": "stdout",
     "output_type": "stream",
     "text": [
      " * postgresql://padawan:***@db:5432/dsdojo_db\n",
      "1 rows affected.\n"
     ]
    },
    {
     "data": {
      "text/html": [
       "<table>\n",
       "    <thead>\n",
       "        <tr>\n",
       "            <th>cnt</th>\n",
       "            <th>cnt_u</th>\n",
       "            <th>diff</th>\n",
       "        </tr>\n",
       "    </thead>\n",
       "    <tbody>\n",
       "        <tr>\n",
       "            <td>21971</td>\n",
       "            <td>21941</td>\n",
       "            <td>30</td>\n",
       "        </tr>\n",
       "    </tbody>\n",
       "</table>"
      ],
      "text/plain": [
       "[(21971, 21941, 30)]"
      ]
     },
     "execution_count": 100,
     "metadata": {},
     "output_type": "execute_result"
    }
   ],
   "source": [
    "%%sql\n",
    "\n",
    "SELECT \n",
    "    cnt, \n",
    "    cnt_u, \n",
    "    cnt - cnt_u AS diff \n",
    "FROM\n",
    "    (SELECT count(1) as cnt FROM customer) customer\n",
    "CROSS JOIN (SELECT count(1) as cnt_u FROM customer_u) customer_u"
   ]
  },
  {
   "cell_type": "markdown",
   "metadata": {},
   "source": [
    "---\n",
    "> S-088: 前設問で作成したデータを元に、顧客テーブルに統合名寄IDを付与したテーブル（customer_n）を作成せよ。ただし、統合名寄IDは以下の仕様で付与するものとする。\n",
    ">\n",
    ">- 重複していない顧客：顧客ID（customer_id）を設定\n",
    ">- 重複している顧客：前設問で抽出したレコードの顧客IDを設定"
   ]
  },
  {
   "cell_type": "code",
   "execution_count": 101,
   "metadata": {},
   "outputs": [
    {
     "name": "stdout",
     "output_type": "stream",
     "text": [
      " * postgresql://padawan:***@db:5432/dsdojo_db\n",
      "Done.\n",
      "21971 rows affected.\n"
     ]
    },
    {
     "data": {
      "text/plain": [
       "[]"
      ]
     },
     "execution_count": 101,
     "metadata": {},
     "output_type": "execute_result"
    }
   ],
   "source": [
    "%%sql\n",
    "\n",
    "DROP TABLE IF EXISTS customer_n;\n",
    "CREATE TABLE customer_n AS (\n",
    "    SELECT \n",
    "        c.*, \n",
    "        u.customer_id as integration_id\n",
    "    FROM \n",
    "        customer c\n",
    "    JOIN\n",
    "        customer_u u\n",
    "    ON c.customer_name = u.customer_name\n",
    "        and c.postal_cd = u.postal_cd\n",
    ")"
   ]
  },
  {
   "cell_type": "code",
   "execution_count": 102,
   "metadata": {},
   "outputs": [
    {
     "name": "stdout",
     "output_type": "stream",
     "text": [
      " * postgresql://padawan:***@db:5432/dsdojo_db\n",
      "1 rows affected.\n"
     ]
    },
    {
     "data": {
      "text/html": [
       "<table>\n",
       "    <thead>\n",
       "        <tr>\n",
       "            <th>count</th>\n",
       "        </tr>\n",
       "    </thead>\n",
       "    <tbody>\n",
       "        <tr>\n",
       "            <td>30</td>\n",
       "        </tr>\n",
       "    </tbody>\n",
       "</table>"
      ],
      "text/plain": [
       "[(30,)]"
      ]
     },
     "execution_count": 102,
     "metadata": {},
     "output_type": "execute_result"
    }
   ],
   "source": [
    "%%sql\n",
    "SELECT count(1) FROM customer_n\n",
    "WHERE customer_id != integration_id"
   ]
  },
  {
   "cell_type": "markdown",
   "metadata": {},
   "source": [
    "---\n",
    "> S-089: 売上実績のある顧客に対し、予測モデル構築のため学習用データとテスト用データに分割したい。それぞれ8:2の割合でランダムにデータを分割せよ。"
   ]
  },
  {
   "cell_type": "code",
   "execution_count": 103,
   "metadata": {},
   "outputs": [
    {
     "name": "stdout",
     "output_type": "stream",
     "text": [
      " * postgresql://padawan:***@db:5432/dsdojo_db\n",
      "1 rows affected.\n",
      "8306 rows affected.\n",
      "Done.\n",
      "6644 rows affected.\n",
      "Done.\n",
      "1662 rows affected.\n"
     ]
    },
    {
     "data": {
      "text/plain": [
       "[]"
      ]
     },
     "execution_count": 103,
     "metadata": {},
     "output_type": "execute_result"
    }
   ],
   "source": [
    "%%sql\n",
    "\n",
    "SELECT SETSEED(0.1);\n",
    "\n",
    "CREATE TEMP TABLE IF NOT EXISTS sales_record_customer_id AS (\n",
    "    SELECT customer_id ,ROW_NUMBER()OVER(ORDER BY RANDOM()) AS row\n",
    "    FROM customer\n",
    "    LEFT JOIN receipt USING(customer_id)\n",
    "    GROUP BY customer_id\n",
    "    HAVING SUM(amount) IS NOT NULL \n",
    ");\n",
    "\n",
    "DROP TABLE IF EXISTS customer_train;\n",
    "CREATE TABLE customer_train AS\n",
    "SELECT customer.*\n",
    "FROM sales_record_customer_id\n",
    "LEFT JOIN customer USING(customer_id)\n",
    "WHERE sales_record_customer_id.row < (SELECT \n",
    "                                          COUNT(0) \n",
    "                                      FROM sales_record_customer_id) *0.8\n",
    ";\n",
    "\n",
    "DROP TABLE IF EXISTS customer_test;\n",
    "\n",
    "CREATE TABLE customer_test AS\n",
    "    SELECT customer.* \n",
    "    FROM sales_record_customer_id \n",
    "    LEFT JOIN customer USING(customer_id)\n",
    "    EXCEPT\n",
    "    SELECT * from customer_train\n",
    ";"
   ]
  },
  {
   "cell_type": "markdown",
   "metadata": {},
   "source": [
    "---\n",
    "> S-090: レシート明細テーブル（receipt）は2017年1月1日〜2019年10月31日までのデータを有している。売上金額（amount）を月次で集計し、学習用に12ヶ月、テスト用に6ヶ月のモデル構築用データを3テーブルとしてセット作成せよ。データの持ち方は自由とする。"
   ]
  },
  {
   "cell_type": "code",
   "execution_count": 104,
   "metadata": {},
   "outputs": [
    {
     "name": "stdout",
     "output_type": "stream",
     "text": [
      " * postgresql://padawan:***@db:5432/dsdojo_db\n",
      "Done.\n",
      "34 rows affected.\n",
      "Done.\n",
      "18 rows affected.\n",
      "Done.\n",
      "18 rows affected.\n",
      "Done.\n",
      "18 rows affected.\n"
     ]
    },
    {
     "data": {
      "text/plain": [
       "[]"
      ]
     },
     "execution_count": 104,
     "metadata": {},
     "output_type": "execute_result"
    }
   ],
   "source": [
    "%%sql\n",
    "\n",
    "-- SQL向きではないため、やや強引に記載する（分割数が多くなる場合はSQLが長くなるため現実的ではない）\n",
    "-- また、秒単位のデータなど時系列が細かく、かつ長期間に渡る場合はデータが膨大となるため注意（そのようなケースではループ処理でモデル学習ができる言語が望ましい）\n",
    "-- 学習データ(0)とテストデータ(1)を区別するフラグを付与する\n",
    "DROP TABLE IF EXISTS sales_amount ;\n",
    "\n",
    "CREATE TABLE sales_amount AS (\n",
    "    SELECT \n",
    "        SUBSTR(CAST(sales_ymd AS VARCHAR), 1, 6) AS sales_ym, \n",
    "        SUM(amount) AS sum_amount,\n",
    "        row_number() OVER(PARTITION BY NULL ORDER BY \n",
    "                         SUBSTR(CAST(sales_ymd AS VARCHAR), 1, 6)) AS rn\n",
    "    FROM\n",
    "        receipt\n",
    "    GROUP BY sales_ym\n",
    ");\n",
    "\n",
    "-- SQLでは限界があるが、作成データセットの増加に伴いなるべく使いまわしができるものにする\n",
    "-- WITH句内のLAG関数について、ラグ期間を変えれば使い回せるよう記述\n",
    "DROP TABLE IF EXISTS series_data_1 ;\n",
    "CREATE TABLE series_data_1 AS (\n",
    "    WITH lag_amount AS (\n",
    "        SELECT sales_ym, sum_amount, LAG(rn, 0) OVER (ORDER BY rn) AS rn\n",
    "        FROM sales_amount\n",
    "    )\n",
    "    SELECT \n",
    "        sales_ym, sum_amount, \n",
    "        CASE WHEN rn <= 12 THEN 0 WHEN 12 < rn THEN 1 END as test_flg\n",
    "    FROM lag_amount \n",
    "    WHERE rn <= 18);\n",
    "\n",
    "DROP TABLE IF EXISTS series_data_2 ;\n",
    "\n",
    "CREATE TABLE series_data_2 AS (\n",
    "    WITH lag_amount AS (\n",
    "        SELECT \n",
    "            sales_ym, \n",
    "            sum_amount, \n",
    "            LAG(rn, 6) OVER (ORDER BY rn) AS rn\n",
    "        FROM sales_amount\n",
    "    )\n",
    "    SELECT\n",
    "        sales_ym, \n",
    "        sum_amount, \n",
    "        CASE WHEN rn <= 12 THEN 0 WHEN 12 < rn THEN 1 END as test_flg\n",
    "    FROM lag_amount WHERE rn <= 18);\n",
    "\n",
    "DROP TABLE IF EXISTS series_data_3 ;\n",
    "\n",
    "CREATE TABLE series_data_3 AS (\n",
    "    WITH lag_amount AS (\n",
    "        SELECT sales_ym, sum_amount, LAG(rn, 12) OVER (ORDER BY rn) AS rn\n",
    "        FROM sales_amount\n",
    "    )\n",
    "    SELECT \n",
    "        sales_ym, \n",
    "        sum_amount, \n",
    "        CASE WHEN rn <= 12 THEN 0 WHEN 12 < rn THEN 1 END as test_flg\n",
    "    FROM lag_amount WHERE rn <= 18);\n"
   ]
  },
  {
   "cell_type": "code",
   "execution_count": 105,
   "metadata": {},
   "outputs": [
    {
     "name": "stdout",
     "output_type": "stream",
     "text": [
      " * postgresql://padawan:***@db:5432/dsdojo_db\n",
      "18 rows affected.\n"
     ]
    },
    {
     "data": {
      "text/html": [
       "<table>\n",
       "    <thead>\n",
       "        <tr>\n",
       "            <th>sales_ym</th>\n",
       "            <th>sum_amount</th>\n",
       "            <th>test_flg</th>\n",
       "        </tr>\n",
       "    </thead>\n",
       "    <tbody>\n",
       "        <tr>\n",
       "            <td>201701</td>\n",
       "            <td>902056</td>\n",
       "            <td>0</td>\n",
       "        </tr>\n",
       "        <tr>\n",
       "            <td>201702</td>\n",
       "            <td>764413</td>\n",
       "            <td>0</td>\n",
       "        </tr>\n",
       "        <tr>\n",
       "            <td>201703</td>\n",
       "            <td>962945</td>\n",
       "            <td>0</td>\n",
       "        </tr>\n",
       "        <tr>\n",
       "            <td>201704</td>\n",
       "            <td>847566</td>\n",
       "            <td>0</td>\n",
       "        </tr>\n",
       "        <tr>\n",
       "            <td>201705</td>\n",
       "            <td>884010</td>\n",
       "            <td>0</td>\n",
       "        </tr>\n",
       "        <tr>\n",
       "            <td>201706</td>\n",
       "            <td>894242</td>\n",
       "            <td>0</td>\n",
       "        </tr>\n",
       "        <tr>\n",
       "            <td>201707</td>\n",
       "            <td>959205</td>\n",
       "            <td>0</td>\n",
       "        </tr>\n",
       "        <tr>\n",
       "            <td>201708</td>\n",
       "            <td>954836</td>\n",
       "            <td>0</td>\n",
       "        </tr>\n",
       "        <tr>\n",
       "            <td>201709</td>\n",
       "            <td>902037</td>\n",
       "            <td>0</td>\n",
       "        </tr>\n",
       "        <tr>\n",
       "            <td>201710</td>\n",
       "            <td>905739</td>\n",
       "            <td>0</td>\n",
       "        </tr>\n",
       "        <tr>\n",
       "            <td>201711</td>\n",
       "            <td>932157</td>\n",
       "            <td>0</td>\n",
       "        </tr>\n",
       "        <tr>\n",
       "            <td>201712</td>\n",
       "            <td>939654</td>\n",
       "            <td>0</td>\n",
       "        </tr>\n",
       "        <tr>\n",
       "            <td>201801</td>\n",
       "            <td>944509</td>\n",
       "            <td>1</td>\n",
       "        </tr>\n",
       "        <tr>\n",
       "            <td>201802</td>\n",
       "            <td>864128</td>\n",
       "            <td>1</td>\n",
       "        </tr>\n",
       "        <tr>\n",
       "            <td>201803</td>\n",
       "            <td>946588</td>\n",
       "            <td>1</td>\n",
       "        </tr>\n",
       "        <tr>\n",
       "            <td>201804</td>\n",
       "            <td>937099</td>\n",
       "            <td>1</td>\n",
       "        </tr>\n",
       "        <tr>\n",
       "            <td>201805</td>\n",
       "            <td>1004438</td>\n",
       "            <td>1</td>\n",
       "        </tr>\n",
       "        <tr>\n",
       "            <td>201806</td>\n",
       "            <td>1012329</td>\n",
       "            <td>1</td>\n",
       "        </tr>\n",
       "    </tbody>\n",
       "</table>"
      ],
      "text/plain": [
       "[('201701', 902056, 0),\n",
       " ('201702', 764413, 0),\n",
       " ('201703', 962945, 0),\n",
       " ('201704', 847566, 0),\n",
       " ('201705', 884010, 0),\n",
       " ('201706', 894242, 0),\n",
       " ('201707', 959205, 0),\n",
       " ('201708', 954836, 0),\n",
       " ('201709', 902037, 0),\n",
       " ('201710', 905739, 0),\n",
       " ('201711', 932157, 0),\n",
       " ('201712', 939654, 0),\n",
       " ('201801', 944509, 1),\n",
       " ('201802', 864128, 1),\n",
       " ('201803', 946588, 1),\n",
       " ('201804', 937099, 1),\n",
       " ('201805', 1004438, 1),\n",
       " ('201806', 1012329, 1)]"
      ]
     },
     "execution_count": 105,
     "metadata": {},
     "output_type": "execute_result"
    }
   ],
   "source": [
    "%%sql\n",
    "\n",
    "SELECT * FROM series_data_1"
   ]
  },
  {
   "cell_type": "markdown",
   "metadata": {},
   "source": [
    "---\n",
    "> S-091: 顧客テーブル（customer）の各顧客に対し、売上実績のある顧客数と売上実績のない顧客数が1:1となるようにアンダーサンプリングで抽出せよ。"
   ]
  },
  {
   "cell_type": "code",
   "execution_count": 106,
   "metadata": {},
   "outputs": [
    {
     "name": "stdout",
     "output_type": "stream",
     "text": [
      " * postgresql://padawan:***@db:5432/dsdojo_db\n",
      "1 rows affected.\n",
      "2 rows affected.\n"
     ]
    },
    {
     "data": {
      "text/html": [
       "<table>\n",
       "    <thead>\n",
       "        <tr>\n",
       "            <th>count</th>\n",
       "        </tr>\n",
       "    </thead>\n",
       "    <tbody>\n",
       "        <tr>\n",
       "            <td>8306</td>\n",
       "        </tr>\n",
       "        <tr>\n",
       "            <td>8306</td>\n",
       "        </tr>\n",
       "    </tbody>\n",
       "</table>"
      ],
      "text/plain": [
       "[(8306,), (8306,)]"
      ]
     },
     "execution_count": 106,
     "metadata": {},
     "output_type": "execute_result"
    }
   ],
   "source": [
    "%%sql\n",
    "\n",
    "SELECT SETSEED(0.1);\n",
    "\n",
    "WITH pre_table_1 AS(\n",
    "    SELECT\n",
    "        c.*\n",
    "        ,COALESCE(r.amount,0) AS r_amount\n",
    "    FROM\n",
    "        customer c\n",
    "    LEFT JOIN\n",
    "        receipt r\n",
    "    ON\n",
    "        c.customer_id=r.customer_id\n",
    ")\n",
    ",pre_table_2 AS(\n",
    "    SELECT\n",
    "        customer_id\n",
    "        ,CASE WHEN SUM(r_amount)>0 THEN 1 ELSE 0 END  AS is_buy_flag\n",
    "        ,CASE WHEN SUM(r_amount)=0 THEN 1 ELSE 0 END  AS is_not_buy_flag\n",
    "    FROM\n",
    "        pre_table_1\n",
    "    GROUP BY\n",
    "        customer_id\n",
    ")\n",
    ",pre_table_3 AS(\n",
    "    SELECT\n",
    "        *\n",
    "        ,ROW_NUMBER() OVER(PARTITION BY is_buy_flag ORDER BY RANDOM())\n",
    "    FROM\n",
    "        pre_table_2\n",
    "    CROSS JOIN\n",
    "        (SELECT SUM(is_buy_flag) AS buying FROM pre_table_2) AS t1\n",
    "    CROSS JOIN\n",
    "        (SELECT SUM(is_not_buy_flag) AS not_buying FROM pre_table_2) AS t2\n",
    ")\n",
    ",pre_table_4 AS(\n",
    "    SELECT\n",
    "        *\n",
    "    FROM\n",
    "        pre_table_3\n",
    "    WHERE\n",
    "        row_number<=buying\n",
    "        AND\n",
    "        row_number<=not_buying\n",
    ")\n",
    "\n",
    "SELECT COUNT(*) FROM pre_table_4 GROUP BY is_buy_flag;"
   ]
  },
  {
   "cell_type": "markdown",
   "metadata": {},
   "source": [
    "---\n",
    "> S-092: 顧客テーブル（customer）では、性別に関する情報が非正規化の状態で保持されている。これを第三正規化せよ。"
   ]
  },
  {
   "cell_type": "code",
   "execution_count": 107,
   "metadata": {},
   "outputs": [
    {
     "name": "stdout",
     "output_type": "stream",
     "text": [
      " * postgresql://padawan:***@db:5432/dsdojo_db\n",
      "Done.\n",
      "21971 rows affected.\n",
      "Done.\n",
      "3 rows affected.\n"
     ]
    },
    {
     "data": {
      "text/plain": [
       "[]"
      ]
     },
     "execution_count": 107,
     "metadata": {},
     "output_type": "execute_result"
    }
   ],
   "source": [
    "%%sql\n",
    "\n",
    "DROP TABLE IF EXISTS customer_std;\n",
    "CREATE TABLE customer_std AS (\n",
    "    SELECT\n",
    "        customer_id,\n",
    "        customer_name,\n",
    "        gender_cd,\n",
    "        birth_day,\n",
    "        age,\n",
    "        postal_cd,\n",
    "        application_store_cd,\n",
    "        application_date,\n",
    "        status_cd\n",
    "    FROM\n",
    "        customer\n",
    ");\n",
    "\n",
    "DROP TABLE IF EXISTS gender_std;\n",
    "CREATE TABLE gender_std AS (\n",
    "    SELECT distinct\n",
    "        gender_cd, gender\n",
    "    FROM\n",
    "        customer\n",
    ")\n"
   ]
  },
  {
   "cell_type": "code",
   "execution_count": 108,
   "metadata": {},
   "outputs": [
    {
     "name": "stdout",
     "output_type": "stream",
     "text": [
      " * postgresql://padawan:***@db:5432/dsdojo_db\n",
      "3 rows affected.\n"
     ]
    },
    {
     "data": {
      "text/html": [
       "<table>\n",
       "    <thead>\n",
       "        <tr>\n",
       "            <th>gender_cd</th>\n",
       "            <th>gender</th>\n",
       "        </tr>\n",
       "    </thead>\n",
       "    <tbody>\n",
       "        <tr>\n",
       "            <td>0</td>\n",
       "            <td>男性</td>\n",
       "        </tr>\n",
       "        <tr>\n",
       "            <td>9</td>\n",
       "            <td>不明</td>\n",
       "        </tr>\n",
       "        <tr>\n",
       "            <td>1</td>\n",
       "            <td>女性</td>\n",
       "        </tr>\n",
       "    </tbody>\n",
       "</table>"
      ],
      "text/plain": [
       "[('0', '男性'), ('9', '不明'), ('1', '女性')]"
      ]
     },
     "execution_count": 108,
     "metadata": {},
     "output_type": "execute_result"
    }
   ],
   "source": [
    "%%sql\n",
    "\n",
    "SELECT * FROM gender_std"
   ]
  },
  {
   "cell_type": "markdown",
   "metadata": {},
   "source": [
    "---\n",
    "> S-093: 商品テーブル（product）では各カテゴリのコード値だけを保有し、カテゴリ名は保有していない。カテゴリテーブル（category）と組み合わせて非正規化し、カテゴリ名を保有した新たな商品テーブルを作成せよ。"
   ]
  },
  {
   "cell_type": "code",
   "execution_count": 109,
   "metadata": {},
   "outputs": [
    {
     "name": "stdout",
     "output_type": "stream",
     "text": [
      " * postgresql://padawan:***@db:5432/dsdojo_db\n",
      "Done.\n",
      "10030 rows affected.\n"
     ]
    },
    {
     "data": {
      "text/plain": [
       "[]"
      ]
     },
     "execution_count": 109,
     "metadata": {},
     "output_type": "execute_result"
    }
   ],
   "source": [
    "%%sql\n",
    "\n",
    "DROP TABLE IF EXISTS product_full;\n",
    "CREATE TABLE product_full AS (\n",
    "    SELECT\n",
    "        p.product_cd,\n",
    "        p.category_major_cd,\n",
    "        c.category_major_name,\n",
    "        p.category_medium_cd,\n",
    "        c.category_medium_name,\n",
    "        p.category_small_cd,\n",
    "        c.category_small_name,\n",
    "        p.unit_price,\n",
    "        p.unit_cost\n",
    "    FROM\n",
    "        product p\n",
    "    JOIN\n",
    "        category c\n",
    "    USING(category_small_cd)\n",
    ")"
   ]
  },
  {
   "cell_type": "code",
   "execution_count": 110,
   "metadata": {},
   "outputs": [
    {
     "name": "stdout",
     "output_type": "stream",
     "text": [
      " * postgresql://padawan:***@db:5432/dsdojo_db\n",
      "10 rows affected.\n"
     ]
    },
    {
     "data": {
      "text/html": [
       "<table>\n",
       "    <thead>\n",
       "        <tr>\n",
       "            <th>product_cd</th>\n",
       "            <th>category_major_cd</th>\n",
       "            <th>category_major_name</th>\n",
       "            <th>category_medium_cd</th>\n",
       "            <th>category_medium_name</th>\n",
       "            <th>category_small_cd</th>\n",
       "            <th>category_small_name</th>\n",
       "            <th>unit_price</th>\n",
       "            <th>unit_cost</th>\n",
       "        </tr>\n",
       "    </thead>\n",
       "    <tbody>\n",
       "        <tr>\n",
       "            <td>P040101001</td>\n",
       "            <td>04</td>\n",
       "            <td>惣菜</td>\n",
       "            <td>0401</td>\n",
       "            <td>御飯類</td>\n",
       "            <td>040101</td>\n",
       "            <td>弁当類</td>\n",
       "            <td>198</td>\n",
       "            <td>149</td>\n",
       "        </tr>\n",
       "        <tr>\n",
       "            <td>P040101002</td>\n",
       "            <td>04</td>\n",
       "            <td>惣菜</td>\n",
       "            <td>0401</td>\n",
       "            <td>御飯類</td>\n",
       "            <td>040101</td>\n",
       "            <td>弁当類</td>\n",
       "            <td>218</td>\n",
       "            <td>164</td>\n",
       "        </tr>\n",
       "        <tr>\n",
       "            <td>P040101003</td>\n",
       "            <td>04</td>\n",
       "            <td>惣菜</td>\n",
       "            <td>0401</td>\n",
       "            <td>御飯類</td>\n",
       "            <td>040101</td>\n",
       "            <td>弁当類</td>\n",
       "            <td>230</td>\n",
       "            <td>173</td>\n",
       "        </tr>\n",
       "        <tr>\n",
       "            <td>P040101004</td>\n",
       "            <td>04</td>\n",
       "            <td>惣菜</td>\n",
       "            <td>0401</td>\n",
       "            <td>御飯類</td>\n",
       "            <td>040101</td>\n",
       "            <td>弁当類</td>\n",
       "            <td>248</td>\n",
       "            <td>186</td>\n",
       "        </tr>\n",
       "        <tr>\n",
       "            <td>P040101005</td>\n",
       "            <td>04</td>\n",
       "            <td>惣菜</td>\n",
       "            <td>0401</td>\n",
       "            <td>御飯類</td>\n",
       "            <td>040101</td>\n",
       "            <td>弁当類</td>\n",
       "            <td>268</td>\n",
       "            <td>201</td>\n",
       "        </tr>\n",
       "        <tr>\n",
       "            <td>P040101006</td>\n",
       "            <td>04</td>\n",
       "            <td>惣菜</td>\n",
       "            <td>0401</td>\n",
       "            <td>御飯類</td>\n",
       "            <td>040101</td>\n",
       "            <td>弁当類</td>\n",
       "            <td>298</td>\n",
       "            <td>224</td>\n",
       "        </tr>\n",
       "        <tr>\n",
       "            <td>P040101007</td>\n",
       "            <td>04</td>\n",
       "            <td>惣菜</td>\n",
       "            <td>0401</td>\n",
       "            <td>御飯類</td>\n",
       "            <td>040101</td>\n",
       "            <td>弁当類</td>\n",
       "            <td>338</td>\n",
       "            <td>254</td>\n",
       "        </tr>\n",
       "        <tr>\n",
       "            <td>P040101008</td>\n",
       "            <td>04</td>\n",
       "            <td>惣菜</td>\n",
       "            <td>0401</td>\n",
       "            <td>御飯類</td>\n",
       "            <td>040101</td>\n",
       "            <td>弁当類</td>\n",
       "            <td>420</td>\n",
       "            <td>315</td>\n",
       "        </tr>\n",
       "        <tr>\n",
       "            <td>P040101009</td>\n",
       "            <td>04</td>\n",
       "            <td>惣菜</td>\n",
       "            <td>0401</td>\n",
       "            <td>御飯類</td>\n",
       "            <td>040101</td>\n",
       "            <td>弁当類</td>\n",
       "            <td>498</td>\n",
       "            <td>374</td>\n",
       "        </tr>\n",
       "        <tr>\n",
       "            <td>P040101010</td>\n",
       "            <td>04</td>\n",
       "            <td>惣菜</td>\n",
       "            <td>0401</td>\n",
       "            <td>御飯類</td>\n",
       "            <td>040101</td>\n",
       "            <td>弁当類</td>\n",
       "            <td>580</td>\n",
       "            <td>435</td>\n",
       "        </tr>\n",
       "    </tbody>\n",
       "</table>"
      ],
      "text/plain": [
       "[('P040101001', '04', '惣菜', '0401', '御飯類', '040101', '弁当類', 198, 149),\n",
       " ('P040101002', '04', '惣菜', '0401', '御飯類', '040101', '弁当類', 218, 164),\n",
       " ('P040101003', '04', '惣菜', '0401', '御飯類', '040101', '弁当類', 230, 173),\n",
       " ('P040101004', '04', '惣菜', '0401', '御飯類', '040101', '弁当類', 248, 186),\n",
       " ('P040101005', '04', '惣菜', '0401', '御飯類', '040101', '弁当類', 268, 201),\n",
       " ('P040101006', '04', '惣菜', '0401', '御飯類', '040101', '弁当類', 298, 224),\n",
       " ('P040101007', '04', '惣菜', '0401', '御飯類', '040101', '弁当類', 338, 254),\n",
       " ('P040101008', '04', '惣菜', '0401', '御飯類', '040101', '弁当類', 420, 315),\n",
       " ('P040101009', '04', '惣菜', '0401', '御飯類', '040101', '弁当類', 498, 374),\n",
       " ('P040101010', '04', '惣菜', '0401', '御飯類', '040101', '弁当類', 580, 435)]"
      ]
     },
     "execution_count": 110,
     "metadata": {},
     "output_type": "execute_result"
    }
   ],
   "source": [
    "%%sql\n",
    "\n",
    "SELECT * FROM product_full LIMIT 10"
   ]
  },
  {
   "cell_type": "markdown",
   "metadata": {},
   "source": [
    "---\n",
    "> S-094: 先に作成したカテゴリ名付き商品データを以下の仕様でファイル出力せよ。出力先のパスは'/tmp/data'を指定することでJupyterの/'work/data'と共有されるようになっている。なお、COPYコマンドの権限は付与済みである。\n",
    ">\n",
    "> - ファイル形式はCSV（カンマ区切り）\n",
    "> - ヘッダ有り\n",
    "> - 文字コードはUTF-8"
   ]
  },
  {
   "cell_type": "code",
   "execution_count": 111,
   "metadata": {},
   "outputs": [
    {
     "name": "stdout",
     "output_type": "stream",
     "text": [
      " * postgresql://padawan:***@db:5432/dsdojo_db\n",
      "10030 rows affected.\n"
     ]
    },
    {
     "data": {
      "text/plain": [
       "[]"
      ]
     },
     "execution_count": 111,
     "metadata": {},
     "output_type": "execute_result"
    }
   ],
   "source": [
    "%%sql\n",
    "\n",
    "COPY product_full TO '/tmp/data/S_product_full_UTF-8_header.csv' \n",
    "WITH CSV HEADER encoding 'UTF-8'"
   ]
  },
  {
   "cell_type": "markdown",
   "metadata": {},
   "source": [
    "---\n",
    "> S-095: 先に作成したカテゴリ名付き商品データを以下の仕様でファイル出力せよ。出力先のパスは'/tmp/data'を指定することでJupyterの/'work/data'と共有されるようになっている。なお、COPYコマンドの権限は付与済みである。\n",
    ">\n",
    "> - ファイル形式はCSV（カンマ区切り）\n",
    "> - ヘッダ有り\n",
    "> - 文字コードはSJIS"
   ]
  },
  {
   "cell_type": "code",
   "execution_count": 112,
   "metadata": {},
   "outputs": [
    {
     "name": "stdout",
     "output_type": "stream",
     "text": [
      " * postgresql://padawan:***@db:5432/dsdojo_db\n",
      "10030 rows affected.\n"
     ]
    },
    {
     "data": {
      "text/plain": [
       "[]"
      ]
     },
     "execution_count": 112,
     "metadata": {},
     "output_type": "execute_result"
    }
   ],
   "source": [
    "%%sql\n",
    "\n",
    "COPY product_full TO '/tmp/data/S_product_full_SJIS_header.csv' \n",
    "WITH CSV HEADER encoding 'SJIS'"
   ]
  },
  {
   "cell_type": "markdown",
   "metadata": {},
   "source": [
    "---\n",
    "> S-096: 先に作成したカテゴリ名付き商品データを以下の仕様でファイル出力せよ。出力先のパスは'/tmp/data'を指定することでJupyterの/'work/data'と共有されるようになっている。なお、COPYコマンドの権限は付与済みである。\n",
    ">\n",
    "> - ファイル形式はCSV（カンマ区切り）\n",
    "> - ヘッダ無し\n",
    "> - 文字コードはUTF-8"
   ]
  },
  {
   "cell_type": "code",
   "execution_count": 113,
   "metadata": {},
   "outputs": [
    {
     "name": "stdout",
     "output_type": "stream",
     "text": [
      " * postgresql://padawan:***@db:5432/dsdojo_db\n",
      "10030 rows affected.\n"
     ]
    },
    {
     "data": {
      "text/plain": [
       "[]"
      ]
     },
     "execution_count": 113,
     "metadata": {},
     "output_type": "execute_result"
    }
   ],
   "source": [
    "%%sql\n",
    "\n",
    "COPY product_full TO '/tmp/data/S_product_full_UTF-8_noh.csv' \n",
    "WITH CSV encoding 'UTF-8'"
   ]
  },
  {
   "cell_type": "markdown",
   "metadata": {},
   "source": [
    "---\n",
    "> S-097: 先に作成した以下形式のファイルを読み込み、テーブルを作成せよ。また、先頭3件を表示させ、正しくとりまれていることを確認せよ。\n",
    ">\n",
    "> - ファイル形式はCSV（カンマ区切り）\n",
    "> - ヘッダ有り\n",
    "> - 文字コードはUTF-8"
   ]
  },
  {
   "cell_type": "code",
   "execution_count": 114,
   "metadata": {},
   "outputs": [
    {
     "name": "stdout",
     "output_type": "stream",
     "text": [
      " * postgresql://padawan:***@db:5432/dsdojo_db\n",
      "Done.\n",
      "Done.\n"
     ]
    },
    {
     "data": {
      "text/plain": [
       "[]"
      ]
     },
     "execution_count": 114,
     "metadata": {},
     "output_type": "execute_result"
    }
   ],
   "source": [
    "%%sql\n",
    "\n",
    "DROP TABLE IF EXISTS product_full;\n",
    "CREATE TABLE product_full (\n",
    "        product_cd           VARCHAR(10),\n",
    "        category_major_cd    VARCHAR(2),\n",
    "        category_major_name  VARCHAR(20),\n",
    "        category_medium_cd   VARCHAR(4),\n",
    "        category_medium_name VARCHAR(20),\n",
    "        category_small_cd    VARCHAR(6),\n",
    "        category_small_name  VARCHAR(20),\n",
    "        unit_price           INTEGER,\n",
    "        unit_cost            INTEGER\n",
    ");\n",
    "    "
   ]
  },
  {
   "cell_type": "code",
   "execution_count": 115,
   "metadata": {},
   "outputs": [
    {
     "name": "stdout",
     "output_type": "stream",
     "text": [
      " * postgresql://padawan:***@db:5432/dsdojo_db\n",
      "10030 rows affected.\n"
     ]
    },
    {
     "data": {
      "text/plain": [
       "[]"
      ]
     },
     "execution_count": 115,
     "metadata": {},
     "output_type": "execute_result"
    }
   ],
   "source": [
    "%%sql\n",
    "\n",
    "COPY product_full FROM '/tmp/data/S_product_full_UTF-8_header.csv' \n",
    "WITH CSV HEADER encoding 'UTF-8'"
   ]
  },
  {
   "cell_type": "code",
   "execution_count": 116,
   "metadata": {},
   "outputs": [
    {
     "name": "stdout",
     "output_type": "stream",
     "text": [
      " * postgresql://padawan:***@db:5432/dsdojo_db\n",
      "3 rows affected.\n"
     ]
    },
    {
     "data": {
      "text/html": [
       "<table>\n",
       "    <thead>\n",
       "        <tr>\n",
       "            <th>product_cd</th>\n",
       "            <th>category_major_cd</th>\n",
       "            <th>category_major_name</th>\n",
       "            <th>category_medium_cd</th>\n",
       "            <th>category_medium_name</th>\n",
       "            <th>category_small_cd</th>\n",
       "            <th>category_small_name</th>\n",
       "            <th>unit_price</th>\n",
       "            <th>unit_cost</th>\n",
       "        </tr>\n",
       "    </thead>\n",
       "    <tbody>\n",
       "        <tr>\n",
       "            <td>P040101001</td>\n",
       "            <td>04</td>\n",
       "            <td>惣菜</td>\n",
       "            <td>0401</td>\n",
       "            <td>御飯類</td>\n",
       "            <td>040101</td>\n",
       "            <td>弁当類</td>\n",
       "            <td>198</td>\n",
       "            <td>149</td>\n",
       "        </tr>\n",
       "        <tr>\n",
       "            <td>P040101002</td>\n",
       "            <td>04</td>\n",
       "            <td>惣菜</td>\n",
       "            <td>0401</td>\n",
       "            <td>御飯類</td>\n",
       "            <td>040101</td>\n",
       "            <td>弁当類</td>\n",
       "            <td>218</td>\n",
       "            <td>164</td>\n",
       "        </tr>\n",
       "        <tr>\n",
       "            <td>P040101003</td>\n",
       "            <td>04</td>\n",
       "            <td>惣菜</td>\n",
       "            <td>0401</td>\n",
       "            <td>御飯類</td>\n",
       "            <td>040101</td>\n",
       "            <td>弁当類</td>\n",
       "            <td>230</td>\n",
       "            <td>173</td>\n",
       "        </tr>\n",
       "    </tbody>\n",
       "</table>"
      ],
      "text/plain": [
       "[('P040101001', '04', '惣菜', '0401', '御飯類', '040101', '弁当類', 198, 149),\n",
       " ('P040101002', '04', '惣菜', '0401', '御飯類', '040101', '弁当類', 218, 164),\n",
       " ('P040101003', '04', '惣菜', '0401', '御飯類', '040101', '弁当類', 230, 173)]"
      ]
     },
     "execution_count": 116,
     "metadata": {},
     "output_type": "execute_result"
    }
   ],
   "source": [
    "%%sql\n",
    "\n",
    "SELECT * FROM product_full LIMIT 3"
   ]
  },
  {
   "cell_type": "markdown",
   "metadata": {},
   "source": [
    "---\n",
    "> S-098: 先に作成した以下形式のファイルを読み込み、テーブルを作成せよ。また、先頭3件を表示させ、正しくとりまれていることを確認せよ。\n",
    ">\n",
    "> - ファイル形式はCSV（カンマ区切り）\n",
    "> - ヘッダ無し\n",
    "> - 文字コードはUTF-8"
   ]
  },
  {
   "cell_type": "code",
   "execution_count": 117,
   "metadata": {},
   "outputs": [
    {
     "name": "stdout",
     "output_type": "stream",
     "text": [
      " * postgresql://padawan:***@db:5432/dsdojo_db\n",
      "Done.\n",
      "Done.\n"
     ]
    },
    {
     "data": {
      "text/plain": [
       "[]"
      ]
     },
     "execution_count": 117,
     "metadata": {},
     "output_type": "execute_result"
    }
   ],
   "source": [
    "%%sql\n",
    "\n",
    "DROP TABLE IF EXISTS product_full;\n",
    "CREATE TABLE product_full (\n",
    "        product_cd           VARCHAR(10),\n",
    "        category_major_cd    VARCHAR(2),\n",
    "        category_major_name  VARCHAR(20),\n",
    "        category_medium_cd   VARCHAR(4),\n",
    "        category_medium_name VARCHAR(20),\n",
    "        category_small_cd    VARCHAR(6),\n",
    "        category_small_name  VARCHAR(20),\n",
    "        unit_price           INTEGER,\n",
    "        unit_cost            INTEGER\n",
    ");"
   ]
  },
  {
   "cell_type": "code",
   "execution_count": 118,
   "metadata": {},
   "outputs": [
    {
     "name": "stdout",
     "output_type": "stream",
     "text": [
      " * postgresql://padawan:***@db:5432/dsdojo_db\n",
      "10030 rows affected.\n"
     ]
    },
    {
     "data": {
      "text/plain": [
       "[]"
      ]
     },
     "execution_count": 118,
     "metadata": {},
     "output_type": "execute_result"
    }
   ],
   "source": [
    "%%sql\n",
    "\n",
    "COPY product_full FROM '/tmp/data/S_product_full_UTF-8_noh.csv' \n",
    "WITH CSV encoding 'UTF-8'"
   ]
  },
  {
   "cell_type": "code",
   "execution_count": 119,
   "metadata": {},
   "outputs": [
    {
     "name": "stdout",
     "output_type": "stream",
     "text": [
      " * postgresql://padawan:***@db:5432/dsdojo_db\n",
      "3 rows affected.\n"
     ]
    },
    {
     "data": {
      "text/html": [
       "<table>\n",
       "    <thead>\n",
       "        <tr>\n",
       "            <th>product_cd</th>\n",
       "            <th>category_major_cd</th>\n",
       "            <th>category_major_name</th>\n",
       "            <th>category_medium_cd</th>\n",
       "            <th>category_medium_name</th>\n",
       "            <th>category_small_cd</th>\n",
       "            <th>category_small_name</th>\n",
       "            <th>unit_price</th>\n",
       "            <th>unit_cost</th>\n",
       "        </tr>\n",
       "    </thead>\n",
       "    <tbody>\n",
       "        <tr>\n",
       "            <td>P040101001</td>\n",
       "            <td>04</td>\n",
       "            <td>惣菜</td>\n",
       "            <td>0401</td>\n",
       "            <td>御飯類</td>\n",
       "            <td>040101</td>\n",
       "            <td>弁当類</td>\n",
       "            <td>198</td>\n",
       "            <td>149</td>\n",
       "        </tr>\n",
       "        <tr>\n",
       "            <td>P040101002</td>\n",
       "            <td>04</td>\n",
       "            <td>惣菜</td>\n",
       "            <td>0401</td>\n",
       "            <td>御飯類</td>\n",
       "            <td>040101</td>\n",
       "            <td>弁当類</td>\n",
       "            <td>218</td>\n",
       "            <td>164</td>\n",
       "        </tr>\n",
       "        <tr>\n",
       "            <td>P040101003</td>\n",
       "            <td>04</td>\n",
       "            <td>惣菜</td>\n",
       "            <td>0401</td>\n",
       "            <td>御飯類</td>\n",
       "            <td>040101</td>\n",
       "            <td>弁当類</td>\n",
       "            <td>230</td>\n",
       "            <td>173</td>\n",
       "        </tr>\n",
       "    </tbody>\n",
       "</table>"
      ],
      "text/plain": [
       "[('P040101001', '04', '惣菜', '0401', '御飯類', '040101', '弁当類', 198, 149),\n",
       " ('P040101002', '04', '惣菜', '0401', '御飯類', '040101', '弁当類', 218, 164),\n",
       " ('P040101003', '04', '惣菜', '0401', '御飯類', '040101', '弁当類', 230, 173)]"
      ]
     },
     "execution_count": 119,
     "metadata": {},
     "output_type": "execute_result"
    }
   ],
   "source": [
    "%%sql\n",
    "\n",
    "SELECT * FROM product_full LIMIT 3"
   ]
  },
  {
   "cell_type": "markdown",
   "metadata": {},
   "source": [
    "---\n",
    "> S-099: 先に作成したカテゴリ名付き商品データを以下の仕様でファイル出力せよ。出力先のパスは'/tmp/data'を指定することでJupyterの/'work/data'と共有されるようになっている。なお、COPYコマンドの権限は付与済みである。\n",
    ">\n",
    "> - ファイル形式はTSV（タブ区切り）\n",
    "> - ヘッダ有り\n",
    "> - 文字コードはUTF-8"
   ]
  },
  {
   "cell_type": "code",
   "execution_count": 120,
   "metadata": {},
   "outputs": [
    {
     "name": "stdout",
     "output_type": "stream",
     "text": [
      " * postgresql://padawan:***@db:5432/dsdojo_db\n",
      "10030 rows affected.\n"
     ]
    },
    {
     "data": {
      "text/plain": [
       "[]"
      ]
     },
     "execution_count": 120,
     "metadata": {},
     "output_type": "execute_result"
    }
   ],
   "source": [
    "%%sql\n",
    "\n",
    "COPY product_full TO '/tmp/data/S_product_full_UTF-8_header.tsv' \n",
    "WITH CSV HEADER DELIMITER E'\\t' encoding 'UTF-8'"
   ]
  },
  {
   "cell_type": "markdown",
   "metadata": {},
   "source": [
    "---\n",
    "> S-100: 先に作成した以下形式のファイルを読み込み、テーブルを作成せよ。また、先頭10件を表示させ、正しくとりまれていることを確認せよ。\n",
    ">\n",
    "> - ファイル形式はTSV（タブ区切り）\n",
    "> - ヘッダ有り\n",
    "> - 文字コードはUTF-8"
   ]
  },
  {
   "cell_type": "code",
   "execution_count": 121,
   "metadata": {},
   "outputs": [
    {
     "name": "stdout",
     "output_type": "stream",
     "text": [
      " * postgresql://padawan:***@db:5432/dsdojo_db\n",
      "Done.\n",
      "Done.\n"
     ]
    },
    {
     "data": {
      "text/plain": [
       "[]"
      ]
     },
     "execution_count": 121,
     "metadata": {},
     "output_type": "execute_result"
    }
   ],
   "source": [
    "%%sql\n",
    "\n",
    "DROP TABLE IF EXISTS product_full;\n",
    "CREATE TABLE product_full (\n",
    "        product_cd           VARCHAR(10),\n",
    "        category_major_cd    VARCHAR(2),\n",
    "        category_major_name  VARCHAR(20),\n",
    "        category_medium_cd   VARCHAR(4),\n",
    "        category_medium_name VARCHAR(20),\n",
    "        category_small_cd    VARCHAR(6),\n",
    "        category_small_name  VARCHAR(20),\n",
    "        unit_price           INTEGER,\n",
    "        unit_cost            INTEGER\n",
    ");"
   ]
  },
  {
   "cell_type": "code",
   "execution_count": 122,
   "metadata": {},
   "outputs": [
    {
     "name": "stdout",
     "output_type": "stream",
     "text": [
      " * postgresql://padawan:***@db:5432/dsdojo_db\n",
      "10030 rows affected.\n"
     ]
    },
    {
     "data": {
      "text/plain": [
       "[]"
      ]
     },
     "execution_count": 122,
     "metadata": {},
     "output_type": "execute_result"
    }
   ],
   "source": [
    "%%sql\n",
    "\n",
    "COPY product_full FROM '/tmp/data/S_product_full_UTF-8_header.tsv' \n",
    "WITH CSV HEADER DELIMITER E'\\t' encoding 'UTF-8'"
   ]
  },
  {
   "cell_type": "code",
   "execution_count": 123,
   "metadata": {},
   "outputs": [
    {
     "name": "stdout",
     "output_type": "stream",
     "text": [
      " * postgresql://padawan:***@db:5432/dsdojo_db\n",
      "3 rows affected.\n"
     ]
    },
    {
     "data": {
      "text/html": [
       "<table>\n",
       "    <thead>\n",
       "        <tr>\n",
       "            <th>product_cd</th>\n",
       "            <th>category_major_cd</th>\n",
       "            <th>category_major_name</th>\n",
       "            <th>category_medium_cd</th>\n",
       "            <th>category_medium_name</th>\n",
       "            <th>category_small_cd</th>\n",
       "            <th>category_small_name</th>\n",
       "            <th>unit_price</th>\n",
       "            <th>unit_cost</th>\n",
       "        </tr>\n",
       "    </thead>\n",
       "    <tbody>\n",
       "        <tr>\n",
       "            <td>P040101001</td>\n",
       "            <td>04</td>\n",
       "            <td>惣菜</td>\n",
       "            <td>0401</td>\n",
       "            <td>御飯類</td>\n",
       "            <td>040101</td>\n",
       "            <td>弁当類</td>\n",
       "            <td>198</td>\n",
       "            <td>149</td>\n",
       "        </tr>\n",
       "        <tr>\n",
       "            <td>P040101002</td>\n",
       "            <td>04</td>\n",
       "            <td>惣菜</td>\n",
       "            <td>0401</td>\n",
       "            <td>御飯類</td>\n",
       "            <td>040101</td>\n",
       "            <td>弁当類</td>\n",
       "            <td>218</td>\n",
       "            <td>164</td>\n",
       "        </tr>\n",
       "        <tr>\n",
       "            <td>P040101003</td>\n",
       "            <td>04</td>\n",
       "            <td>惣菜</td>\n",
       "            <td>0401</td>\n",
       "            <td>御飯類</td>\n",
       "            <td>040101</td>\n",
       "            <td>弁当類</td>\n",
       "            <td>230</td>\n",
       "            <td>173</td>\n",
       "        </tr>\n",
       "    </tbody>\n",
       "</table>"
      ],
      "text/plain": [
       "[('P040101001', '04', '惣菜', '0401', '御飯類', '040101', '弁当類', 198, 149),\n",
       " ('P040101002', '04', '惣菜', '0401', '御飯類', '040101', '弁当類', 218, 164),\n",
       " ('P040101003', '04', '惣菜', '0401', '御飯類', '040101', '弁当類', 230, 173)]"
      ]
     },
     "execution_count": 123,
     "metadata": {},
     "output_type": "execute_result"
    }
   ],
   "source": [
    "%%sql\n",
    "\n",
    "SELECT * FROM product_full LIMIT 3"
   ]
  },
  {
   "cell_type": "markdown",
   "metadata": {},
   "source": [
    "# これで１００本終わりです。おつかれさまでした！"
   ]
  }
 ],
 "metadata": {
  "kernelspec": {
   "display_name": "Python 3 (ipykernel)",
   "language": "python",
   "name": "python3"
  },
  "language_info": {
   "codemirror_mode": {
    "name": "ipython",
    "version": 3
   },
   "file_extension": ".py",
   "mimetype": "text/x-python",
   "name": "python",
   "nbconvert_exporter": "python",
   "pygments_lexer": "ipython3",
   "version": "3.9.6"
  }
 },
 "nbformat": 4,
 "nbformat_minor": 4
}
